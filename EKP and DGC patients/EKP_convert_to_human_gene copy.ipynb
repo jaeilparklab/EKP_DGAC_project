{
 "cells": [
  {
   "cell_type": "code",
   "execution_count": null,
   "id": "181efeea-2c25-4991-9fd8-232f68dd5028",
   "metadata": {},
   "outputs": [],
   "source": [
    "import numpy as np\n",
    "import pandas as pd\n",
    "import scanpy as sc\n",
    "import scanpy.external as sce\n",
    "import scipy\n",
    "sc.settings.verbosity = 3\n",
    "sc.logging.print_header()\n",
    "sc.set_figure_params(dpi=100, dpi_save=600)\n",
    "    \n",
    "import scvelo as scv\n",
    "scv.settings.verbosity = 3\n",
    "scv.settings.presenter_view = True\n",
    "scv.logging.print_versions()\n",
    "\n",
    "import matplotlib.pyplot as pl\n",
    "from matplotlib import rcParams"
   ]
  },
  {
   "cell_type": "code",
   "execution_count": null,
   "id": "02cd0f55",
   "metadata": {},
   "outputs": [],
   "source": [
    "import os\n",
    "os.chdir('/Users/gzou/OneDrive - Inside MD Anderson/Gengyi_MSO/convert_to_human_gene')"
   ]
  },
  {
   "cell_type": "code",
   "execution_count": null,
   "id": "bdf66566-47e6-4622-8841-da435468559a",
   "metadata": {},
   "outputs": [],
   "source": [
    "EKP = sc.read('/Users/gzou/OneDrive - Inside MD Anderson/Gengyi_MSO/MSO_matrix/EKP/EKP_raw_after_Scrublet.h5ad')   "
   ]
  },
  {
   "cell_type": "code",
   "execution_count": null,
   "id": "9e450aa2-2664-434e-ab5e-986d318b0765",
   "metadata": {},
   "outputs": [],
   "source": [
    "EKP"
   ]
  },
  {
   "cell_type": "code",
   "execution_count": null,
   "id": "98ed7855-4ce6-4bca-84d4-0b42919b6f12",
   "metadata": {},
   "outputs": [],
   "source": [
    "EKP.var_names_make_unique()\n",
    "EKP"
   ]
  },
  {
   "cell_type": "code",
   "execution_count": null,
   "id": "985d8dc5-ef6c-40f5-84fd-6a251c1cfe14",
   "metadata": {},
   "outputs": [],
   "source": [
    "EKP.var.to_csv('/Users/gzou/OneDrive - Inside MD Anderson/Gengyi_MSO/convert_to_human_gene/EKP_var.csv')"
   ]
  },
  {
   "cell_type": "code",
   "execution_count": null,
   "id": "e98a0570-94b4-4933-9a90-34740c70cc4f",
   "metadata": {},
   "outputs": [],
   "source": [
    "# convert mouse gene symbol of adata.var to human gene symbol, run below codes in R\n",
    "    # library(biomaRt)\n",
    "\n",
    "    # human <- useEnsembl(biomart = \"genes\", dataset = \"hsapiens_gene_ensembl\", host = \"https://dec2021.archive.ensembl.org/\")\n",
    "    # mouse <- useEnsembl(biomart = \"genes\", dataset = \"mmusculus_gene_ensembl\", host = \"https://dec2021.archive.ensembl.org/\")\n",
    "    # GeneMatrix=read.csv(file=\"C:/Users/hyjfo/Documents/var.csv\", header = TRUE, sep = \",\", quote = \"\\\"\")\n",
    "    # mouse_gene <- GeneMatrix[,1]\n",
    "    # human_gene <- getLDS(attributes = c(\"mgi_symbol\"), filters = \"mgi_symbol\", values = mouse_gene, mart = mouse, attributesL = c(\"hgnc_symbol\"), martL = human, uniqueRows=TRUE)\n",
    "    # head(human_gene)\n",
    "\n",
    "    # human_gene <- human_gene[!(human_gene$HGNC.symbol==\"\"),]    # remove rows with empty human gene\n",
    "    # human_gene <- human_gene[!duplicated(human_gene$MGI.symbol),]    # remove rows with duplicated mouse gene\n",
    "    # human_gene <- human_gene[!duplicated(human_gene$HGNC.symbol),]    # remove rows with duplicated human gene\n",
    "\n",
    "    # class(GeneMatrix)\n",
    "    # GeneMatrix_df<- as.data.frame(GeneMatrix)\n",
    "    # class(GeneMatrix_df)\n",
    "\n",
    "    # GeneMatrix_new <- GeneMatrix_df\n",
    "    # GeneMatrix_new$genes <- human_gene$HGNC.symbol[match(GeneMatrix_df[,1], human_gene$MGI.symbol)]    # copy gene symbols to gene expression matrix, matching gene symbol\n",
    "    # write.csv(GeneMatrix_new, file=\"C:/Users/hyjfo/Documents/GeneMatrix_new.csv\", sep = \",\", row.names=TRUE, col.names = TRUE)    # gene matrix with gene_symbol"
   ]
  },
  {
   "cell_type": "code",
   "execution_count": null,
   "id": "1d0d1c0a-8884-4eee-8522-9d07c7e5511a",
   "metadata": {},
   "outputs": [],
   "source": [
    "Converted_genes=pd.read_csv('/Users/gzou/OneDrive - Inside MD Anderson/Gengyi_MSO/convert_to_human_gene/EKP_GeneMatrix_new.csv', header='infer', index_col='X')\n",
    "Converted_genes"
   ]
  },
  {
   "cell_type": "code",
   "execution_count": null,
   "id": "1e4dc7b1-cf09-4d2d-bf9f-ba385e951499",
   "metadata": {},
   "outputs": [],
   "source": [
    "EKP.var['genes']=Converted_genes['genes']\n",
    "EKP.var['genes']"
   ]
  },
  {
   "cell_type": "code",
   "execution_count": null,
   "id": "d1c80165-4438-4a07-9021-c444aa2c1a5f",
   "metadata": {},
   "outputs": [],
   "source": [
    "# set the converted genes as index\n",
    "EKP.var.index=EKP.var['genes']"
   ]
  },
  {
   "cell_type": "code",
   "execution_count": null,
   "id": "1d233056-de94-4fbf-82bc-2c1725cbd5d8",
   "metadata": {},
   "outputs": [],
   "source": [
    "# remove NaN genes\n",
    "EKP = EKP[:, EKP.var.index.notna()].copy()\n",
    "EKP"
   ]
  },
  {
   "cell_type": "code",
   "execution_count": null,
   "id": "e6f399af",
   "metadata": {},
   "outputs": [],
   "source": [
    "mouse.var"
   ]
  },
  {
   "cell_type": "code",
   "execution_count": null,
   "id": "96684abf",
   "metadata": {},
   "outputs": [],
   "source": [
    "MSO.write(\"MSO_converted_to_human.h5ad\")"
   ]
  },
  {
   "cell_type": "code",
   "execution_count": null,
   "id": "413abea4",
   "metadata": {},
   "outputs": [],
   "source": [
    "MSO_human = sc.read(\"MSO_converted_to_human_raw.h5ad\")\n",
    "MSO_human"
   ]
  },
  {
   "cell_type": "code",
   "execution_count": null,
   "id": "b45c7c66-99e2-4d12-8c0c-32f258404ab3",
   "metadata": {},
   "outputs": [],
   "source": []
  }
 ],
 "metadata": {
  "kernelspec": {
   "display_name": "Python 3 (ipykernel)",
   "language": "python",
   "name": "python3"
  },
  "language_info": {
   "codemirror_mode": {
    "name": "ipython",
    "version": 3
   },
   "file_extension": ".py",
   "mimetype": "text/x-python",
   "name": "python",
   "nbconvert_exporter": "python",
   "pygments_lexer": "ipython3",
   "version": "3.8.13"
  }
 },
 "nbformat": 4,
 "nbformat_minor": 5
}
