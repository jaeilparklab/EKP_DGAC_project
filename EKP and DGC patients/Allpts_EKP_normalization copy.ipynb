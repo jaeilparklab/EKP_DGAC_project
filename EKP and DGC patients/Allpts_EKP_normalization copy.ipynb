{
 "cells": [
  {
   "cell_type": "code",
   "execution_count": null,
   "id": "9071fc0c-f1fa-4c62-b9e9-9f8982e48505",
   "metadata": {},
   "outputs": [],
   "source": [
    "import numpy as np\n",
    "import pandas as pd\n",
    "import scanpy as sc\n",
    "import scanpy.external as sce\n",
    "import scipy\n",
    "sc.settings.verbosity = 3\n",
    "sc.logging.print_header()\n",
    "sc.set_figure_params(dpi=100, dpi_save=600)\n",
    "    \n",
    "import scvelo as scv\n",
    "scv.settings.verbosity = 3\n",
    "scv.settings.presenter_view = True\n",
    "scv.logging.print_versions()\n",
    "\n",
    "import cellrank as cr\n",
    "cr.settings.verbosity = 3\n",
    "cr.logging.print_versions()\n",
    "\n",
    "import matplotlib.pyplot as pl\n",
    "from matplotlib import rcParams"
   ]
  },
  {
   "cell_type": "code",
   "execution_count": null,
   "id": "5d960e31-2c9a-4c94-b7df-295c96f67cae",
   "metadata": {},
   "outputs": [],
   "source": [
    "import os\n",
    "os.chdir('/Users/gzou/OneDrive - Inside MD Anderson/GSE150290_GCandNT/All pts and 29 normal and EKP')"
   ]
  },
  {
   "cell_type": "code",
   "execution_count": null,
   "id": "86264357-16df-40f7-a7a2-a35eb3597cdc",
   "metadata": {
    "tags": []
   },
   "outputs": [],
   "source": [
    "EKP_human = sc.read('/Users/gzou/OneDrive - Inside MD Anderson/Gengyi_MSO/convert_to_human_gene/EKP_converted_to_human_raw.h5ad')\n",
    "del EKP_human.obs['predicted_doublets']\n",
    "EKP_human"
   ]
  },
  {
   "cell_type": "code",
   "execution_count": null,
   "id": "34c90eae-042f-4e6c-9a32-c6f7e3564d93",
   "metadata": {},
   "outputs": [],
   "source": [
    "IP_007 = sc.read_10x_mtx('/Users/gzou/OneDrive - Inside MD Anderson/SC33-Harada dataset/IP-007/filtered_feature_bc_matrix_SoupX_out',\n",
    "                            var_names='gene_symbols', cache=True)\n",
    "IP_007"
   ]
  },
  {
   "cell_type": "code",
   "execution_count": null,
   "id": "2e3b6279-27c8-4781-9c15-c349aa4de695",
   "metadata": {},
   "outputs": [],
   "source": [
    "IP_009_1 = sc.read_10x_mtx('/Users/gzou/OneDrive - Inside MD Anderson/SC33-Harada dataset/IP-009-1/filtered_feature_bc_matrix_SoupX_out',\n",
    "                            var_names='gene_symbols', cache=True)\n",
    "IP_009_1"
   ]
  },
  {
   "cell_type": "code",
   "execution_count": null,
   "id": "9269c8ee-73f5-4a0c-a1c0-966f717ed021",
   "metadata": {},
   "outputs": [],
   "source": [
    "IP_010_2 = sc.read_10x_mtx('/Users/gzou/OneDrive - Inside MD Anderson/SC33-Harada dataset/IP-010-2/filtered_feature_bc_matrix_SoupX_out',\n",
    "                            var_names='gene_symbols', cache=True)\n",
    "IP_010_2"
   ]
  },
  {
   "cell_type": "code",
   "execution_count": null,
   "id": "880a0c64-de59-4d83-ad21-7c7eefd4279b",
   "metadata": {},
   "outputs": [],
   "source": [
    "IP_031 = sc.read_10x_mtx('/Users/gzou/OneDrive - Inside MD Anderson/SC33-Harada dataset/IP-031/filtered_feature_bc_matrix_SoupX_out',\n",
    "                            var_names='gene_symbols', cache=True)\n",
    "IP_031"
   ]
  },
  {
   "cell_type": "code",
   "execution_count": null,
   "id": "e76597a6-d817-4ca1-b1b7-f13b6a227dc8",
   "metadata": {},
   "outputs": [],
   "source": [
    "IP_051 = sc.read_10x_mtx('/Users/gzou/OneDrive - Inside MD Anderson/SC33-Harada dataset/IP-051/filtered_feature_bc_matrix_SoupX_out',\n",
    "                            var_names='gene_symbols', cache=True)\n",
    "IP_051"
   ]
  },
  {
   "cell_type": "code",
   "execution_count": null,
   "id": "a0ed0663-daad-48ae-a04e-0cfe74761382",
   "metadata": {},
   "outputs": [],
   "source": [
    "IP_056 = sc.read_10x_mtx('/Users/gzou/OneDrive - Inside MD Anderson/SC33-Harada dataset/IP-056/filtered_feature_bc_matrix_SoupX_out',\n",
    "                            var_names='gene_symbols', cache=True)\n",
    "IP_056"
   ]
  },
  {
   "cell_type": "code",
   "execution_count": null,
   "id": "7fc2e7a9-a95c-4f6e-8838-a0d60d8e9c2e",
   "metadata": {},
   "outputs": [],
   "source": [
    "IP_057 = sc.read_10x_mtx('/Users/gzou/OneDrive - Inside MD Anderson/SC33-Harada dataset/IP-057/filtered_feature_bc_matrix_SoupX_out',\n",
    "                            var_names='gene_symbols', cache=True)\n",
    "IP_057"
   ]
  },
  {
   "cell_type": "code",
   "execution_count": null,
   "id": "ec43578b-c243-47e6-bf11-9db0f4a57cf1",
   "metadata": {},
   "outputs": [],
   "source": [
    "IP_062 = sc.read_10x_mtx('/Users/gzou/OneDrive - Inside MD Anderson/SC33-Harada dataset/IP-062/filtered_feature_bc_matrix_SoupX_out',\n",
    "                            var_names='gene_symbols', cache=True)\n",
    "IP_062"
   ]
  },
  {
   "cell_type": "code",
   "execution_count": null,
   "id": "4dded313-a86a-422f-ba7d-2a19b4014fc2",
   "metadata": {},
   "outputs": [],
   "source": [
    "IP_067_1 = sc.read_10x_mtx('/Users/gzou/OneDrive - Inside MD Anderson/SC33-Harada dataset/IP-067-1/filtered_feature_bc_matrix_SoupX_out',\n",
    "                            var_names='gene_symbols', cache=True)\n",
    "IP_067_1"
   ]
  },
  {
   "cell_type": "code",
   "execution_count": null,
   "id": "a5a3cbe6-4595-4bba-8b2b-d4f5708c60f8",
   "metadata": {},
   "outputs": [],
   "source": [
    "IP_070 = sc.read_10x_mtx('/Users/gzou/OneDrive - Inside MD Anderson/SC33-Harada dataset/IP-070/filtered_feature_bc_matrix_SoupX_out',\n",
    "                            var_names='gene_symbols', cache=True)\n",
    "IP_070"
   ]
  },
  {
   "cell_type": "code",
   "execution_count": null,
   "id": "5760bd64-f802-46dd-9585-67ce7cc04644",
   "metadata": {},
   "outputs": [],
   "source": [
    "IP_072 = sc.read_10x_mtx('/Users/gzou/OneDrive - Inside MD Anderson/SC33-Harada dataset/IP-072/filtered_feature_bc_matrix_SoupX_out',\n",
    "                            var_names='gene_symbols', cache=True)\n",
    "IP_072"
   ]
  },
  {
   "cell_type": "code",
   "execution_count": null,
   "id": "2d716826-a2c2-4384-a1c0-5141ec73be83",
   "metadata": {},
   "outputs": [],
   "source": [
    "IP_073_1 = sc.read_10x_mtx('/Users/gzou/OneDrive - Inside MD Anderson/SC33-Harada dataset/IP-073-1/filtered_feature_bc_matrix_SoupX_out',\n",
    "                            var_names='gene_symbols', cache=True)\n",
    "IP_073_1"
   ]
  },
  {
   "cell_type": "code",
   "execution_count": null,
   "id": "b8f40e98-6cd3-42dc-917f-86392bef1a41",
   "metadata": {},
   "outputs": [],
   "source": [
    "IP_081 = sc.read_10x_mtx('/Users/gzou/OneDrive - Inside MD Anderson/SC33-Harada dataset/IP-081/filtered_feature_bc_matrix_SoupX_out',\n",
    "                            var_names='gene_symbols', cache=True)\n",
    "IP_081"
   ]
  },
  {
   "cell_type": "code",
   "execution_count": null,
   "id": "7573da20-8321-4188-8c3e-6b4bf37be106",
   "metadata": {},
   "outputs": [],
   "source": [
    "IP_093 = sc.read_10x_mtx('/Users/gzou/OneDrive - Inside MD Anderson/SC33-Harada dataset/IP-093/filtered_feature_bc_matrix_SoupX_out',\n",
    "                            var_names='gene_symbols', cache=True)\n",
    "IP_093"
   ]
  },
  {
   "cell_type": "code",
   "execution_count": null,
   "id": "be837c6d-f1b1-42d9-986b-ba608377e052",
   "metadata": {},
   "outputs": [],
   "source": [
    "IP_107_2 = sc.read_10x_mtx('/Users/gzou/OneDrive - Inside MD Anderson/SC33-Harada dataset/IP-107-2/filtered_feature_bc_matrix_SoupX_out',\n",
    "                            var_names='gene_symbols', cache=True)\n",
    "IP_107_2"
   ]
  },
  {
   "cell_type": "code",
   "execution_count": null,
   "id": "6b360c1e-dbb0-450b-8730-63eb15f585e7",
   "metadata": {},
   "outputs": [],
   "source": [
    "IP_109 = sc.read_10x_mtx('/Users/gzou/OneDrive - Inside MD Anderson/SC33-Harada dataset/IP-109/filtered_feature_bc_matrix_SoupX_out',\n",
    "                            var_names='gene_symbols', cache=True)\n",
    "IP_109"
   ]
  },
  {
   "cell_type": "code",
   "execution_count": null,
   "id": "5f971ae0-5aef-4f63-9cf7-45cd5ee43871",
   "metadata": {},
   "outputs": [],
   "source": [
    "IP_114_1 = sc.read_10x_mtx('/Users/gzou/OneDrive - Inside MD Anderson/SC33-Harada dataset/IP-114-1/filtered_feature_bc_matrix_SoupX_out',\n",
    "                            var_names='gene_symbols', cache=True)\n",
    "IP_114_1"
   ]
  },
  {
   "cell_type": "code",
   "execution_count": null,
   "id": "a032ce78-5033-4a97-b1b8-3d4ca45c34b3",
   "metadata": {},
   "outputs": [],
   "source": [
    "IP_116 = sc.read_10x_mtx('/Users/gzou/OneDrive - Inside MD Anderson/SC33-Harada dataset/IP-116/filtered_feature_bc_matrix_SoupX_out',\n",
    "                            var_names='gene_symbols', cache=True)\n",
    "IP_116"
   ]
  },
  {
   "cell_type": "code",
   "execution_count": null,
   "id": "7f3da338-c195-4109-a12e-220478983f0f",
   "metadata": {},
   "outputs": [],
   "source": [
    "IP_124 = sc.read_10x_mtx('/Users/gzou/OneDrive - Inside MD Anderson/SC33-Harada dataset/IP-124/filtered_feature_bc_matrix_SoupX_out',\n",
    "                            var_names='gene_symbols', cache=True)\n",
    "IP_124"
   ]
  },
  {
   "cell_type": "code",
   "execution_count": null,
   "id": "924b9e5e-3dd3-49ad-89d7-c080fae40916",
   "metadata": {},
   "outputs": [],
   "source": [
    "IP_158 = sc.read_10x_mtx('/Users/gzou/OneDrive - Inside MD Anderson/SC33-Harada dataset/IP-158/filtered_feature_bc_matrix_SoupX_out',\n",
    "                            var_names='gene_symbols', cache=True)\n",
    "IP_158"
   ]
  },
  {
   "cell_type": "code",
   "execution_count": null,
   "id": "9ad04049-3337-41c9-9f67-f57f1c26e1d4",
   "metadata": {},
   "outputs": [],
   "source": [
    "DGC = EKP_human.concatenate(IP_007,IP_009_1,IP_010_2,IP_031,IP_051,IP_056,IP_057,IP_062,IP_067_1,IP_070,IP_072,IP_073_1,IP_081,IP_093,IP_107_2,IP_109,IP_114_1,IP_116,IP_124,IP_158,\n",
    "                           batch_categories=['EKP_human','IP_007','IP_009_1','IP_010_2','IP_031','IP_051','IP_056','IP_057','IP_062','IP_067_1','IP_070','IP_072','IP_073_1','IP_081','IP_093','IP_107_2','IP_109','IP_114_1','IP_116','IP_124','IP_158'])\n",
    "DGC"
   ]
  },
  {
   "cell_type": "code",
   "execution_count": null,
   "id": "d86442e9-ddad-4a11-af96-06cb3d5bfbcf",
   "metadata": {
    "tags": []
   },
   "outputs": [],
   "source": [
    "DGC.write('/Users/gzou/OneDrive - Inside MD Anderson/GSE150290_GCandNT/All pts and 29 normal and EKP/allpts_EKP_raw.h5ad', compression='gzip')\n",
    "\n"
   ]
  },
  {
   "cell_type": "code",
   "execution_count": null,
   "id": "4f0efba4-3cc0-406e-80ee-de945d829713",
   "metadata": {
    "tags": []
   },
   "outputs": [],
   "source": [
    "DGC=sc.read('/Users/gzou/OneDrive - Inside MD Anderson/GSE150290_GCandNT/All pts and 29 normal and EKP/allpts_EKP_raw.h5ad')"
   ]
  },
  {
   "cell_type": "code",
   "execution_count": null,
   "id": "821fa6af-0b53-45f0-9422-ba03008e6f29",
   "metadata": {},
   "outputs": [],
   "source": [
    "sc.pl.highest_expr_genes(DGC, n_top=20)\n",
    "sc.pp.filter_cells(DGC, min_genes=100)\n",
    "sc.pp.filter_genes(DGC, min_cells=25)"
   ]
  },
  {
   "cell_type": "code",
   "execution_count": null,
   "id": "9a749807-a263-4a9e-b529-138020b10f88",
   "metadata": {},
   "outputs": [],
   "source": [
    "DGC.var['mt'] = DGC.var_names.str.startswith('MT-')\n",
    "DGC.var['rpl'] = DGC.var_names.str.startswith('RPL')\n",
    "DGC.var['rps'] = DGC.var_names.str.startswith('RPS')\n",
    "DGC"
   ]
  },
  {
   "cell_type": "code",
   "execution_count": null,
   "id": "3e3439a8-5fee-405e-81dc-02d999b4e5b0",
   "metadata": {},
   "outputs": [],
   "source": [
    "sc.pp.calculate_qc_metrics(DGC, qc_vars=['mt','rpl','rps'], percent_top=None, log1p=False, inplace=True)\n",
    "sc.pl.violin(DGC, keys=['n_genes_by_counts', 'total_counts', 'pct_counts_mt','pct_counts_rpl','pct_counts_rps'], jitter=0.4, multi_panel=True)\n",
    "DGC"
   ]
  },
  {
   "cell_type": "code",
   "execution_count": null,
   "id": "ca9343da-5748-4098-b073-70e0806ce98d",
   "metadata": {},
   "outputs": [],
   "source": [
    "sc.pl.scatter(DGC, x='total_counts', y='pct_counts_mt')\n",
    "sc.pl.scatter(DGC, x='total_counts', y='pct_counts_rpl')\n",
    "sc.pl.scatter(DGC, x='total_counts', y='pct_counts_rps')\n",
    "sc.pl.scatter(DGC, x='total_counts', y='n_genes_by_counts')"
   ]
  },
  {
   "cell_type": "code",
   "execution_count": null,
   "id": "456a0852-9fc2-4e7c-a37e-8a4f74d75496",
   "metadata": {},
   "outputs": [],
   "source": [
    "DGC = DGC[DGC.obs.n_genes_by_counts < 8000, :]\n",
    "DGC = DGC[DGC.obs.pct_counts_mt < 80, :]\n",
    "DGC = DGC[DGC.obs.pct_counts_rpl < 30, :]\n",
    "DGC = DGC[DGC.obs.pct_counts_rps < 25, :]\n",
    "DGC"
   ]
  },
  {
   "cell_type": "code",
   "execution_count": null,
   "id": "48e54e89-84e0-474c-b28b-582fc6ca33bd",
   "metadata": {},
   "outputs": [],
   "source": [
    "sc.pp.normalize_total(DGC, target_sum=1e4)\n",
    "sc.pp.log1p(DGC)\n",
    "DGC"
   ]
  },
  {
   "cell_type": "code",
   "execution_count": null,
   "id": "326f8f5c-5ed1-45bf-b902-627e23a7f0e8",
   "metadata": {},
   "outputs": [],
   "source": [
    "sc.pp.highly_variable_genes(DGC, n_top_genes=5000)\n",
    "sc.pl.highly_variable_genes(DGC)\n",
    "print(sum(DGC.var.highly_variable))\n",
    "DGC"
   ]
  },
  {
   "cell_type": "code",
   "execution_count": null,
   "id": "37114323-59b9-4968-8929-98365c49788a",
   "metadata": {},
   "outputs": [],
   "source": [
    "DGC.raw=DGC"
   ]
  },
  {
   "cell_type": "code",
   "execution_count": null,
   "id": "fbcd1c5c-52b9-4f0f-9a24-5cad142ed53e",
   "metadata": {},
   "outputs": [],
   "source": [
    "DGC = DGC[:, DGC.var.highly_variable]\n",
    "DGC"
   ]
  },
  {
   "cell_type": "code",
   "execution_count": null,
   "id": "8cc57c21-7edf-4968-a53e-16950ee2f70a",
   "metadata": {},
   "outputs": [],
   "source": [
    "sc.pp.regress_out(DGC, keys=['total_counts', 'pct_counts_mt','pct_counts_rpl','pct_counts_rps'], n_jobs=16)\n",
    "sc.pp.scale(DGC, max_value=10)\n",
    "DGC"
   ]
  },
  {
   "cell_type": "code",
   "execution_count": null,
   "id": "eaf86c34-28dd-4503-870f-bc0613059f26",
   "metadata": {},
   "outputs": [],
   "source": [
    "sc.tl.pca(DGC, svd_solver='arpack')\n",
    "sce.pp.harmony_integrate(DGC, key='batch', basis='X_pca', adjusted_basis='X_pca_harmony')\n",
    "DGC.obsm['X_pca']=DGC.obsm['X_pca_harmony']\n",
    "sc.pp.neighbors(DGC, n_neighbors=15, n_pcs=50, knn=True)\n",
    "sc.tl.leiden(DGC, resolution=1)\n",
    "sc.tl.umap(DGC)\n",
    "DGC"
   ]
  },
  {
   "cell_type": "code",
   "execution_count": null,
   "id": "f2f24a05-5156-42f7-9751-328a69225b81",
   "metadata": {},
   "outputs": [],
   "source": [
    "DGC.obs['leiden_1']=DGC.obs['leiden']\n",
    "DGC.rename_categories('leiden_1',['1', '2', '3', '4', '5', '6','7', '8', '9', '10', '11', '12', '13','14', '15', '16','17', '18', '19', '20', '21', '22', '23', '24','25','26','27'])"
   ]
  },
  {
   "cell_type": "code",
   "execution_count": null,
   "id": "69171d70-e7b8-401c-99f1-a257b857c2db",
   "metadata": {},
   "outputs": [],
   "source": [
    "sc.pl.umap(DGC, color=['leiden_1'], legend_loc='right margin', frameon=False, title='', use_raw=True, save='DGC')\n",
    "sc.pl.umap(DGC, color=['leiden_1'], legend_loc='on data', frameon=False, title='', use_raw=True, save='DGC_ondata')\n"
   ]
  },
  {
   "cell_type": "code",
   "execution_count": null,
   "id": "e40796b9-5aaf-4a34-a677-0d276fa09a5b",
   "metadata": {},
   "outputs": [],
   "source": [
    "sc.pl.umap(DGC, color=['batch'], palette='hsv',legend_loc='right margin', frameon=False, title='', use_raw=True, save='DGC_by_batch')\n"
   ]
  },
  {
   "cell_type": "code",
   "execution_count": null,
   "id": "c9054ab8-8d27-4f65-9926-9d150d94372d",
   "metadata": {},
   "outputs": [],
   "source": [
    "sc.pl.dotplot(DGC, var_names=['CD2','CD3D', 'CD3E', 'CD3G','CD4','CD8A'], groupby='leiden_1', use_raw=True, var_group_rotation=0,\n",
    "              vmin=0,swap_axes=True, dot_min=0, save='DGC_T cell')"
   ]
  },
  {
   "cell_type": "code",
   "execution_count": null,
   "id": "3d945913-936f-4693-bea0-5788ecc1e45b",
   "metadata": {
    "tags": []
   },
   "outputs": [],
   "source": [
    "#sc.pl.dotplot(adata, var_names=['NKG7', 'NCR1','KLRC1','KLRD1'], groupby='leiden_1', use_raw=True, var_group_rotation=0,\n",
    "#              vmin=0,swap_axes=True, dot_min=0, save='NK cell')"
   ]
  },
  {
   "cell_type": "code",
   "execution_count": null,
   "id": "8143b41f-4676-424f-ba22-da41e0e6f236",
   "metadata": {
    "tags": []
   },
   "outputs": [],
   "source": [
    "#sc.pl.dotplot(adata, var_names=['CD8A'], groupby='leiden_1', use_raw=True, var_group_rotation=0,\n",
    "#              vmin=0,swap_axes=True, dot_min=0, save='CD8 Tcell')"
   ]
  },
  {
   "cell_type": "code",
   "execution_count": null,
   "id": "c2b7c279-5f9b-43f0-8316-5a5650d9996a",
   "metadata": {
    "tags": []
   },
   "outputs": [],
   "source": [
    "#sc.pl.dotplot(adata, var_names=['CD4'], groupby='leiden_1', use_raw=True, var_group_rotation=0,\n",
    "#              vmin=0,swap_axes=True, dot_min=0, save='CD4 Tcell')"
   ]
  },
  {
   "cell_type": "code",
   "execution_count": null,
   "id": "50a4a3c1-a331-40c8-ab07-5cc95586501a",
   "metadata": {},
   "outputs": [],
   "source": [
    "sc.pl.dotplot(DGC, var_names=['NKG7','GZMA','GZMB','GZMK'], groupby='leiden_1', use_raw=True, var_group_rotation=0,\n",
    "              vmin=0,swap_axes=True, dot_min=0, save='DGC_CD8+ effector T cell')"
   ]
  },
  {
   "cell_type": "code",
   "execution_count": null,
   "id": "9a31991c-4108-45e6-a7ac-17205e238f5e",
   "metadata": {},
   "outputs": [],
   "source": [
    "sc.pl.dotplot(DGC, var_names=['CCR7','LEF1','IL7R','SELL'], groupby='leiden_1', use_raw=True, var_group_rotation=0,\n",
    "              vmin=0,swap_axes=True, dot_min=0, save='DGC_Naive T cell')"
   ]
  },
  {
   "cell_type": "code",
   "execution_count": null,
   "id": "079b154f-3da6-434d-8b5c-9d66315d19a8",
   "metadata": {},
   "outputs": [],
   "source": [
    "sc.pl.dotplot(DGC, var_names=['LAG3','TIGIT','CTLA4','PDCD1'], groupby='leiden_1', use_raw=True, var_group_rotation=0,\n",
    "              vmin=0,swap_axes=True, dot_min=0, save='DGC_Exhausted T cell')"
   ]
  },
  {
   "cell_type": "code",
   "execution_count": null,
   "id": "e041f32d-13cd-4ebf-9dc1-af258cad93c2",
   "metadata": {
    "tags": []
   },
   "outputs": [],
   "source": [
    "#sc.pl.dotplot(adata, var_names=['FOXP3','IL2RA','IKZF2','CTLA4'], groupby='leiden_1', use_raw=True, var_group_rotation=0,\n",
    "#              vmin=0,swap_axes=True, dot_min=0, save='Regulator T cell')"
   ]
  },
  {
   "cell_type": "code",
   "execution_count": null,
   "id": "ecc26534-0f86-4d0c-874c-43324d095126",
   "metadata": {
    "tags": []
   },
   "outputs": [],
   "source": [
    "#sc.pl.dotplot(adata, var_names=['ITGAE','ITGA1'], groupby='leiden_1', use_raw=True, var_group_rotation=0,\n",
    "#              vmin=0,swap_axes=True, dot_min=0, save='Tissue-resident memory T cell')"
   ]
  },
  {
   "cell_type": "code",
   "execution_count": null,
   "id": "3ed800ce-7438-4a0a-a25f-3ddfaf025c50",
   "metadata": {},
   "outputs": [],
   "source": [
    "sc.pl.dotplot(DGC, var_names=['DCN','COL1A1','COL1A2'], groupby='leiden_1', use_raw=True, var_group_rotation=0,\n",
    "              vmin=0,swap_axes=True, dot_min=0, save='DGC_Fibroblast')"
   ]
  },
  {
   "cell_type": "code",
   "execution_count": null,
   "id": "77dd080f-cb2c-4de7-b857-ed8afc49a6a1",
   "metadata": {},
   "outputs": [],
   "source": [
    "sc.pl.dotplot(DGC, var_names=['EPCAM'], groupby='leiden_1', use_raw=True, var_group_rotation=0,\n",
    "              vmin=0,swap_axes=True, dot_min=0, save='DGC_Epithelial cell')"
   ]
  },
  {
   "cell_type": "code",
   "execution_count": null,
   "id": "b02b6e39-e148-47e5-9091-ad66db07d6eb",
   "metadata": {
    "tags": []
   },
   "outputs": [],
   "source": [
    "#sc.pl.dotplot(adata, var_names=['GATA2'], groupby='leiden_1', use_raw=True, var_group_rotation=0,\n",
    "#             vmin=0,swap_axes=True, dot_min=0, save='MAST cell')"
   ]
  },
  {
   "cell_type": "code",
   "execution_count": null,
   "id": "e61cdd03-9db2-43c4-919b-4251192c180b",
   "metadata": {},
   "outputs": [],
   "source": [
    "sc.pl.dotplot(DGC, var_names=['CLDN5','VWF'], groupby='leiden_1', use_raw=True, var_group_rotation=0,\n",
    "              vmin=0,swap_axes=True, dot_min=0, save='DGC_Edothelial')"
   ]
  },
  {
   "cell_type": "code",
   "execution_count": null,
   "id": "e8e0015f-a58f-4b18-93ab-2b8820fb2525",
   "metadata": {
    "tags": []
   },
   "outputs": [],
   "source": [
    "sc.pl.dotplot(DGC, var_names=['CD14','FCN1'], groupby='leiden_1', use_raw=True, var_group_rotation=0,\n",
    "              vmin=0,swap_axes=True, dot_min=0, save='DGC_Monocyte')"
   ]
  },
  {
   "cell_type": "code",
   "execution_count": null,
   "id": "17c915f6-e84c-4a36-a258-945d8041b047",
   "metadata": {
    "tags": []
   },
   "outputs": [],
   "source": [
    "#sc.pl.dotplot(adata, var_names=['MRC1','CD163'], groupby='leiden_1', use_raw=True, var_group_rotation=0,\n",
    "#              vmin=0,swap_axes=True, dot_min=0, save='M2 Macrophage')"
   ]
  },
  {
   "cell_type": "code",
   "execution_count": null,
   "id": "d73b2f83-fbaf-4aea-b851-9fe10f612143",
   "metadata": {
    "tags": []
   },
   "outputs": [],
   "source": [
    "#sc.pl.dotplot(adata, var_names=['CSF3R','S100A8','S100A9','FCGR3B'], groupby='leiden_1', use_raw=True, var_group_rotation=0,\n",
    "#              vmin=0,swap_axes=True, dot_min=0, save='Neutrophil')"
   ]
  },
  {
   "cell_type": "code",
   "execution_count": null,
   "id": "86f25f41-316e-4dab-b9b5-b7dc6ec2c4ed",
   "metadata": {},
   "outputs": [],
   "source": [
    "sc.pl.dotplot(DGC, var_names=['CD19','CD79A','CD79B'], groupby='leiden_1', use_raw=True, var_group_rotation=0,\n",
    "              vmin=0,swap_axes=True, dot_min=0, save='DGC_B cell')"
   ]
  },
  {
   "cell_type": "code",
   "execution_count": null,
   "id": "2e84c4d5-0219-4554-8411-6d21080cbe3a",
   "metadata": {
    "tags": []
   },
   "outputs": [],
   "source": [
    "#sc.pl.dotplot(adata, var_names=['MS4A1','CXCR4'], groupby='leiden_1', use_raw=True, var_group_rotation=0,\n",
    "#              vmin=0,swap_axes=True, dot_min=0, save='Follicular B cell')"
   ]
  },
  {
   "cell_type": "code",
   "execution_count": null,
   "id": "142ef6a7-a049-48c6-9f86-bf94f9b65b04",
   "metadata": {},
   "outputs": [],
   "source": [
    "sc.pl.dotplot(DGC, var_names=['MZB1'], groupby='leiden_1', use_raw=True, var_group_rotation=0,\n",
    "              vmin=0,swap_axes=True, dot_min=0, save='DGC_Plasma cell')"
   ]
  },
  {
   "cell_type": "code",
   "execution_count": null,
   "id": "924faf19-5cc7-4881-a387-2fd03e7d6db5",
   "metadata": {},
   "outputs": [],
   "source": [
    "sc.pl.dotplot(DGC, var_names=['EPCAM','LYZ', 'CD14','FCN1','CD19','CD79A','CD79B',\n",
    "                               'MZB1',\n",
    "                               'CD2','CD3D', 'CD3E', 'CD3G','CD4','CD8A',\n",
    "                               'NKG7','GZMA','GZMB','GZMK',\n",
    "                               'CCR7','LEF1','IL7R','SELL',\n",
    "                               'LAG3','TIGIT','CTLA4','PDCD1',\n",
    "                               'DCN','COL1A1','COL1A2',\n",
    "                               'CLDN5','VWF'], groupby='leiden_1', use_raw=True, var_group_rotation=0,\n",
    "              vmin=0,swap_axes=True, dot_min=0, save='DGC_all cell annotated')"
   ]
  },
  {
   "cell_type": "code",
   "execution_count": null,
   "id": "589faf92-9b23-40fe-b802-19b6e748c2ba",
   "metadata": {
    "tags": []
   },
   "outputs": [],
   "source": [
    "#sc.pl.dotplot(adata, var_names=['LYZ'], groupby='leiden_1', use_raw=True, var_group_rotation=0,\n",
    "#              vmin=0,swap_axes=True, dot_min=0, save='Myeloid cell')"
   ]
  },
  {
   "cell_type": "code",
   "execution_count": null,
   "id": "3ffae8dd-152f-4fcc-af97-c3efd22c4900",
   "metadata": {
    "tags": []
   },
   "outputs": [],
   "source": [
    "#sc.pl.dotplot(adata, var_names=['IFITM1','CLEC4E','IL1B','PLA2G7','ARG2','CLEC4D','CD84'], groupby='leiden_1', use_raw=True, var_group_rotation=0,\n",
    "#              vmin=0,swap_axes=True, dot_min=0, save='MDSC')"
   ]
  },
  {
   "cell_type": "code",
   "execution_count": null,
   "id": "a85fba2a-bed8-4453-a3cc-d50dff6676cb",
   "metadata": {
    "tags": []
   },
   "outputs": [],
   "source": [
    "#sc.pl.dotplot(adata, var_names=['BTLA', 'ITGAM', 'ITGAX', 'CSF1R', 'KIT', 'FLT3', 'BST2', 'CD59', 'TLR7'], groupby='leiden_1', use_raw=True, var_group_rotation=0,\n",
    "#              vmin=0,swap_axes=True, dot_min=0, save='Dendritic cell')"
   ]
  },
  {
   "cell_type": "code",
   "execution_count": null,
   "id": "18dff335-401e-4629-a677-e09e5916a8d3",
   "metadata": {},
   "outputs": [],
   "source": [
    "#Epithelial cell: '1','4','5','6','7','8','9','10','12','13','15','16','19','20','22','25','26'\n",
    "#B cell:'18','21'\n",
    "#Fibroblast:'17'\n",
    "#Myeloid:'14'\n",
    "#Plasma cell:'23'\n",
    "#CD8 effector T cell: '3','11'\n",
    "#Navie T cell:'2','27'\n",
    "#Exhausted T cell: '24'\n",
    "new_cluster_names = [\n",
    "                    'Epi 1',\n",
    "                    'Naive T1',\n",
    "                    'Effector T1',\n",
    "                    'Epi 2',\n",
    "                    'Epi 3',\n",
    "                    'Epi 4',\n",
    "                    'Epi 5',\n",
    "                    'Epi 6',\n",
    "                    'Epi 7',\n",
    "                    'Epi 8',\n",
    "                    'Effector T2',\n",
    "                    'Epi 9',\n",
    "                    'Epi 10',\n",
    "                    'Myeloid',\n",
    "                    'Epi 11',\n",
    "                    'Epi 12',\n",
    "                    'Fibroblast',\n",
    "                    'B1',\n",
    "                    'Epi 13',\n",
    "                    'Epi 14',\n",
    "                    'B2',\n",
    "                    'Epi 15',\n",
    "                    'Plasma cell',\n",
    "                    'Exhausted T',\n",
    "                    'Epi 16',\n",
    "                    'Epi 17',\n",
    "                    'Naive T2'\n",
    "                    ]\n",
    "DGC.rename_categories('leiden_1', new_cluster_names)"
   ]
  },
  {
   "cell_type": "code",
   "execution_count": null,
   "id": "c4650313-3ddc-4fca-96f5-87043e3c518e",
   "metadata": {},
   "outputs": [],
   "source": [
    "sc.pl.umap(DGC, color=['leiden_1'], legend_loc='right margin', frameon=False, title='', use_raw=True, \n",
    "           palette={'Epi 1':'lightpink',\n",
    "                    'Naive T1':'tan',\n",
    "                    'Effector T1':'goldenrod',\n",
    "                    'Epi 2':'palevioletred',\n",
    "                    'Epi 3':'hotpink',\n",
    "                    'Epi 4':'mediumvioletred',\n",
    "                    'Epi 5':'orchid',\n",
    "                    'Epi 6':'darkmagenta',\n",
    "                    'Epi 7':'plum',\n",
    "                    'Epi 8':'thistle',\n",
    "                    'Effector T2':'wheat',\n",
    "                    'Epi 9':'mediumorchid',\n",
    "                    'Epi 10':'indigo',\n",
    "                    'Myeloid':'red',\n",
    "                    'Epi 11':'blueviolet',\n",
    "                    'Epi 12':'deeppink',\n",
    "                    'Fibroblast':'lightgreen',\n",
    "                    'B1':'grey',\n",
    "                    'Epi 13':'crimson',\n",
    "                    'Epi 14':'rebeccapurple',\n",
    "                    'B2':'silver',\n",
    "                    'Epi 15':'mediumpurple',\n",
    "                    'Plasma cell':'peru',\n",
    "                    'Exhausted T':'palegoldenrod',\n",
    "                    'Epi 16':'violet',\n",
    "                    'Epi 17':'lavenderblush',\n",
    "                    'Naive T2':'oldlace'},\n",
    "           save='DGC_annotated')"
   ]
  },
  {
   "cell_type": "code",
   "execution_count": null,
   "id": "de0dad0e-2a15-49c1-8274-2b715863a735",
   "metadata": {},
   "outputs": [],
   "source": [
    "#Epithelial cell: '1','4','5','6','7','8','9','10','12','13','15','16','19','20','22','25','26'\n",
    "#B cell:'18','21'\n",
    "#Fibroblast:'17'\n",
    "#Myeloid:'14'\n",
    "#Plasma cell:'23'\n",
    "#CD8 effector T cell: '3','11'\n",
    "#Navie T cell:'2','27'\n",
    "#Exhausted T cell: '24'\n",
    "\n",
    "DGC.obs['celltype'] = (DGC.obs['leiden_1'].map\n",
    "                              (lambda x: {'Epi 1':'Epithelial cell',\n",
    "                    'Naive T1':'Naive T cell',\n",
    "                    'Effector T1':'Effector T cell',\n",
    "                    'Epi 2':'Epithelial cell',\n",
    "                    'Epi 3':'Epithelial cell',\n",
    "                    'Epi 4':'Epithelial cell',\n",
    "                    'Epi 5':'Epithelial cell',\n",
    "                    'Epi 6':'Epithelial cell',\n",
    "                    'Epi 7':'Epithelial cell',\n",
    "                    'Epi 8':'Epithelial cell',\n",
    "                    'Effector T2':'Effector T cell',\n",
    "                    'Epi 9':'Epithelial cell',\n",
    "                    'Epi 10':'Epithelial cell',\n",
    "                    'Myeloid':'Myeloid cell',\n",
    "                    'Epi 11':'Epithelial cell',\n",
    "                    'Epi 12':'Epithelial cell',\n",
    "                    'Fibroblast':'Fibroblast',\n",
    "                    'B1':'B cell',\n",
    "                    'Epi 13':'Epithelial cell',\n",
    "                    'Epi 14':'Epithelial cell',\n",
    "                    'B2':'B cell',\n",
    "                    'Epi 15':'Epithelial cell',\n",
    "                    'Plasma cell':'Plasma cell',\n",
    "                    'Exhausted T':'Exhausted T cell',\n",
    "                    'Epi 16':'Epithelial cell',\n",
    "                    'Epi 17':'Epithelial cell',\n",
    "                    'Naive T2':'Naive T cell'}.get(x, x)).astype(\"category\"))\n",
    " \n",
    "sc.pl.umap(DGC, color=['celltype'] , legend_loc='right margin', frameon=False, title='', use_raw=True,\n",
    "           palette={'Epithelial cell': 'violet', 'Exhausted T cell': 'gold','Naive T cell':'orange','Effector T cell':'yellow','B cell': 'grey','Myeloid cell': 'red','Fibroblast': 'lightgreen','Plasma cell':'peru'},save='DGC_celltype')"
   ]
  },
  {
   "cell_type": "code",
   "execution_count": null,
   "id": "9df68fb8-090f-4a91-90aa-0b9a2a462213",
   "metadata": {},
   "outputs": [],
   "source": [
    "DGC.write('/Users/gzou/OneDrive - Inside MD Anderson/GSE150290_GCandNT/All pts and 29 normal and EKP/allpts_EKP_processed.h5ad', compression='gzip')\n"
   ]
  },
  {
   "cell_type": "code",
   "execution_count": null,
   "id": "a3e84ec8-0bb5-4d0c-aa07-f2c4d89fad86",
   "metadata": {},
   "outputs": [],
   "source": [
    "# call raw data, which includes all cells and genes\n",
    "raw = sc.read('/Users/gzou/OneDrive - Inside MD Anderson/GSE150290_GCandNT/All pts and 29 normal and EKP/allpts_EKP_raw.h5ad')\n",
    "raw"
   ]
  },
  {
   "cell_type": "code",
   "execution_count": null,
   "id": "54a1e561-8ce1-4d8a-8ee3-1ddfaa71a86a",
   "metadata": {},
   "outputs": [],
   "source": [
    "# call processed data, which will supplies the information of clusters (leiden)\n",
    "processed = sc.read('/Users/gzou/OneDrive - Inside MD Anderson/GSE150290_GCandNT/All pts and 29 normal and EKP/allpts_EKP_processed.h5ad')\n",
    "processed"
   ]
  },
  {
   "cell_type": "code",
   "execution_count": null,
   "id": "6105e95f-1d67-453a-bea7-d7971f94e6b6",
   "metadata": {},
   "outputs": [],
   "source": [
    "# copy leiden information to the raw data\n",
    "raw.obs['leiden_1']=processed.obs['leiden_1']"
   ]
  },
  {
   "cell_type": "code",
   "execution_count": null,
   "id": "5c06c678-9f58-4000-a754-03361ce12cef",
   "metadata": {},
   "outputs": [],
   "source": [
    "# select the EPCAM+ cluster and save as Epi\n",
    "\n",
    "Epi =raw[raw.obs['leiden_1'].isin(['Epi 1','Epi 2','Epi 3','Epi 4','Epi 5','Epi 6','Epi 7','Epi 8','Epi 9','Epi 10','Epi 11','Epi 12','Epi 13','Epi 14','Epi 15','Epi 16','Epi 17'])]\n",
    "Epi"
   ]
  },
  {
   "cell_type": "code",
   "execution_count": null,
   "id": "3606c9ea-b325-40e2-9138-c6219ae159da",
   "metadata": {},
   "outputs": [],
   "source": [
    "sc.pl.highest_expr_genes(Epi, n_top=20)\n",
    "sc.pp.filter_cells(Epi, min_genes=100)\n",
    "sc.pp.filter_genes(Epi, min_cells=25)"
   ]
  },
  {
   "cell_type": "code",
   "execution_count": null,
   "id": "83c7dd7c-a642-410d-883b-7247cd23385d",
   "metadata": {},
   "outputs": [],
   "source": [
    "Epi.var['mt'] = Epi.var_names.str.startswith('MT-')\n",
    "Epi.var['rpl'] = Epi.var_names.str.startswith('RPL')\n",
    "Epi.var['rps'] = Epi.var_names.str.startswith('RPS')\n",
    "Epi"
   ]
  },
  {
   "cell_type": "code",
   "execution_count": null,
   "id": "0ceebefc-8fdf-47d1-8f82-f37f2e3e794f",
   "metadata": {},
   "outputs": [],
   "source": [
    "sc.pp.calculate_qc_metrics(Epi, qc_vars=['mt','rpl','rps'], percent_top=None, log1p=False, inplace=True)\n",
    "sc.pl.violin(Epi, keys=['n_genes_by_counts', 'total_counts', 'pct_counts_mt','pct_counts_rpl','pct_counts_rps'], jitter=0.4, multi_panel=True)\n",
    "Epi"
   ]
  },
  {
   "cell_type": "code",
   "execution_count": null,
   "id": "74334cdd-36c2-4d91-b4d3-20c6af5e7870",
   "metadata": {},
   "outputs": [],
   "source": [
    "sc.pl.scatter(Epi, x='total_counts', y='pct_counts_mt')\n",
    "sc.pl.scatter(Epi, x='total_counts', y='pct_counts_rpl')\n",
    "sc.pl.scatter(Epi, x='total_counts', y='pct_counts_rps')\n",
    "sc.pl.scatter(Epi, x='total_counts', y='n_genes_by_counts')"
   ]
  },
  {
   "cell_type": "code",
   "execution_count": null,
   "id": "6855788e-8d20-4b5f-b535-2a27c298f762",
   "metadata": {},
   "outputs": [],
   "source": [
    "Epi = Epi[Epi.obs.n_genes_by_counts < 8000, :]\n",
    "Epi = Epi[Epi.obs.pct_counts_mt < 80, :]\n",
    "Epi = Epi[Epi.obs.pct_counts_rpl < 30, :]\n",
    "Epi = Epi[Epi.obs.pct_counts_rps < 25, :]\n",
    "Epi"
   ]
  },
  {
   "cell_type": "code",
   "execution_count": null,
   "id": "e86cd815-bdf5-4b6c-b5e8-0fef75866c2a",
   "metadata": {},
   "outputs": [],
   "source": [
    "sc.pp.normalize_total(Epi, target_sum=1e4)\n",
    "sc.pp.log1p(Epi)\n",
    "Epi"
   ]
  },
  {
   "cell_type": "code",
   "execution_count": null,
   "id": "51174638-748b-4a6a-ba90-e7dde5197221",
   "metadata": {},
   "outputs": [],
   "source": [
    "sc.pp.highly_variable_genes(Epi, n_top_genes=5000)\n",
    "sc.pl.highly_variable_genes(Epi)\n",
    "print(sum(Epi.var.highly_variable))\n",
    "Epi"
   ]
  },
  {
   "cell_type": "code",
   "execution_count": null,
   "id": "3281f49a-be88-438e-af66-1a9c1b2a18c9",
   "metadata": {},
   "outputs": [],
   "source": [
    "Epi.raw=Epi"
   ]
  },
  {
   "cell_type": "code",
   "execution_count": null,
   "id": "5e3dcd9d-91a7-46c5-ba3e-f9c65a5d16b5",
   "metadata": {},
   "outputs": [],
   "source": [
    "Epi = Epi[:, Epi.var.highly_variable]\n",
    "Epi"
   ]
  },
  {
   "cell_type": "code",
   "execution_count": null,
   "id": "4193ab99-1de6-471a-bc3a-8a0eb4b80efd",
   "metadata": {},
   "outputs": [],
   "source": [
    "sc.pp.regress_out(Epi, keys=['total_counts', 'pct_counts_mt','pct_counts_rpl','pct_counts_rps'], n_jobs=8)\n",
    "sc.pp.scale(Epi, max_value=10)\n",
    "Epi"
   ]
  },
  {
   "cell_type": "code",
   "execution_count": null,
   "id": "30dc99a3-715d-4b98-95bb-c838e3c0593d",
   "metadata": {},
   "outputs": [],
   "source": [
    "sc.tl.pca(Epi, svd_solver='arpack')\n",
    "sce.pp.harmony_integrate(Epi, key='batch', basis='X_pca', adjusted_basis='X_pca_harmony')\n",
    "Epi.obsm['X_pca']=Epi.obsm['X_pca_harmony']\n",
    "sc.pp.neighbors(Epi, n_neighbors=15, n_pcs=50, knn=True)\n",
    "sc.tl.leiden(Epi, resolution=1)\n",
    "sc.tl.umap(Epi)\n",
    "Epi"
   ]
  },
  {
   "cell_type": "code",
   "execution_count": null,
   "id": "634cf171-9f24-49e8-9a69-5d9f3af29a8b",
   "metadata": {},
   "outputs": [],
   "source": [
    "Epi.obs['leiden_1']=Epi.obs['leiden']\n",
    "Epi.rename_categories('leiden_1',['1', '2', '3', '4', '5', '6','7', '8', '9', '10', '11', '12', '13','14','15','16','17','18','19','20','21'])"
   ]
  },
  {
   "cell_type": "code",
   "execution_count": null,
   "id": "be38fb50-a6e5-4349-b5c0-7a0c54584f36",
   "metadata": {},
   "outputs": [],
   "source": [
    "sc.pl.umap(Epi, color=['leiden_1'], legend_loc='right margin', frameon=False, title='', use_raw=True,\n",
    "           palette='gist_rainbow', save='DGC_Epi')\n",
    "sc.pl.umap(Epi, color=['leiden_1'], legend_loc='on data', frameon=False, title='', use_raw=True, save='DGC_Epi_ondata')\n",
    "sc.pl.umap(Epi, color=['batch'], palette='hsv',legend_loc='right margin', frameon=False, title='', use_raw=True, save='DGC_Epi_by_batch')"
   ]
  },
  {
   "cell_type": "code",
   "execution_count": null,
   "id": "c1d3eccb-6c01-49b6-b22f-ae0012cdee26",
   "metadata": {},
   "outputs": [],
   "source": [
    "sc.tl.rank_genes_groups(Epi, groupby='leiden_1', method='t-test', use_raw=False)\n",
    "result = Epi.uns['rank_genes_groups']\n",
    "groups = result['names'].dtype.names\n",
    "pd.DataFrame(\n",
    "  {group + '_' + key[:3]: result[key][group]\n",
    "    for group in groups for key in ['names', 'scores', 'logfoldchanges', 'pvals_adj']}).head(5000).to_csv(\"/Users/gzou/OneDrive - Inside MD Anderson/GSE150290_GCandNT/All pts and 29 normal and EKP/DGC_Epi_leiden_1_genelist.csv\")\n",
    "\n",
    "sc.pl.rank_genes_groups_heatmap(Epi, n_genes=10, groupby='leiden_1', \n",
    "                                use_raw=False, swap_axes=False, vmin=-2, vmax=2, show_gene_labels=False, cmap='bwr', dendrogram=False, save='DGC_Epi_leiden_1_heatmap')\n"
   ]
  },
  {
   "cell_type": "code",
   "execution_count": null,
   "id": "09fc7c28-78d0-4ceb-b946-b5fa0491f10b",
   "metadata": {},
   "outputs": [],
   "source": [
    "sc.pl.correlation_matrix(Epi, groupby='batch', cmap='GnBu',save='DGC')"
   ]
  },
  {
   "cell_type": "code",
   "execution_count": null,
   "id": "204dace1-e76e-4be4-82a9-4c21001c7ada",
   "metadata": {},
   "outputs": [],
   "source": [
    "Epi.obs['type'] = (Epi.obs['batch'].map\n",
    "                              (lambda x: {'IP_070':'Type I','EKP_human':'Type I','IP_109':'Type I','IP_051':'Type I','IP_107_2':'Type I','IP_081':'Type I','IP_072':'Type I','IP_062':'Type I','IP_116':'Type I','IP_007':'Type I','IP_073_1':'Type II','IP_031':'Type II','IP_057':'Type II','IP_009_1':'Type II','IP_114_1':'Type II','IP_010_2':'Type II','IP_067_1':'Type II','IP_124':'Type III','IP_056':'Type III','IP_158':'Type III','IP_093':'Type III'}.get(x, x)).astype(\"category\"))\n"
   ]
  },
  {
   "cell_type": "code",
   "execution_count": null,
   "id": "4f3472a0-b4bd-48df-a4d7-c344b971bcfd",
   "metadata": {},
   "outputs": [],
   "source": [
    "sc.pl.dotplot(Epi, var_names=['CDH1'], groupby='type', use_raw=True, var_group_rotation=0,\n",
    "              vmin=0,vmax=1,swap_axes=True, dot_min=0,dot_max=1,save='Patient_CDH1')"
   ]
  },
  {
   "cell_type": "code",
   "execution_count": null,
   "id": "35421df8-eee0-495e-828a-76ecc0d688f5",
   "metadata": {},
   "outputs": [],
   "source": [
    "sc.pl.dotplot(Epi[Patient_epi.obs['type']=='Type I'], var_names=['CDH1'], groupby='batch', use_raw=True, var_group_rotation=0,\n",
    "              vmin=0,vmax=1,swap_axes=True, dot_min=0,dot_max=1,save='Patient_CDH1_Type I')\n",
    "sc.pl.dotplot(Epi[Patient_epi.obs['type']=='Type II'], var_names=['CDH1'], groupby='batch', use_raw=True, var_group_rotation=0,\n",
    "              vmin=0,vmax=1,swap_axes=True, dot_min=0,dot_max=1,save='Patient_CDH1_Type II')\n",
    "sc.pl.dotplot(Epi[Patient_epi.obs['type']=='Type III'], var_names=['CDH1'], groupby='batch', use_raw=True, var_group_rotation=0,\n",
    "              vmin=0,vmax=1,swap_axes=True, dot_min=0,dot_max=1,save='Patient_CDH1_Type III')"
   ]
  },
  {
   "cell_type": "code",
   "execution_count": null,
   "id": "50cbfb44-c5d1-4cf7-a561-8799ec9b7f57",
   "metadata": {},
   "outputs": [],
   "source": [
    "# count geneset score (EMT)\n",
    "sc.tl.score_genes(Epi, gene_list=['CDH2','VIM','SNAI1','SNAI2','ZEB1','ZEB2','E47','ZLF8','TWIST1','GSC','TCF4','SIX1','FOXC2'], ctrl_size=50, gene_pool=None, n_bins=25, score_name='score', random_state=0, copy=False, use_raw=None)"
   ]
  },
  {
   "cell_type": "code",
   "execution_count": null,
   "id": "a6440bb5-8eb5-438d-a8f3-4881ee841288",
   "metadata": {},
   "outputs": [],
   "source": [
    "# count geneset score violin plot\n",
    "sc.pl.violin(Epi, stripplot=False,keys='score', groupby='type', use_raw=True, save='Epi_EMTscore')"
   ]
  },
  {
   "cell_type": "code",
   "execution_count": null,
   "id": "e272d722-0561-4c4b-8cfe-cab04bb29279",
   "metadata": {},
   "outputs": [],
   "source": [
    "# count geneset score dot plot\n",
    "sc.pl.dotplot(Epi, var_names='score', groupby='type', use_raw=True, var_group_rotation=0,\n",
    "              vmin=0,swap_axes=True, dot_min=0,save='Epi_EMTscore')\n"
   ]
  },
  {
   "cell_type": "code",
   "execution_count": null,
   "id": "da8b730b-b467-4a51-95e9-08f322a62d97",
   "metadata": {},
   "outputs": [],
   "source": [
    "#identify marker genes for DGC i ii iii\n",
    "sc.tl.rank_genes_groups(Epi, groupby='type', method='t-test', use_raw=False)\n",
    "result = Epi.uns['rank_genes_groups']\n",
    "groups = result['names'].dtype.names\n",
    "pd.DataFrame(\n",
    "  {group + '_' + key[:3]: result[key][group]\n",
    "    for group in groups for key in ['names', 'scores', 'logfoldchanges', 'pvals_adj']}).head(5000).to_csv(\"/Users/gzou/OneDrive - Inside MD Anderson/GSE150290_GCandNT/All pts and 29 normal and EKP/DGC_Epi_type_genelist.csv\")\n",
    "\n",
    "sc.pl.rank_genes_groups_heatmap(Epi, n_genes=10, groupby='type', \n",
    "                                use_raw=False, swap_axes=False, vmin=-2, vmax=2, show_gene_labels=False, cmap='bwr', dendrogram=False, save='DGC_Epi_type_heatmap')\n"
   ]
  },
  {
   "cell_type": "code",
   "execution_count": null,
   "id": "b82f6475-d30c-43e4-8380-5417db71c268",
   "metadata": {
    "tags": []
   },
   "outputs": [],
   "source": [
    "DGC.obs['type'] = (DGC.obs['batch'].map\n",
    "                              (lambda x: {'IP_070':'Type I','EKP_human':'Type I','IP_109':'Type I','IP_051':'Type I','IP_107_2':'Type I','IP_081':'Type I','IP_072':'Type I','IP_062':'Type I','IP_116':'Type I','IP_007':'Type I','IP_073_1':'Type II','IP_031':'Type II','IP_057':'Type II','IP_009_1':'Type II','IP_114_1':'Type II','IP_010_2':'Type II','IP_067_1':'Type II','IP_124':'Type III','IP_056':'Type III','IP_158':'Type III','IP_093':'Type III'}.get(x, x)).astype(\"category\"))\n",
    " \n",
    "sc.pl.umap(DGC, color=['type'] , legend_loc='right margin', frameon=False, title='', use_raw=True,\n",
    "           palette={'Type I': 'springgreen', 'Type II': 'aqua','Type III': 'yellow'},save='DGC types')\n",
    " \n",
    "sc.pl.umap(DGC[DGC.obs['type']=='Type I'], color=['type'] , legend_loc='right margin', frameon=False, title='', use_raw=True,\n",
    "           palette={'Type I': 'springgreen', 'Type II': 'aqua','Type III': 'yellow'},save='DGCtypes_Type I')\n",
    "sc.pl.umap(DGC[DGC.obs['type']=='Type II'], color=['type'] , legend_loc='right margin', frameon=False, title='', use_raw=True,\n",
    "           palette={'Type I': 'springgreen', 'Type II': 'aqua','Type III': 'yellow'},save='DGCtypes_Type II')\n",
    "sc.pl.umap(DGC[DGC.obs['type']=='Type III'], color=['type'] , legend_loc='right margin', frameon=False, title='', use_raw=True,\n",
    "           palette={'Type I': 'springgreen', 'Type II': 'aqua','Type III': 'yellow'},save='DGCtypes_Type III')\n"
   ]
  },
  {
   "cell_type": "code",
   "execution_count": null,
   "id": "03fc75e7-2bf9-4afc-b816-f2228d2b5442",
   "metadata": {},
   "outputs": [],
   "source": [
    "Epi.obs['type'] = (Epi.obs['batch'].map\n",
    "                              (lambda x: {'IP_070':'Type I','EKP_human':'Type I','IP_109':'Type I','IP_051':'Type I','IP_107_2':'Type I','IP_081':'Type I','IP_072':'Type I','IP_062':'Type I','IP_116':'Type I','IP_007':'Type I','IP_073_1':'Type II','IP_031':'Type II','IP_057':'Type II','IP_009_1':'Type II','IP_114_1':'Type II','IP_010_2':'Type II','IP_067_1':'Type II','IP_124':'Type III','IP_056':'Type III','IP_158':'Type III','IP_093':'Type III'}.get(x, x)).astype(\"category\"))\n",
    " \n",
    "sc.pl.umap(Epi, color=['type'] , legend_loc='right margin', frameon=False, title='', use_raw=True,\n",
    "           palette={'Type I': 'springgreen', 'Type II': 'aqua','Type III': 'yellow'},save='Epi types')\n",
    " \n",
    "sc.pl.umap(Epi[Epi.obs['type']=='Type I'], color=['type'] , legend_loc='right margin', frameon=False, title='', use_raw=True,\n",
    "           palette={'Type I': 'springgreen', 'Type II': 'aqua','Type III': 'yellow'},save='Epitypes_Type I')\n",
    "sc.pl.umap(Epi[Epi.obs['type']=='Type II'], color=['type'] , legend_loc='right margin', frameon=False, title='', use_raw=True,\n",
    "           palette={'Type I': 'springgreen', 'Type II': 'aqua','Type III': 'yellow'},save='Epitypes_Type II')\n",
    "sc.pl.umap(Epi[Epi.obs['type']=='Type III'], color=['type'] , legend_loc='right margin', frameon=False, title='', use_raw=True,\n",
    "           palette={'Type I': 'springgreen', 'Type II': 'aqua','Type III': 'yellow'},save='Epitypes_Type III')\n"
   ]
  },
  {
   "cell_type": "code",
   "execution_count": null,
   "id": "e4cebe2f-fa86-4932-8722-38f9e44f3d71",
   "metadata": {},
   "outputs": [],
   "source": [
    "Epi[Epi.obs['type']=='Type I']"
   ]
  },
  {
   "cell_type": "code",
   "execution_count": null,
   "id": "31254877-ff8c-4c0e-ab4a-1c44778ed2fb",
   "metadata": {},
   "outputs": [],
   "source": [
    "Epi[Epi.obs['type']=='Type II']"
   ]
  },
  {
   "cell_type": "code",
   "execution_count": null,
   "id": "e6c9184c-f54f-4165-8499-2a60b91cc932",
   "metadata": {},
   "outputs": [],
   "source": [
    "Epi[Epi.obs['type']=='Type III']"
   ]
  },
  {
   "cell_type": "code",
   "execution_count": null,
   "id": "c66c4062-cc7c-4f21-89ff-11e01430f6de",
   "metadata": {},
   "outputs": [],
   "source": [
    "sc.pl.umap(Epi[Epi.obs['type']=='Type I'], color=['TXNIP', 'EVL', 'TSC22D3', 'CDH1', 'PVR'],\n",
    "           legend_loc='right margin', frameon=False, vmin=0, vmax=5,add_outline=True, outline_width=(0.05,0.05), size=50, use_raw=True, cmap='Purples', save='TypeI marker_pvr_cdh1')"
   ]
  },
  {
   "cell_type": "code",
   "execution_count": null,
   "id": "17db447c-59d9-4a86-80d4-ec45f2f12c82",
   "metadata": {},
   "outputs": [],
   "source": [
    "sc.pl.umap(Epi[Epi.obs['type']=='Type II'], color=['TXNIP', 'EVL', 'TSC22D3', 'CDH1', 'PVR'],\n",
    "           legend_loc='right margin', frameon=False, vmin=0, vmax=5,add_outline=True, outline_width=(0.05,0.05), size=50, use_raw=True, cmap='Purples', save='TypeII marker_pvr_cdh1')"
   ]
  },
  {
   "cell_type": "code",
   "execution_count": null,
   "id": "8caa4a25-8c03-4908-95d7-0c142590393d",
   "metadata": {},
   "outputs": [],
   "source": [
    "sc.pl.umap(Epi[Epi.obs['type']=='Type III'], color=['TXNIP', 'EVL', 'TSC22D3', 'CDH1', 'PVR'],\n",
    "           legend_loc='right margin', frameon=False, vmin=0, vmax=5,add_outline=True, outline_width=(0.05,0.05), size=50, use_raw=True, cmap='Purples', save='TypeIII marker_pvr_cdh1')"
   ]
  },
  {
   "cell_type": "code",
   "execution_count": null,
   "id": "fafb35be-b524-4b87-a023-f88cf1352453",
   "metadata": {},
   "outputs": [],
   "source": [
    "sc.pl.umap(DGC[DGC.obs['type']=='Type I'], color=['CD99'],\n",
    "           legend_loc='right margin', frameon=False, vmin=0, vmax=5,add_outline=True, outline_width=(0.05,0.05), size=50, use_raw=True, cmap='Purples', save='TypeI marker_cd99 pilra')\n",
    "sc.pl.umap(DGC[DGC.obs['type']=='Type II'], color=['CD99'],\n",
    "           legend_loc='right margin', frameon=False, vmin=0, vmax=5,add_outline=True, outline_width=(0.05,0.05), size=50, use_raw=True, cmap='Purples', save='TypeII marker_cd99 pilra')\n",
    "sc.pl.umap(DGC[DGC.obs['type']=='Type III'], color=['CD99'],\n",
    "           legend_loc='right margin', frameon=False, vmin=0, vmax=5,add_outline=True, outline_width=(0.05,0.05), size=50, use_raw=True, cmap='Purples', save='TypeIII marker_cd99 pilra')\n",
    "\n"
   ]
  },
  {
   "cell_type": "code",
   "execution_count": null,
   "id": "297a5411-7a7c-46bd-948a-0a7f9504d052",
   "metadata": {},
   "outputs": [],
   "source": [
    "sc.pl.umap(Epi, color=['TXNIP', 'EVL', 'TSC22D3', 'CDH1', 'PVR'],\n",
    "           legend_loc='right margin', frameon=False, vmin=0, vmax=5,add_outline=True, outline_width=(0.05,0.05), size=50, use_raw=True, cmap='Purples', save='mergedDGC marker_pvr_cdh1')"
   ]
  },
  {
   "cell_type": "code",
   "execution_count": null,
   "id": "d461f201-6a03-406f-bb7c-5bc4b41da347",
   "metadata": {},
   "outputs": [],
   "source": [
    "sc.pl.umap(DGC[DGC.obs['type']=='Type I'], color=['TXNIP', 'EVL', 'TSC22D3', 'CDH1', 'PVR'],\n",
    "           legend_loc='right margin', frameon=False, vmin=0, vmax=5,add_outline=True, outline_width=(0.05,0.05), size=50, use_raw=True, cmap='Purples', save='DGC_TypeI marker_pvr_cdh1')"
   ]
  },
  {
   "cell_type": "code",
   "execution_count": null,
   "id": "98623535-6527-46ae-8c7e-7788db3ce9c4",
   "metadata": {},
   "outputs": [],
   "source": [
    "sc.pl.umap(DGC[DGC.obs['type']=='Type II'], color=['TXNIP', 'EVL', 'TSC22D3', 'CDH1', 'PVR'],\n",
    "           legend_loc='right margin', frameon=False, vmin=0, vmax=5,add_outline=True, outline_width=(0.05,0.05), size=50, use_raw=True, cmap='Purples', save='DGC_TypeII marker_pvr_cdh1')"
   ]
  },
  {
   "cell_type": "code",
   "execution_count": null,
   "id": "1ac3ce31-6214-4b2d-8fd9-4cc6faaa048a",
   "metadata": {},
   "outputs": [],
   "source": [
    "sc.pl.umap(DGC[DGC.obs['type']=='Type III'], color=['TXNIP', 'EVL', 'TSC22D3', 'CDH1', 'PVR'],\n",
    "           legend_loc='right margin', frameon=False, vmin=0, vmax=5,add_outline=True, outline_width=(0.05,0.05), size=50, use_raw=True, cmap='Purples', save='DGC_TypeIII marker_pvr_cdh1')"
   ]
  },
  {
   "cell_type": "code",
   "execution_count": null,
   "id": "c5f5148a-8e40-4b7d-98cc-5853e8919fd0",
   "metadata": {},
   "outputs": [],
   "source": [
    "sc.pl.umap(DGC, color=['TXNIP', 'EVL', 'TSC22D3', 'CDH1', 'PVR'],\n",
    "           legend_loc='right margin', frameon=False, vmin=0, vmax=5,add_outline=True, outline_width=(0.05,0.05), size=50, use_raw=True, cmap='Purples', save='mergedDGCallcells marker_pvr_cdh1')"
   ]
  },
  {
   "cell_type": "code",
   "execution_count": null,
   "id": "f40c4e23-6cf4-4844-8ae9-54fb31c0cd4f",
   "metadata": {},
   "outputs": [],
   "source": [
    "#for p value\n",
    "sc.tl.rank_genes_groups(Epi, groupby='type', groups=['Type I'], reference='Type II', method='wilcoxon', use_raw=True)\n",
    "result = Epi.uns['rank_genes_groups']\n",
    "groups = result['names'].dtype.names\n",
    "pd.DataFrame(\n",
    "  {group + '_' + key[:3]: result[key][group]\n",
    "    for group in groups for key in ['names', 'scores', 'logfoldchanges', 'pvals_adj']}).head(13828).to_csv(\"/Users/gzou/OneDrive - Inside MD Anderson/GSE150290_GCandNT/All pts and 29 normal and EKP/IvsII genes.csv\")\n"
   ]
  },
  {
   "cell_type": "code",
   "execution_count": null,
   "id": "89240923-5551-4d88-a904-0d5670dd520e",
   "metadata": {},
   "outputs": [],
   "source": [
    "#for p value\n",
    "sc.tl.rank_genes_groups(Epi, groupby='type', groups=['Type I'], reference='Type III', method='wilcoxon', use_raw=True)\n",
    "result = Epi.uns['rank_genes_groups']\n",
    "groups = result['names'].dtype.names\n",
    "pd.DataFrame(\n",
    "  {group + '_' + key[:3]: result[key][group]\n",
    "    for group in groups for key in ['names', 'scores', 'logfoldchanges', 'pvals_adj']}).head(13828).to_csv(\"/Users/gzou/OneDrive - Inside MD Anderson/GSE150290_GCandNT/All pts and 29 normal and EKP/IvsIII genes.csv\")\n"
   ]
  },
  {
   "cell_type": "code",
   "execution_count": null,
   "id": "dceee95d-42d5-4ec6-ac3b-39f23b767a44",
   "metadata": {},
   "outputs": [],
   "source": [
    "#for p value\n",
    "sc.tl.rank_genes_groups(Epi, groupby='type', groups=['Type II'], reference='Type III', method='wilcoxon', use_raw=True)\n",
    "result = Epi.uns['rank_genes_groups']\n",
    "groups = result['names'].dtype.names\n",
    "pd.DataFrame(\n",
    "  {group + '_' + key[:3]: result[key][group]\n",
    "    for group in groups for key in ['names', 'scores', 'logfoldchanges', 'pvals_adj']}).head(13828).to_csv(\"/Users/gzou/OneDrive - Inside MD Anderson/GSE150290_GCandNT/All pts and 29 normal and EKP/IIvsIII genes.csv\")\n"
   ]
  },
  {
   "cell_type": "code",
   "execution_count": null,
   "id": "a9dbd999-68a9-4eab-9273-dffb0f84be6c",
   "metadata": {
    "tags": []
   },
   "outputs": [],
   "source": [
    "sc.pl.umap(DGC[DGC.obs['type']=='Type I'], color=['celltype'], legend_loc='right margin', frameon=False, title='', use_raw=True, save='DGC_Type I')\n",
    "sc.pl.umap(DGC[DGC.obs['type']=='Type II'], color=['celltype'], legend_loc='right margin', frameon=False, title='', use_raw=True, save='DGC_Type II')\n",
    "sc.pl.umap(DGC[DGC.obs['type']=='Type III'], color=['celltype'], legend_loc='right margin', frameon=False, title='', use_raw=True, save='DGC_Type III')\n"
   ]
  },
  {
   "cell_type": "code",
   "execution_count": null,
   "id": "6c59ad13-fa6a-4f2c-b381-ea1bbf5ff2d4",
   "metadata": {},
   "outputs": [],
   "source": [
    "sc.pl.umap(DGC[DGC.obs['type']=='Type I'], color=['leiden_1'], legend_loc='right margin', frameon=False, title='', use_raw=True, save='DGC_leiden_Type I')\n",
    "sc.pl.umap(DGC[DGC.obs['type']=='Type II'], color=['leiden_1'], legend_loc='right margin', frameon=False, title='', use_raw=True, save='DGC_leiden_Type II')\n",
    "sc.pl.umap(DGC[DGC.obs['type']=='Type III'], color=['leiden_1'], legend_loc='right margin', frameon=False, title='', use_raw=True, save='DGC_leiden_Type III')\n"
   ]
  },
  {
   "cell_type": "code",
   "execution_count": null,
   "id": "90a2410c-f75b-4774-bd4f-076994a7b7ff",
   "metadata": {
    "tags": []
   },
   "outputs": [],
   "source": [
    "#Type I\n",
    "#NUPR1 CRABP2 BNIP3 APOD VAMP5 CALML5 TFAP2B SERHL2 LRRC26 NUPR2 MESP1 MUC5B PTMS CLDN3 GATA3 C3orf14 NPW BAMBI CRABP1 CITED2\n",
    "# RGS4 GAMT UCP2 LRRC15 FGF12 ALDOA QPRT CASP14 SPTSSA BPIFB1 A1BG SMARCA2 SLC25A4 RPS29 TOM1L2 GADD45B SLCO3A1 YPEL3 NME4 ID2 C4orf3\n",
    "#Type II\n",
    "#TIMP1 SLPI SPINK1 PIGR C19orf33 TFF2 LGALS4 RNASE1 MUC13 FTL VEGFA GSTP1 PLAUR LYZ MUC20 TFF3 MUC3A RNF145 DYRK2 VMP1             \n",
    "#Type III\n",
    "#RPL7 ANXA10 S100A10 ID1 GSTP1 SDC1 AGR2 FABP5 GOLM1 FABP1 LYZ FTL GPX2 TSPAN8 ID3 PGC CLU NTS ANPEP CENPV \n",
    "\n",
    "sc.pl.dotplot(Epi, var_names=['NUPR1', 'CRABP2','BNIP3', 'APOD', 'VAMP5', 'CALML5', 'TFAP2B', 'SERHL2', 'LRRC26', 'NUPR2', 'MESP1', 'MUC5B', 'PTMS', 'CLDN3', 'GATA3', 'C3orf14', 'NPW', 'BAMBI', 'CRABP1', 'CITED2','RGS4', 'GAMT', 'UCP2', 'LRRC15', 'FGF12', 'ALDOA', 'QPRT','CASP14', 'SPTSSA', 'BPIFB1', 'A1BG', 'SMARCA2', 'SLC25A4', 'RPS29', 'TOM1L2', 'GADD45B', 'SLCO3A1', 'YPEL3', 'NME4', 'ID2', 'C4orf3'], groupby='type', use_raw=True, var_group_rotation=0,\n",
    "              vmin=0, swap_axes=True, dot_min=0, save='new_TypeI_marker_gene')\n",
    "\n",
    "sc.pl.dotplot(Epi, var_names=['TIMP1','SLPI', 'SPINK1', 'PIGR', 'C19orf33', 'TFF2', 'LGALS4', 'RNASE1', 'MUC13', 'FTL', 'VEGFA', 'GSTP1', 'PLAUR', 'LYZ', 'MUC20', 'TFF3', 'MUC3A', 'RNF145', 'DYRK2', 'VMP1'], groupby='type', use_raw=True, var_group_rotation=0,\n",
    "              vmin=0, swap_axes=True, dot_min=0, save='new_TypeII_marker_gene')\n",
    "\n",
    "sc.pl.dotplot(Epi, var_names=['RPL7', 'ANXA10', 'S100A10', 'ID1', 'GSTP1', 'SDC1', 'AGR2', 'FABP5', 'GOLM1', 'FABP1', 'LYZ', 'FTL', 'GPX2', 'TSPAN8', 'ID3', 'PGC', 'CLU', 'NTS', 'ANPEP', 'CENPV'], groupby='type', use_raw=True, var_group_rotation=0,\n",
    "              vmin=0, swap_axes=True, dot_min=0, save='new_TypeIII_marker_gene')\n",
    "\n",
    "\n",
    "\n",
    "\n",
    "\n",
    "\n",
    "\n",
    "\n",
    "\n"
   ]
  },
  {
   "cell_type": "code",
   "execution_count": null,
   "id": "2ce7adfb-fda4-4a02-a6ca-6f50b5ad2fa4",
   "metadata": {
    "tags": []
   },
   "outputs": [],
   "source": [
    "sc.pl.dotplot(Epi[Epi.obs['type']=='Type I'], var_names=['NUPR1', 'CRABP2','BNIP3', 'APOD', 'VAMP5', 'CALML5', 'TFAP2B', 'SERHL2', 'LRRC26', 'NUPR2', 'MESP1', 'MUC5B', 'PTMS', 'CLDN3', 'GATA3', 'C3orf14', 'NPW', 'BAMBI', 'CRABP1', 'CITED2','RGS4', 'GAMT', 'UCP2', 'LRRC15', 'FGF12', 'ALDOA', 'QPRT','CASP14', 'SPTSSA', 'BPIFB1', 'A1BG', 'SMARCA2', 'SLC25A4', 'RPS29', 'TOM1L2', 'GADD45B', 'SLCO3A1', 'YPEL3', 'NME4', 'ID2', 'C4orf3'], groupby='batch', use_raw=True, var_group_rotation=0,\n",
    "              vmin=0, swap_axes=True, dot_min=0, save='new_TypeI_marker_gene_inTypeIpts')\n",
    "\n",
    "sc.pl.dotplot(Epi[Epi.obs['type']=='Type II'], var_names=['TIMP1','SLPI', 'SPINK1', 'PIGR', 'C19orf33', 'TFF2', 'LGALS4', 'RNASE1', 'MUC13', 'FTL', 'VEGFA', 'GSTP1', 'PLAUR', 'LYZ', 'MUC20', 'TFF3', 'MUC3A', 'RNF145', 'DYRK2', 'VMP1'], groupby='batch', use_raw=True, var_group_rotation=0,\n",
    "              vmin=0, swap_axes=True, dot_min=0, save='new_TypeII_marker_gene_inTypeIIpts')\n",
    "\n",
    "sc.pl.dotplot(Epi[Epi.obs['type']=='Type III'], var_names=['RPL7', 'ANXA10', 'S100A10', 'ID1', 'GSTP1', 'SDC1', 'AGR2', 'FABP5', 'GOLM1', 'FABP1', 'LYZ', 'FTL', 'GPX2', 'TSPAN8', 'ID3', 'PGC', 'CLU', 'NTS', 'ANPEP', 'CENPV'], groupby='batch', use_raw=True, var_group_rotation=0,\n",
    "              vmin=0, swap_axes=True, dot_min=0, save='new_TypeIII_marker_gene_inTypeIIIpts')\n",
    "\n"
   ]
  },
  {
   "cell_type": "code",
   "execution_count": null,
   "id": "78f37b74-a4ac-4fa8-8e9e-8b11865d3ff2",
   "metadata": {
    "tags": []
   },
   "outputs": [],
   "source": [
    "sc.pl.dotplot(Epi[Epi.obs['type']=='Type I'], var_names=['TMSB4Y', 'RDX', 'BST2', 'UQCRHL', 'LY6E', 'HIGD1A', 'NUCB2', 'SFTPD', 'GNAI2', 'IDI1', 'EIF5AL1', 'TSC22D3', 'EVL', 'HPR', 'KRT7', 'SPP1', 'GSTM1', 'SETSIP', 'EIF3CL', 'MT1G'], groupby='batch', use_raw=True, var_group_rotation=0,\n",
    "              vmin=0, swap_axes=True, dot_min=0,save='next_41_60_markers_for_type_I')\n"
   ]
  },
  {
   "cell_type": "code",
   "execution_count": null,
   "id": "3d8f0c94-029c-4744-b403-8418364ba23e",
   "metadata": {
    "tags": []
   },
   "outputs": [],
   "source": [
    "# next 61-80 markers for type I \n",
    "# TCEA2 DDTL CP CRACR2B TXNIP ANXA6 RGS10 RGS16 CCND2 PGLYRP1 CLIC3 PLEKHH2 RBP1 CYP2F1 SSBP4 HMGB3 TRPS1 CEBPB KDM5B CD52\n",
    "sc.pl.dotplot(Epi[Epi.obs['type']=='Type I'], var_names=['TCEA2', 'DDTL', 'CP', 'CRACR2B', 'TXNIP', 'ANXA6', 'RGS10', 'RGS16', 'CCND2', 'PGLYRP1', 'CLIC3', 'PLEKHH2', 'RBP1', 'CYP2F1', 'SSBP4', 'HMGB3', 'TRPS1', 'CEBPB', 'KDM5B', 'CD52'], groupby='batch', use_raw=True, var_group_rotation=0,\n",
    "              vmin=0, swap_axes=True, dot_min=0,save='next_61_80_markers_for_type_I')\n"
   ]
  },
  {
   "cell_type": "code",
   "execution_count": null,
   "id": "90a5a21f-1e25-4cca-b0fe-2c7ad1e9610d",
   "metadata": {
    "tags": []
   },
   "outputs": [],
   "source": [
    "# next 81-100 markers for type I \n",
    "# IGFBP7 DALRD3 CXCL6 CPE MRFAP1L1 SNAP47 CAMK1D SCGB3A1 SNCG FGFBP1 OXCT1 MAL CDC42SE1 KIAA0040 FGFR1 BEX4 CA5B FNBP1 LBP XBP1\n",
    "sc.pl.dotplot(Epi[Epi.obs['type']=='Type I'], var_names=['IGFBP7', 'DALRD3', 'CXCL6', 'CPE', 'MRFAP1L1', 'SNAP47', 'CAMK1D', 'SCGB3A1', 'SNCG', 'FGFBP1', 'OXCT1', 'MAL', 'CDC42SE1', 'KIAA0040', 'FGFR1','BEX4', 'CA5B', 'FNBP1', 'LBP', 'XBP1'], groupby='batch', use_raw=True, var_group_rotation=0,\n",
    "              vmin=0, swap_axes=True, dot_min=0,save='next_81_100_markers_for_type_I')\n"
   ]
  },
  {
   "cell_type": "code",
   "execution_count": null,
   "id": "389a3437-ba72-49b5-a6cb-e129007fc336",
   "metadata": {
    "tags": []
   },
   "outputs": [],
   "source": [
    "sc.pl.dotplot(DGC[DGC.obs['type']=='Type I'], var_names=['TXNIP','EVL','TSC22D3',\n",
    "                                                                     'TIMP1','VMP1','TFF3',\n",
    "                                                                   'FABP5','GOLM1','TSPAN8'], groupby='batch', use_raw=True, var_group_rotation=0,\n",
    "              vmin=0,vmax=2,swap_axes=True, dot_min=0,dot_max=1, save='TypeI_markergene_final')"
   ]
  },
  {
   "cell_type": "code",
   "execution_count": null,
   "id": "f7793c99-83c3-405a-b81d-6ac5bc238fa4",
   "metadata": {
    "tags": []
   },
   "outputs": [],
   "source": [
    "sc.pl.dotplot(DGC[DGC.obs['type']=='Type II'], var_names=['TXNIP','EVL','TSC22D3',\n",
    "                                                                     'TIMP1','VMP1','TFF3',\n",
    "                                                                   'FABP5','GOLM1','TSPAN8'], groupby='batch', use_raw=True, var_group_rotation=0,\n",
    "              vmin=0,vmax=2,swap_axes=True, dot_min=0,dot_max=1, save='TypeII_markergene_final')"
   ]
  },
  {
   "cell_type": "code",
   "execution_count": null,
   "id": "a07162f8-9a9d-4fe1-b365-8cbafcf9c65b",
   "metadata": {
    "tags": []
   },
   "outputs": [],
   "source": [
    "sc.pl.dotplot(DGC[DGC.obs['type']=='Type III'], var_names=['TXNIP','EVL','TSC22D3',\n",
    "                                                                     'TIMP1','VMP1','TFF3',\n",
    "                                                                   'FABP5','GOLM1','TSPAN8'], groupby='batch', use_raw=True, var_group_rotation=0,\n",
    "              vmin=0,vmax=2,swap_axes=True, dot_min=0,dot_max=1, save='TypeIII_markergene_final')"
   ]
  },
  {
   "cell_type": "code",
   "execution_count": null,
   "id": "71923978-03ec-43e8-a6ea-bb0bf8f57856",
   "metadata": {
    "tags": []
   },
   "outputs": [],
   "source": [
    "sc.pl.dotplot(Epi, var_names=['TXNIP','EVL','TSC22D3',\n",
    "                                                                     'TIMP1','VMP1','TFF3',\n",
    "                                                                   'FABP5','GOLM1','TSPAN8'], groupby='type', use_raw=True, var_group_rotation=0,\n",
    "              vmin=0,swap_axes=True, dot_min=0,dot_max=1, save='DGC_Epi_markergene')"
   ]
  },
  {
   "cell_type": "code",
   "execution_count": null,
   "id": "e032555a-c202-4f68-a648-cd6352ac586d",
   "metadata": {
    "tags": []
   },
   "outputs": [],
   "source": [
    "sc.pl.dotplot(DGC, var_names=['TXNIP','EVL','TSC22D3',\n",
    "                                                                     'TIMP1','VMP1','TFF3',\n",
    "                                                                   'FABP5','GOLM1','TSPAN8'], groupby='type', use_raw=True, var_group_rotation=0,\n",
    "              vmin=0,vmax=2,swap_axes=True, dot_min=0,dot_max=1, save='DGC_type_markergene')"
   ]
  },
  {
   "cell_type": "code",
   "execution_count": null,
   "id": "22fb7c1e-0d6d-4e4f-868e-5236857afaa3",
   "metadata": {},
   "outputs": [],
   "source": [
    "DGC.write('/Users/gzou/OneDrive - Inside MD Anderson/GSE150290_GCandNT/All pts and 29 normal and EKP/allpts_EKP_processed.h5ad', compression='gzip')"
   ]
  },
  {
   "cell_type": "code",
   "execution_count": null,
   "id": "54572ea2-a227-4ae3-ba3e-a907d28f9afb",
   "metadata": {},
   "outputs": [],
   "source": []
  }
 ],
 "metadata": {
  "kernelspec": {
   "display_name": "Python 3 (ipykernel)",
   "language": "python",
   "name": "python3"
  },
  "language_info": {
   "codemirror_mode": {
    "name": "ipython",
    "version": 3
   },
   "file_extension": ".py",
   "mimetype": "text/x-python",
   "name": "python",
   "nbconvert_exporter": "python",
   "pygments_lexer": "ipython3",
   "version": "3.8.13"
  }
 },
 "nbformat": 4,
 "nbformat_minor": 5
}
