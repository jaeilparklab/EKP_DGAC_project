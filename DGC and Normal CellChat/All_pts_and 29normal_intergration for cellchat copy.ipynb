{
 "cells": [
  {
   "cell_type": "code",
   "execution_count": null,
   "id": "e390c90c-35e3-47bc-970f-a2ec00099bb7",
   "metadata": {},
   "outputs": [],
   "source": [
    "import numpy as np\n",
    "import pandas as pd\n",
    "import scanpy as sc\n",
    "import scanpy.external as sce\n",
    "import scipy\n",
    "sc.settings.verbosity = 3\n",
    "sc.logging.print_header()\n",
    "sc.set_figure_params(dpi=100, dpi_save=600)\n",
    "    \n",
    "import scvelo as scv\n",
    "scv.settings.verbosity = 3\n",
    "scv.settings.presenter_view = True\n",
    "scv.logging.print_versions()\n",
    "\n",
    "import cellrank as cr\n",
    "cr.settings.verbosity = 3\n",
    "cr.logging.print_versions()\n",
    "\n",
    "import matplotlib.pyplot as pl\n",
    "from matplotlib import rcParams"
   ]
  },
  {
   "cell_type": "code",
   "execution_count": null,
   "id": "d96a6e46-82bb-4338-9cc2-301f4ce4b074",
   "metadata": {},
   "outputs": [],
   "source": [
    "import os\n",
    "os.chdir('/Users/gzou/OneDrive - Inside MD Anderson/GSE150290_GCandNT/')"
   ]
  },
  {
   "cell_type": "code",
   "execution_count": null,
   "id": "34c90eae-042f-4e6c-9a32-c6f7e3564d93",
   "metadata": {},
   "outputs": [],
   "source": [
    "IP_007 = sc.read_10x_mtx('/Users/gzou/OneDrive - Inside MD Anderson/SC33-Harada dataset/IP-007/filtered_feature_bc_matrix_SoupX_out',\n",
    "                            var_names='gene_symbols', cache=True)\n",
    "IP_007"
   ]
  },
  {
   "cell_type": "code",
   "execution_count": null,
   "id": "2e3b6279-27c8-4781-9c15-c349aa4de695",
   "metadata": {},
   "outputs": [],
   "source": [
    "IP_009_1 = sc.read_10x_mtx('/Users/gzou/OneDrive - Inside MD Anderson/SC33-Harada dataset/IP-009-1/filtered_feature_bc_matrix_SoupX_out',\n",
    "                            var_names='gene_symbols', cache=True)\n",
    "IP_009_1"
   ]
  },
  {
   "cell_type": "code",
   "execution_count": null,
   "id": "9269c8ee-73f5-4a0c-a1c0-966f717ed021",
   "metadata": {},
   "outputs": [],
   "source": [
    "IP_010_2 = sc.read_10x_mtx('/Users/gzou/OneDrive - Inside MD Anderson/SC33-Harada dataset/IP-010-2/filtered_feature_bc_matrix_SoupX_out',\n",
    "                            var_names='gene_symbols', cache=True)\n",
    "IP_010_2"
   ]
  },
  {
   "cell_type": "code",
   "execution_count": null,
   "id": "880a0c64-de59-4d83-ad21-7c7eefd4279b",
   "metadata": {},
   "outputs": [],
   "source": [
    "IP_031 = sc.read_10x_mtx('/Users/gzou/OneDrive - Inside MD Anderson/SC33-Harada dataset/IP-031/filtered_feature_bc_matrix_SoupX_out',\n",
    "                            var_names='gene_symbols', cache=True)\n",
    "IP_031"
   ]
  },
  {
   "cell_type": "code",
   "execution_count": null,
   "id": "e76597a6-d817-4ca1-b1b7-f13b6a227dc8",
   "metadata": {},
   "outputs": [],
   "source": [
    "IP_051 = sc.read_10x_mtx('/Users/gzou/OneDrive - Inside MD Anderson/SC33-Harada dataset/IP-051/filtered_feature_bc_matrix_SoupX_out',\n",
    "                            var_names='gene_symbols', cache=True)\n",
    "IP_051"
   ]
  },
  {
   "cell_type": "code",
   "execution_count": null,
   "id": "a0ed0663-daad-48ae-a04e-0cfe74761382",
   "metadata": {},
   "outputs": [],
   "source": [
    "IP_056 = sc.read_10x_mtx('/Users/gzou/OneDrive - Inside MD Anderson/SC33-Harada dataset/IP-056/filtered_feature_bc_matrix_SoupX_out',\n",
    "                            var_names='gene_symbols', cache=True)\n",
    "IP_056"
   ]
  },
  {
   "cell_type": "code",
   "execution_count": null,
   "id": "7fc2e7a9-a95c-4f6e-8838-a0d60d8e9c2e",
   "metadata": {},
   "outputs": [],
   "source": [
    "IP_057 = sc.read_10x_mtx('/Users/gzou/OneDrive - Inside MD Anderson/SC33-Harada dataset/IP-057/filtered_feature_bc_matrix_SoupX_out',\n",
    "                            var_names='gene_symbols', cache=True)\n",
    "IP_057"
   ]
  },
  {
   "cell_type": "code",
   "execution_count": null,
   "id": "ec43578b-c243-47e6-bf11-9db0f4a57cf1",
   "metadata": {},
   "outputs": [],
   "source": [
    "IP_062 = sc.read_10x_mtx('/Users/gzou/OneDrive - Inside MD Anderson/SC33-Harada dataset/IP-062/filtered_feature_bc_matrix_SoupX_out',\n",
    "                            var_names='gene_symbols', cache=True)\n",
    "IP_062"
   ]
  },
  {
   "cell_type": "code",
   "execution_count": null,
   "id": "4dded313-a86a-422f-ba7d-2a19b4014fc2",
   "metadata": {},
   "outputs": [],
   "source": [
    "IP_067_1 = sc.read_10x_mtx('/Users/gzou/OneDrive - Inside MD Anderson/SC33-Harada dataset/IP-067-1/filtered_feature_bc_matrix_SoupX_out',\n",
    "                            var_names='gene_symbols', cache=True)\n",
    "IP_067_1"
   ]
  },
  {
   "cell_type": "code",
   "execution_count": null,
   "id": "a5a3cbe6-4595-4bba-8b2b-d4f5708c60f8",
   "metadata": {},
   "outputs": [],
   "source": [
    "IP_070 = sc.read_10x_mtx('/Users/gzou/OneDrive - Inside MD Anderson/SC33-Harada dataset/IP-070/filtered_feature_bc_matrix_SoupX_out',\n",
    "                            var_names='gene_symbols', cache=True)\n",
    "IP_070"
   ]
  },
  {
   "cell_type": "code",
   "execution_count": null,
   "id": "5760bd64-f802-46dd-9585-67ce7cc04644",
   "metadata": {},
   "outputs": [],
   "source": [
    "IP_072 = sc.read_10x_mtx('/Users/gzou/OneDrive - Inside MD Anderson/SC33-Harada dataset/IP-072/filtered_feature_bc_matrix_SoupX_out',\n",
    "                            var_names='gene_symbols', cache=True)\n",
    "IP_072"
   ]
  },
  {
   "cell_type": "code",
   "execution_count": null,
   "id": "2d716826-a2c2-4384-a1c0-5141ec73be83",
   "metadata": {},
   "outputs": [],
   "source": [
    "IP_073_1 = sc.read_10x_mtx('/Users/gzou/OneDrive - Inside MD Anderson/SC33-Harada dataset/IP-073-1/filtered_feature_bc_matrix_SoupX_out',\n",
    "                            var_names='gene_symbols', cache=True)\n",
    "IP_073_1"
   ]
  },
  {
   "cell_type": "code",
   "execution_count": null,
   "id": "b8f40e98-6cd3-42dc-917f-86392bef1a41",
   "metadata": {},
   "outputs": [],
   "source": [
    "IP_081 = sc.read_10x_mtx('/Users/gzou/OneDrive - Inside MD Anderson/SC33-Harada dataset/IP-081/filtered_feature_bc_matrix_SoupX_out',\n",
    "                            var_names='gene_symbols', cache=True)\n",
    "IP_081"
   ]
  },
  {
   "cell_type": "code",
   "execution_count": null,
   "id": "7573da20-8321-4188-8c3e-6b4bf37be106",
   "metadata": {},
   "outputs": [],
   "source": [
    "IP_093 = sc.read_10x_mtx('/Users/gzou/OneDrive - Inside MD Anderson/SC33-Harada dataset/IP-093/filtered_feature_bc_matrix_SoupX_out',\n",
    "                            var_names='gene_symbols', cache=True)\n",
    "IP_093"
   ]
  },
  {
   "cell_type": "code",
   "execution_count": null,
   "id": "be837c6d-f1b1-42d9-986b-ba608377e052",
   "metadata": {},
   "outputs": [],
   "source": [
    "IP_107_2 = sc.read_10x_mtx('/Users/gzou/OneDrive - Inside MD Anderson/SC33-Harada dataset/IP-107-2/filtered_feature_bc_matrix_SoupX_out',\n",
    "                            var_names='gene_symbols', cache=True)\n",
    "IP_107_2"
   ]
  },
  {
   "cell_type": "code",
   "execution_count": null,
   "id": "6b360c1e-dbb0-450b-8730-63eb15f585e7",
   "metadata": {},
   "outputs": [],
   "source": [
    "IP_109 = sc.read_10x_mtx('/Users/gzou/OneDrive - Inside MD Anderson/SC33-Harada dataset/IP-109/filtered_feature_bc_matrix_SoupX_out',\n",
    "                            var_names='gene_symbols', cache=True)\n",
    "IP_109"
   ]
  },
  {
   "cell_type": "code",
   "execution_count": null,
   "id": "5f971ae0-5aef-4f63-9cf7-45cd5ee43871",
   "metadata": {},
   "outputs": [],
   "source": [
    "IP_114_1 = sc.read_10x_mtx('/Users/gzou/OneDrive - Inside MD Anderson/SC33-Harada dataset/IP-114-1/filtered_feature_bc_matrix_SoupX_out',\n",
    "                            var_names='gene_symbols', cache=True)\n",
    "IP_114_1"
   ]
  },
  {
   "cell_type": "code",
   "execution_count": null,
   "id": "a032ce78-5033-4a97-b1b8-3d4ca45c34b3",
   "metadata": {},
   "outputs": [],
   "source": [
    "IP_116 = sc.read_10x_mtx('/Users/gzou/OneDrive - Inside MD Anderson/SC33-Harada dataset/IP-116/filtered_feature_bc_matrix_SoupX_out',\n",
    "                            var_names='gene_symbols', cache=True)\n",
    "IP_116"
   ]
  },
  {
   "cell_type": "code",
   "execution_count": null,
   "id": "7f3da338-c195-4109-a12e-220478983f0f",
   "metadata": {},
   "outputs": [],
   "source": [
    "IP_124 = sc.read_10x_mtx('/Users/gzou/OneDrive - Inside MD Anderson/SC33-Harada dataset/IP-124/filtered_feature_bc_matrix_SoupX_out',\n",
    "                            var_names='gene_symbols', cache=True)\n",
    "IP_124"
   ]
  },
  {
   "cell_type": "code",
   "execution_count": null,
   "id": "924b9e5e-3dd3-49ad-89d7-c080fae40916",
   "metadata": {},
   "outputs": [],
   "source": [
    "IP_158 = sc.read_10x_mtx('/Users/gzou/OneDrive - Inside MD Anderson/SC33-Harada dataset/IP-158/filtered_feature_bc_matrix_SoupX_out',\n",
    "                            var_names='gene_symbols', cache=True)\n",
    "IP_158"
   ]
  },
  {
   "cell_type": "code",
   "execution_count": null,
   "id": "7abe9ad4-3595-4ddb-8cdd-ad59430903e8",
   "metadata": {},
   "outputs": [],
   "source": [
    "GSM4546300 = sc.read('/Users/gzou/OneDrive - Inside MD Anderson/GSE150290_GCandNT/Normal/GSM4546300_Pat01-A/filtered_matrix.h5ad',\n",
    "                            var_names='gene_symbols', cache=True)\n",
    "del GSM4546300.obs['query']\n",
    "GSM4546300"
   ]
  },
  {
   "cell_type": "code",
   "execution_count": null,
   "id": "5a6aea67-ad61-4ebf-8fb9-8340e9e4cee9",
   "metadata": {},
   "outputs": [],
   "source": [
    "GSM4546302 = sc.read('/Users/gzou/OneDrive - Inside MD Anderson/GSE150290_GCandNT/Normal/GSM4546302_Pat02-A/filtered_matrix.h5ad',\n",
    "                            var_names='gene_symbols', cache=True)\n",
    "del GSM4546302.obs['query']\n",
    "GSM4546302"
   ]
  },
  {
   "cell_type": "code",
   "execution_count": null,
   "id": "5d14931e-c9ef-4bef-95bf-49567435c09e",
   "metadata": {},
   "outputs": [],
   "source": [
    "GSM4546304 = sc.read('/Users/gzou/OneDrive - Inside MD Anderson/GSE150290_GCandNT/Normal/GSM4546304_Pat03-A/filtered_matrix.h5ad',\n",
    "                            var_names='gene_symbols', cache=True)\n",
    "del GSM4546304.obs['query']\n",
    "GSM4546304"
   ]
  },
  {
   "cell_type": "code",
   "execution_count": null,
   "id": "2ebb8741-f536-4d5b-b910-0a30d6374fbb",
   "metadata": {},
   "outputs": [],
   "source": [
    "GSM4546306 = sc.read('/Users/gzou/OneDrive - Inside MD Anderson/GSE150290_GCandNT/Normal/GSM4546306_Pat04-A/filtered_matrix.h5ad',\n",
    "                            var_names='gene_symbols', cache=True)\n",
    "del GSM4546306.obs['query']\n",
    "GSM4546306"
   ]
  },
  {
   "cell_type": "code",
   "execution_count": null,
   "id": "d8aac294-9eac-4fab-9bef-4ef3de3fe2ea",
   "metadata": {},
   "outputs": [],
   "source": [
    "GSM4546308 = sc.read('/Users/gzou/OneDrive - Inside MD Anderson/GSE150290_GCandNT/Normal/GSM4546308_Pat05-A/filtered_matrix.h5ad',\n",
    "                            var_names='gene_symbols', cache=True)\n",
    "del GSM4546308.obs['query']\n",
    "GSM4546308"
   ]
  },
  {
   "cell_type": "code",
   "execution_count": null,
   "id": "1cd3db14-8b04-4126-8443-c7205c2a1221",
   "metadata": {},
   "outputs": [],
   "source": [
    "GSM4546310 = sc.read('/Users/gzou/OneDrive - Inside MD Anderson/GSE150290_GCandNT/Normal/GSM4546310_Pat06-A/filtered_matrix.h5ad',\n",
    "                            var_names='gene_symbols', cache=True)\n",
    "del GSM4546310.obs['query']\n",
    "GSM4546310"
   ]
  },
  {
   "cell_type": "code",
   "execution_count": null,
   "id": "7dd09589-9f81-411e-a508-cd43f5833732",
   "metadata": {},
   "outputs": [],
   "source": [
    "GSM4546312 = sc.read('/Users/gzou/OneDrive - Inside MD Anderson/GSE150290_GCandNT/Normal/GSM4546312_Pat07-A/filtered_matrix.h5ad',\n",
    "                            var_names='gene_symbols', cache=True)\n",
    "del GSM4546312.obs['query']\n",
    "GSM4546312"
   ]
  },
  {
   "cell_type": "code",
   "execution_count": null,
   "id": "a80cc005-3c84-4c58-9579-c0e9d53fb295",
   "metadata": {},
   "outputs": [],
   "source": [
    "GSM4546314 = sc.read('/Users/gzou/OneDrive - Inside MD Anderson/GSE150290_GCandNT/Normal/GSM4546314_Pat08-A/filtered_matrix.h5ad',\n",
    "                            var_names='gene_symbols', cache=True)\n",
    "del GSM4546314.obs['query']\n",
    "GSM4546314"
   ]
  },
  {
   "cell_type": "code",
   "execution_count": null,
   "id": "e2e0cfa5-b0d4-424e-b882-414331cb642d",
   "metadata": {},
   "outputs": [],
   "source": [
    "GSM4546316 = sc.read('/Users/gzou/OneDrive - Inside MD Anderson/GSE150290_GCandNT/Normal/GSM4546316_Pat09-A/filtered_matrix.h5ad',\n",
    "                            var_names='gene_symbols', cache=True)\n",
    "del GSM4546316.obs['query']\n",
    "GSM4546316"
   ]
  },
  {
   "cell_type": "code",
   "execution_count": null,
   "id": "cb48ed02-13eb-42f7-865f-9e8eea3f728a",
   "metadata": {},
   "outputs": [],
   "source": [
    "GSM4546318 = sc.read('/Users/gzou/OneDrive - Inside MD Anderson/GSE150290_GCandNT/Normal/GSM4546318_Pat10-A/filtered_matrix.h5ad',\n",
    "                            var_names='gene_symbols', cache=True)\n",
    "del GSM4546318.obs['query']\n",
    "GSM4546318"
   ]
  },
  {
   "cell_type": "code",
   "execution_count": null,
   "id": "fa3e1fa9-2243-4933-82e9-40c91e3b8717",
   "metadata": {},
   "outputs": [],
   "source": [
    "GSM4546320 = sc.read('/Users/gzou/OneDrive - Inside MD Anderson/GSE150290_GCandNT/Normal/GSM4546320_Pat11-A/filtered_matrix.h5ad',\n",
    "                            var_names='gene_symbols', cache=True)\n",
    "del GSM4546320.obs['query']\n",
    "GSM4546320"
   ]
  },
  {
   "cell_type": "code",
   "execution_count": null,
   "id": "1255bb8e-a06b-44f3-9e41-8bd263b6e31e",
   "metadata": {},
   "outputs": [],
   "source": [
    "GSM4546322 = sc.read('/Users/gzou/OneDrive - Inside MD Anderson/GSE150290_GCandNT/Normal/GSM4546322_Pat12-A/filtered_matrix.h5ad',\n",
    "                            var_names='gene_symbols', cache=True)\n",
    "del GSM4546322.obs['query']\n",
    "GSM4546322"
   ]
  },
  {
   "cell_type": "code",
   "execution_count": null,
   "id": "7b6ba410-21ad-49c8-a562-7c0cf48b9ae8",
   "metadata": {},
   "outputs": [],
   "source": [
    "GSM4546324 = sc.read('/Users/gzou/OneDrive - Inside MD Anderson/GSE150290_GCandNT/Normal/GSM4546324_Pat13-A/filtered_matrix.h5ad',\n",
    "                            var_names='gene_symbols', cache=True)\n",
    "del GSM4546324.obs['query']\n",
    "GSM4546324"
   ]
  },
  {
   "cell_type": "code",
   "execution_count": null,
   "id": "50cd5955-6d19-4f4a-99f2-5c39dc85d0e6",
   "metadata": {},
   "outputs": [],
   "source": [
    "GSM4546326 = sc.read('/Users/gzou/OneDrive - Inside MD Anderson/GSE150290_GCandNT/Normal/GSM4546326_Pat14-A/filtered_matrix.h5ad',\n",
    "                            var_names='gene_symbols', cache=True)\n",
    "del GSM4546326.obs['query']\n",
    "GSM4546326"
   ]
  },
  {
   "cell_type": "code",
   "execution_count": null,
   "id": "2b6a2f54-fc39-42b5-93a8-b24db68b68b2",
   "metadata": {},
   "outputs": [],
   "source": [
    "GSM4546328 = sc.read('/Users/gzou/OneDrive - Inside MD Anderson/GSE150290_GCandNT/Normal/GSM4546328_Pat15-A/filtered_matrix.h5ad',\n",
    "                            var_names='gene_symbols', cache=True)\n",
    "del GSM4546328.obs['query']\n",
    "GSM4546328"
   ]
  },
  {
   "cell_type": "code",
   "execution_count": null,
   "id": "90f26701-c508-4558-8792-c36970efd688",
   "metadata": {},
   "outputs": [],
   "source": [
    "GSM4546330 = sc.read('/Users/gzou/OneDrive - Inside MD Anderson/GSE150290_GCandNT/Normal/GSM4546330_Pat16-A/filtered_matrix.h5ad',\n",
    "                            var_names='gene_symbols', cache=True)\n",
    "del GSM4546330.obs['query']\n",
    "GSM4546330"
   ]
  },
  {
   "cell_type": "code",
   "execution_count": null,
   "id": "c450d1ca-b1b6-47dc-a0af-21d04eb58a78",
   "metadata": {},
   "outputs": [],
   "source": [
    "GSM4546332 = sc.read('/Users/gzou/OneDrive - Inside MD Anderson/GSE150290_GCandNT/Normal/GSM4546332_Pat17-A/filtered_matrix.h5ad',\n",
    "                            var_names='gene_symbols', cache=True)\n",
    "del GSM4546332.obs['query']\n",
    "GSM4546332"
   ]
  },
  {
   "cell_type": "code",
   "execution_count": null,
   "id": "1f0af5f7-88da-485b-8602-60efdb42f64b",
   "metadata": {},
   "outputs": [],
   "source": [
    "GSM4546334 = sc.read('/Users/gzou/OneDrive - Inside MD Anderson/GSE150290_GCandNT/Normal/GSM4546334_Pat18-A/filtered_matrix.h5ad',\n",
    "                            var_names='gene_symbols', cache=True)\n",
    "del GSM4546334.obs['query']\n",
    "GSM4546334"
   ]
  },
  {
   "cell_type": "code",
   "execution_count": null,
   "id": "488911f6-f14c-45c3-b7c8-4a7ee6fead1a",
   "metadata": {},
   "outputs": [],
   "source": [
    "GSM4546336 = sc.read('/Users/gzou/OneDrive - Inside MD Anderson/GSE150290_GCandNT/Normal/GSM4546336_Pat19-A/filtered_matrix.h5ad',\n",
    "                            var_names='gene_symbols', cache=True)\n",
    "del GSM4546336.obs['query']\n",
    "GSM4546336"
   ]
  },
  {
   "cell_type": "code",
   "execution_count": null,
   "id": "576dd620-b24d-4b62-b5b0-b27379367cfe",
   "metadata": {},
   "outputs": [],
   "source": [
    "GSM4546338 = sc.read('/Users/gzou/OneDrive - Inside MD Anderson/GSE150290_GCandNT/Normal/GSM4546338_Pat20-A/filtered_matrix.h5ad',\n",
    "                            var_names='gene_symbols', cache=True)\n",
    "del GSM4546338.obs['query']\n",
    "GSM4546338"
   ]
  },
  {
   "cell_type": "code",
   "execution_count": null,
   "id": "ff921435-7bdb-466a-86cf-01ce5c5bc133",
   "metadata": {},
   "outputs": [],
   "source": [
    "GSM4546340 = sc.read('/Users/gzou/OneDrive - Inside MD Anderson/GSE150290_GCandNT/Normal/GSM4546340_Pat21-A/filtered_matrix.h5ad',\n",
    "                            var_names='gene_symbols', cache=True)\n",
    "del GSM4546340.obs['query']\n",
    "GSM4546340"
   ]
  },
  {
   "cell_type": "code",
   "execution_count": null,
   "id": "89f5846c-20f8-450a-a4f6-98e3ac5b585f",
   "metadata": {},
   "outputs": [],
   "source": [
    "GSM4546341 = sc.read('/Users/gzou/OneDrive - Inside MD Anderson/GSE150290_GCandNT/Normal/GSM4546341_Pat22-A/filtered_matrix.h5ad',\n",
    "                            var_names='gene_symbols', cache=True)\n",
    "del GSM4546341.obs['query']\n",
    "GSM4546341"
   ]
  },
  {
   "cell_type": "code",
   "execution_count": null,
   "id": "6ff2b02a-6a7a-4ad8-a44e-5220072a60cc",
   "metadata": {},
   "outputs": [],
   "source": [
    "GSM4546343 = sc.read('/Users/gzou/OneDrive - Inside MD Anderson/GSE150290_GCandNT/Normal/GSM4546343_Pat23-A/filtered_matrix.h5ad',\n",
    "                            var_names='gene_symbols', cache=True)\n",
    "del GSM4546343.obs['query']\n",
    "GSM4546343"
   ]
  },
  {
   "cell_type": "code",
   "execution_count": null,
   "id": "50ca62fd-c644-44c7-8430-1301787bb43d",
   "metadata": {},
   "outputs": [],
   "source": [
    "GSM4546345 = sc.read('/Users/gzou/OneDrive - Inside MD Anderson/GSE150290_GCandNT/Normal/GSM4546345_Pat24-A/filtered_matrix.h5ad',\n",
    "                            var_names='gene_symbols', cache=True)\n",
    "del GSM4546345.obs['query']\n",
    "GSM4546345"
   ]
  },
  {
   "cell_type": "code",
   "execution_count": null,
   "id": "b5025703-4f39-4ea8-88c1-69bc367afe6e",
   "metadata": {},
   "outputs": [],
   "source": [
    "GSM4546347 = sc.read('/Users/gzou/OneDrive - Inside MD Anderson/GSE150290_GCandNT/Normal/GSM4546347_Pat25-A/filtered_matrix.h5ad',\n",
    "                            var_names='gene_symbols', cache=True)\n",
    "del GSM4546347.obs['query']\n",
    "GSM4546347"
   ]
  },
  {
   "cell_type": "code",
   "execution_count": null,
   "id": "cf51e809-54ef-4726-a2a1-4b4ae79b4cff",
   "metadata": {},
   "outputs": [],
   "source": [
    "GSM4546348 = sc.read('/Users/gzou/OneDrive - Inside MD Anderson/GSE150290_GCandNT/Normal/GSM4546348_Pat26-A/filtered_matrix.h5ad',\n",
    "                            var_names='gene_symbols', cache=True)\n",
    "del GSM4546348.obs['query']\n",
    "GSM4546348"
   ]
  },
  {
   "cell_type": "code",
   "execution_count": null,
   "id": "0fa3541c-4a6e-429d-b9a4-972b41aac375",
   "metadata": {},
   "outputs": [],
   "source": [
    "GSM4546351 = sc.read('/Users/gzou/OneDrive - Inside MD Anderson/GSE150290_GCandNT/Normal/GSM4546351_Pat29-A/filtered_matrix.h5ad',\n",
    "                            var_names='gene_symbols', cache=True)\n",
    "del GSM4546351.obs['query']\n",
    "GSM4546351"
   ]
  },
  {
   "cell_type": "code",
   "execution_count": null,
   "id": "d68155e9-325f-46a8-8990-84ed9b0c6c3d",
   "metadata": {},
   "outputs": [],
   "source": [
    "GSM4546350 = sc.read('/Users/gzou/OneDrive - Inside MD Anderson/GSE150290_GCandNT/Normal/GSM4546350_Pat28-A/filtered_matrix.h5ad',\n",
    "                            var_names='gene_symbols', cache=True)\n",
    "del GSM4546350.obs['query']\n",
    "GSM4546350"
   ]
  },
  {
   "cell_type": "code",
   "execution_count": null,
   "id": "32799c12-2e38-4477-aef9-28ac0015ff90",
   "metadata": {},
   "outputs": [],
   "source": [
    "GSM4546349 = sc.read('/Users/gzou/OneDrive - Inside MD Anderson/GSE150290_GCandNT/Normal/GSM4546349_Pat27-A/filtered_matrix.h5ad',\n",
    "                            var_names='gene_symbols', cache=True)\n",
    "del GSM4546349.obs['query']\n",
    "GSM4546349"
   ]
  },
  {
   "cell_type": "code",
   "execution_count": null,
   "id": "b2083267-b2b1-40e5-a36b-6370fcb625e4",
   "metadata": {},
   "outputs": [],
   "source": [
    "adata = IP_007.concatenate(IP_009_1,IP_010_2,IP_031,IP_051,IP_056,IP_057,IP_062,IP_067_1,IP_070,IP_072,IP_073_1,IP_081,IP_093,IP_107_2,IP_109,IP_114_1,IP_116,IP_124,IP_158,\n",
    "                           GSM4546300, GSM4546302, GSM4546304, GSM4546306, GSM4546308, GSM4546310, GSM4546312, GSM4546314, GSM4546316, GSM4546318, GSM4546320, GSM4546322, GSM4546324, GSM4546326, GSM4546328, GSM4546330, GSM4546332, GSM4546334, GSM4546336, GSM4546338, GSM4546340, GSM4546341, GSM4546343, GSM4546345, GSM4546347, GSM4546348, GSM4546349, GSM4546350, GSM4546351,\n",
    "                           batch_categories=['IP_007','IP_009_1','IP_010_2','IP_031','IP_051','IP_056','IP_057','IP_062','IP_067_1','IP_070','IP_072','IP_073_1','IP_081','IP_093','IP_107_2','IP_109','IP_114_1','IP_116','IP_124','IP_158','GSM4546300', 'GSM4546302', 'GSM4546304', 'GSM4546306', 'GSM4546308', 'GSM4546310', 'GSM4546312', 'GSM4546314', 'GSM4546316', 'GSM4546318', 'GSM4546320', 'GSM4546322', 'GSM4546324', 'GSM4546326', 'GSM4546328', 'GSM4546330', 'GSM4546332', 'GSM4546334', 'GSM4546336', 'GSM4546338', 'GSM4546340', 'GSM4546341', 'GSM4546343', 'GSM4546345', 'GSM4546347', 'GSM4546348', 'GSM4546349', 'GSM4546350', 'GSM4546351'])\n",
    "adata"
   ]
  },
  {
   "cell_type": "code",
   "execution_count": null,
   "id": "1a3e910b-9828-4bea-81b5-b9c45ad3578b",
   "metadata": {
    "tags": []
   },
   "outputs": [],
   "source": [
    "adata.write('/Users/gzou/OneDrive - Inside MD Anderson/GSE150290_GCandNT/all_pts_29normal_raw.h5ad', compression='gzip')\n",
    "\n"
   ]
  },
  {
   "cell_type": "code",
   "execution_count": null,
   "id": "19b486be-4d68-4af3-9cef-5b1ee9c4b0ec",
   "metadata": {
    "tags": []
   },
   "outputs": [],
   "source": [
    "adata=sc.read('/Users/gzou/OneDrive - Inside MD Anderson/GSE150290_GCandNT/all_pts_29normal_raw.h5ad')"
   ]
  },
  {
   "cell_type": "code",
   "execution_count": null,
   "id": "9661468e-6858-4166-b96b-8edae0827154",
   "metadata": {},
   "outputs": [],
   "source": [
    "sc.pl.highest_expr_genes(adata, n_top=20)\n",
    "sc.pp.filter_cells(adata, min_genes=100)\n",
    "sc.pp.filter_genes(adata, min_cells=25)"
   ]
  },
  {
   "cell_type": "code",
   "execution_count": null,
   "id": "a3d9038a-7b15-4413-8a80-ca92162513cc",
   "metadata": {},
   "outputs": [],
   "source": [
    "adata.var['mt'] = adata.var_names.str.startswith('MT-')\n",
    "adata.var['rpl'] = adata.var_names.str.startswith('RPL')\n",
    "adata.var['rps'] = adata.var_names.str.startswith('RPS')\n",
    "adata"
   ]
  },
  {
   "cell_type": "code",
   "execution_count": null,
   "id": "b1b770d0-5c32-40e1-9b18-3f964a1de076",
   "metadata": {},
   "outputs": [],
   "source": [
    "sc.pp.calculate_qc_metrics(adata, qc_vars=['mt','rpl','rps'], percent_top=None, log1p=False, inplace=True)\n",
    "sc.pl.violin(adata, keys=['n_genes_by_counts', 'total_counts', 'pct_counts_mt','pct_counts_rpl','pct_counts_rps'], jitter=0.4, multi_panel=True)\n",
    "adata"
   ]
  },
  {
   "cell_type": "code",
   "execution_count": null,
   "id": "661d7093-a766-48d1-89ac-cdd5d1a834de",
   "metadata": {},
   "outputs": [],
   "source": [
    "sc.pl.scatter(adata, x='total_counts', y='pct_counts_mt')\n",
    "sc.pl.scatter(adata, x='total_counts', y='pct_counts_rpl')\n",
    "sc.pl.scatter(adata, x='total_counts', y='pct_counts_rps')\n",
    "sc.pl.scatter(adata, x='total_counts', y='n_genes_by_counts')"
   ]
  },
  {
   "cell_type": "code",
   "execution_count": null,
   "id": "40353594-a197-458b-93b3-93d6930305f6",
   "metadata": {},
   "outputs": [],
   "source": [
    "adata = adata[adata.obs.n_genes_by_counts < 8000, :]\n",
    "adata = adata[adata.obs.pct_counts_mt < 100, :]\n",
    "adata = adata[adata.obs.pct_counts_rpl < 40, :]\n",
    "adata = adata[adata.obs.pct_counts_rps < 30, :]\n",
    "adata"
   ]
  },
  {
   "cell_type": "code",
   "execution_count": null,
   "id": "f70ad475-0316-4749-826a-8aac9e197d00",
   "metadata": {},
   "outputs": [],
   "source": [
    "sc.pp.normalize_total(adata, target_sum=1e4)\n",
    "sc.pp.log1p(adata)\n",
    "adata"
   ]
  },
  {
   "cell_type": "code",
   "execution_count": null,
   "id": "8c45f169-a5bf-490b-a35e-6edb7cac336c",
   "metadata": {},
   "outputs": [],
   "source": [
    "sc.pp.highly_variable_genes(adata, n_top_genes=5000)\n",
    "sc.pl.highly_variable_genes(adata)\n",
    "print(sum(adata.var.highly_variable))\n",
    "adata"
   ]
  },
  {
   "cell_type": "code",
   "execution_count": null,
   "id": "1d40c5c8-4660-450f-9adb-2c1d3ebd033f",
   "metadata": {},
   "outputs": [],
   "source": [
    "adata.raw=adata"
   ]
  },
  {
   "cell_type": "code",
   "execution_count": null,
   "id": "eeaa453e-b110-4f5a-8935-4dd31592bc7e",
   "metadata": {},
   "outputs": [],
   "source": [
    "adata = adata[:, adata.var.highly_variable]\n",
    "adata"
   ]
  },
  {
   "cell_type": "code",
   "execution_count": null,
   "id": "74cc21aa-2951-482c-a127-a63d7e0189f2",
   "metadata": {},
   "outputs": [],
   "source": [
    "sc.pp.regress_out(adata, keys=['total_counts', 'pct_counts_mt','pct_counts_rpl','pct_counts_rps'], n_jobs=8)\n",
    "sc.pp.scale(adata, max_value=10)\n",
    "adata"
   ]
  },
  {
   "cell_type": "code",
   "execution_count": null,
   "id": "a78dddf6-2873-4bac-a8c0-22a19cc7eb5b",
   "metadata": {},
   "outputs": [],
   "source": [
    "sc.tl.pca(adata, svd_solver='arpack')\n",
    "sce.pp.harmony_integrate(adata, key='batch', basis='X_pca', adjusted_basis='X_pca_harmony')\n",
    "adata.obsm['X_pca']=adata.obsm['X_pca_harmony']\n",
    "sc.pp.neighbors(adata, n_neighbors=15, n_pcs=50, knn=True)\n",
    "sc.tl.leiden(adata, resolution=1)\n",
    "sc.tl.umap(adata)\n",
    "adata"
   ]
  },
  {
   "cell_type": "code",
   "execution_count": null,
   "id": "81cd41ec-3ace-4869-ac2b-229473350fd1",
   "metadata": {},
   "outputs": [],
   "source": [
    "adata.obs['leiden_1']=adata.obs['leiden']\n",
    "adata.rename_categories('leiden_1',['1', '2', '3', '4', '5', '6','7', '8', '9', '10', '11', '12', '13','14', '15', '16','17', '18', '19', '20', '21', '22', '23', '24','25','26','27','28'])"
   ]
  },
  {
   "cell_type": "code",
   "execution_count": null,
   "id": "24185474-5f33-4322-89d2-4e1d459d1b37",
   "metadata": {},
   "outputs": [],
   "source": [
    "#sc.pl.umap(adata, color=['leiden_1'], legend_loc='right margin', frameon=False, title='', use_raw=True, save='all_pts_29normal')\n",
    "#sc.pl.umap(adata, color=['leiden_1'], legend_loc='on data', frameon=False, title='', use_raw=True, save='all_pts_29normal_ondata')\n",
    "sc.pl.umap(adata, color=['batch'], palette='gist_rainbow',legend_loc='right margin', frameon=False, title='', use_raw=True, save='all_pts_29normal_by_batch')"
   ]
  },
  {
   "cell_type": "code",
   "execution_count": null,
   "id": "a5e9d179-6e07-4674-a4df-77ba9bd819b9",
   "metadata": {},
   "outputs": [],
   "source": [
    "sc.pl.dotplot(adata, var_names=['CD2','CD3D', 'CD3E', 'CD3G','CD4','CD8A'], groupby='leiden_1', use_raw=True, var_group_rotation=0,\n",
    "              vmin=0,swap_axes=True, dot_min=0, save='T cell')"
   ]
  },
  {
   "cell_type": "code",
   "execution_count": null,
   "id": "83629bd6-1383-4194-bc63-c6a82d272bf5",
   "metadata": {},
   "outputs": [],
   "source": [
    "sc.pl.dotplot(adata, var_names=['NKG7','GZMA','GZMB','GZMK'], groupby='leiden_1', use_raw=True, var_group_rotation=0,\n",
    "              vmin=0,swap_axes=True, dot_min=0, save='CD8+ effector T cell')\n",
    "sc.pl.dotplot(adata, var_names=['CCR7','LEF1','IL7R','SELL'], groupby='leiden_1', use_raw=True, var_group_rotation=0,\n",
    "              vmin=0,swap_axes=True, dot_min=0, save='Naive T cell')\n",
    "sc.pl.dotplot(adata, var_names=['LAG3','TIGIT','CTLA4'], groupby='leiden_1', use_raw=True, var_group_rotation=0,\n",
    "              vmin=0,swap_axes=True, dot_min=0, save='Exhausted T cell')\n",
    "sc.pl.dotplot(adata, var_names=['DCN','COL1A1','COL1A2'], groupby='leiden_1', use_raw=True, var_group_rotation=0,\n",
    "              vmin=0,swap_axes=True, dot_min=0, save='Fibroblast')\n",
    "sc.pl.dotplot(adata, var_names=['EPCAM'], groupby='leiden_1', use_raw=True, var_group_rotation=0,\n",
    "              vmin=0,swap_axes=True, dot_min=0, save='Epithelial cell')\n",
    "sc.pl.dotplot(adata, var_names=['CD19','CD79A','CD79B'], groupby='leiden_1', use_raw=True, var_group_rotation=0,\n",
    "              vmin=0,swap_axes=True, dot_min=0, save='B cell')\n",
    "sc.pl.dotplot(adata, var_names=['MZB1'], groupby='leiden_1', use_raw=True, var_group_rotation=0,\n",
    "              vmin=0,swap_axes=True, dot_min=0, save='Plasma cell')\n",
    "sc.pl.dotplot(adata, var_names=['LYZ', 'CD68', 'FCGR3A'], groupby='leiden_1', use_raw=True, var_group_rotation=0,\n",
    "              vmin=0,swap_axes=True, dot_min=0, save='Myeloid cell')\n"
   ]
  },
  {
   "cell_type": "code",
   "execution_count": null,
   "id": "c39e2fb6-bfbe-429d-a4dc-fc34acd48ab8",
   "metadata": {},
   "outputs": [],
   "source": [
    "\n",
    "sc.pl.dotplot(adata, var_names=['EPCAM','LYZ', 'CD68', 'FCGR3A','CD19','CD79A','CD79B',\n",
    "                               'MZB1',\n",
    "                               'CD2','CD3D', 'CD3E', 'CD3G','CD4','CD8A',\n",
    "                               'NKG7','GZMA','GZMB','GZMK',\n",
    "                               'CCR7','LEF1','IL7R','SELL',\n",
    "                               'LAG3','TIGIT','CTLA4','PDCD1',\n",
    "                               'DCN','COL1A1','COL1A2',\n",
    "                               'CLDN5','VWF'], groupby='leiden_1', use_raw=True, var_group_rotation=0,\n",
    "              vmin=0,swap_axes=True, dot_min=0, save='all cell annotated')\n"
   ]
  },
  {
   "cell_type": "code",
   "execution_count": null,
   "id": "6b4b6488-b444-4d1c-8a1b-e3c1f1118182",
   "metadata": {},
   "outputs": [],
   "source": [
    "sc.pl.dotplot(adata, var_names=['CLDN5','VWF'], groupby='leiden_1', use_raw=True, var_group_rotation=0,\n",
    "              vmin=0,swap_axes=True, dot_min=0, save='Endothelial cell')\n"
   ]
  },
  {
   "cell_type": "code",
   "execution_count": null,
   "id": "f62116a7-743a-4ed8-a8a5-1beca1c0fe66",
   "metadata": {},
   "outputs": [],
   "source": [
    "#Epithelial cell: '1','3','5','6','7','8','9','10','12','13','15','19','20','21','23','28'\n",
    "#B cell:'18'\n",
    "#Fibroblast:'17'\n",
    "#Myeloid:'14'\n",
    "#Plasma cell:'16'\n",
    "#CD8 effector T cell: '4','11'\n",
    "#Navie T cell:'2','24','26','27'\n",
    "#Exhausted T cell: '25'\n",
    "#Endothelial:'22'\n",
    "new_cluster_names = ['Epi 1',\n",
    "                    'Naive T1',\n",
    "                    'Epi 2',\n",
    "                    'Effector T1',\n",
    "                    'Epi 3',\n",
    "                    'Epi 4',\n",
    "                    'Epi 5',\n",
    "                    'Epi 6',\n",
    "                    'Epi 7',\n",
    "                    'Epi 8',\n",
    "                    'Effector T2',\n",
    "                    'Epi 9',\n",
    "                    'Epi 10',\n",
    "                    'Myeloid',\n",
    "                    'Epi 11',\n",
    "                    'Plasma cell',\n",
    "                    'Fibroblast',\n",
    "                    'B cell',\n",
    "                    'Epi 12',\n",
    "                    'Epi 13',\n",
    "                    'Epi 14',\n",
    "                    'Endothelial',\n",
    "                    'Epi 15',\n",
    "                    'Naive T2',\n",
    "                    'Exhausted T',\n",
    "                    'Naive T3',\n",
    "                    'Naive T4',\n",
    "                    'Epi 16']\n",
    "adata.rename_categories('leiden_1', new_cluster_names)\n",
    "\n",
    "\n"
   ]
  },
  {
   "cell_type": "code",
   "execution_count": null,
   "id": "2e7c7b12-a824-499e-89b4-80eab3632871",
   "metadata": {
    "tags": []
   },
   "outputs": [],
   "source": [
    "adata.obs['type'] = (adata.obs['batch'].map\n",
    "                              (lambda x: {'IP_070':'Type I','IP_109':'Type I','IP_051':'Type I','IP_107_2':'Type I','IP_081':'Type I','IP_072':'Type I','IP_062':'Type I','IP_116':'Type I','IP_007':'Type I','IP_073_1':'Type II','IP_031':'Type II','IP_057':'Type II','IP_009_1':'Type II','IP_114_1':'Type II','IP_010_2':'Type II','IP_067_1':'Type II','IP_124':'Type III','IP_056':'Type III','IP_158':'Type III','IP_093':'Type III','GSM4546300':'Normal', \n",
    "                                          'GSM4546302':'Normal', \n",
    "                                          'GSM4546304':'Normal', \n",
    "                                          'GSM4546306':'Normal', \n",
    "                                          'GSM4546308':'Normal', \n",
    "                                          'GSM4546310':'Normal', \n",
    "                                          'GSM4546312':'Normal', \n",
    "                                          'GSM4546314':'Normal', \n",
    "                                          'GSM4546316':'Normal', \n",
    "                                          'GSM4546318':'Normal', \n",
    "                                          'GSM4546320':'Normal', \n",
    "                                          'GSM4546322':'Normal', \n",
    "                                          'GSM4546324':'Normal', \n",
    "                                          'GSM4546326':'Normal', \n",
    "                                          'GSM4546328':'Normal', \n",
    "                                          'GSM4546330':'Normal', \n",
    "                                          'GSM4546332':'Normal', \n",
    "                                          'GSM4546334':'Normal', \n",
    "                                          'GSM4546336':'Normal', \n",
    "                                          'GSM4546338':'Normal', \n",
    "                                          'GSM4546340':'Normal', \n",
    "                                          'GSM4546341':'Normal', \n",
    "                                          'GSM4546343':'Normal', \n",
    "                                          'GSM4546345':'Normal', \n",
    "                                          'GSM4546347':'Normal', \n",
    "                                          'GSM4546348':'Normal', \n",
    "                                          'GSM4546349':'Normal', \n",
    "                                          'GSM4546350':'Normal', \n",
    "                                          'GSM4546351':'Normal'}.get(x, x)).astype(\"category\"))\n",
    "\n"
   ]
  },
  {
   "cell_type": "code",
   "execution_count": null,
   "id": "ab18a3a9-a664-4644-97db-ca34d6f1cefb",
   "metadata": {},
   "outputs": [],
   "source": [
    "sc.pl.umap(adata, color=['type'] , legend_loc='right margin', frameon=False, title='', use_raw=True,\n",
    "           palette={'Type I': 'springgreen', 'Type II': 'aqua','Type III': 'yellow','Normal': 'gray'},save='types')\n",
    " \n",
    "sc.pl.umap(adata[adata.obs['type']=='Type I'], color=['type'] , legend_loc='right margin', frameon=False, title='', use_raw=True,\n",
    "           palette={'Type I': 'springgreen', 'Type II': 'aqua','Type III': 'yellow','Normal': 'gray'},save='types_Type I')\n",
    "sc.pl.umap(adata[adata.obs['type']=='Type II'], color=['type'] , legend_loc='right margin', frameon=False, title='', use_raw=True,\n",
    "           palette={'Type I': 'springgreen', 'Type II': 'aqua','Type III': 'yellow','Normal': 'gray'},save='types_Type II')\n",
    "sc.pl.umap(adata[adata.obs['type']=='Type III'], color=['type'] , legend_loc='right margin', frameon=False, title='', use_raw=True,\n",
    "           palette={'Type I': 'springgreen', 'Type II': 'aqua','Type III': 'yellow','Normal': 'gray'},save='types_Type III')\n",
    "sc.pl.umap(adata[adata.obs['type']=='Normal'], color=['type'] , legend_loc='right margin', frameon=False, use_raw=True,\n",
    "           palette={'Type I': 'springgreen', 'Type II': 'aqua','Type III': 'yellow','Normal': 'gray'},save='types_Normal')\n",
    "\n"
   ]
  },
  {
   "cell_type": "code",
   "execution_count": null,
   "id": "062e473f-8856-4f08-ac83-d2b8dba7eacc",
   "metadata": {},
   "outputs": [],
   "source": [
    "sc.pl.umap(adata[adata.obs['type']=='Type I'], color=['leiden_1'] , legend_loc='right margin', frameon=False, title='', use_raw=True,\n",
    "           save='leiden_Type I')\n",
    "sc.pl.umap(adata[adata.obs['type']=='Type II'], color=['leiden_1'] , legend_loc='right margin', frameon=False, title='', use_raw=True,\n",
    "           save='leiden_Type II')\n",
    "sc.pl.umap(adata[adata.obs['type']=='Type III'], color=['leiden_1'] , legend_loc='right margin', frameon=False, title='', use_raw=True,\n",
    "           save='leiden_Type III')\n",
    "sc.pl.umap(adata[adata.obs['type']=='Normal'], color=['leiden_1'] , legend_loc='right margin', frameon=False, use_raw=True,\n",
    "           save='leiden_Normal')\n",
    "\n"
   ]
  },
  {
   "cell_type": "code",
   "execution_count": null,
   "id": "8c3a7cb8-6780-44df-b77a-8262bc5bf9f7",
   "metadata": {},
   "outputs": [],
   "source": [
    "sc.pl.umap(adata[adata.obs['type']=='Type I'], color=['celltype'] , legend_loc='right margin', frameon=False, title='', use_raw=True,\n",
    "           save='celltype_Type I')\n",
    "sc.pl.umap(adata[adata.obs['type']=='Type II'], color=['celltype'] , legend_loc='right margin', frameon=False, title='', use_raw=True,\n",
    "           save='celltype_Type II')\n",
    "sc.pl.umap(adata[adata.obs['type']=='Type III'], color=['celltype'] , legend_loc='right margin', frameon=False, title='', use_raw=True,\n",
    "           save='celltype_Type III')\n",
    "sc.pl.umap(adata[adata.obs['type']=='Normal'], color=['celltype'] , legend_loc='right margin', frameon=False, use_raw=True,\n",
    "           save='celltype_Normal')\n"
   ]
  },
  {
   "cell_type": "code",
   "execution_count": null,
   "id": "945726b5-b89d-4cd7-bce4-fadd3a2ed41c",
   "metadata": {},
   "outputs": [],
   "source": [
    "#Epithelial cell: '1','3','5','6','7','8','9','10','12','13','15','19','20','21','23','28'\n",
    "#B cell:'18'\n",
    "#Fibroblast:'17'\n",
    "#Myeloid:'14'\n",
    "#Plasma cell:'16'\n",
    "#CD8 effector T cell: '4','11'\n",
    "#Navie T cell:'2','24','26','27'\n",
    "#Exhausted T cell: '25'\n",
    "#Endothelial:'22'\n",
    "\n",
    "adata.obs['celltype'] = (adata.obs['leiden_1'].map\n",
    "                              (lambda x: {\n",
    "                    'Epi 1':'Epithelial cell',\n",
    "                    'Naive T1':'Naive T cell',\n",
    "                    'Epi 2':'Epithelial cell',\n",
    "                    'Effector T1':'Effector T cell',\n",
    "                    'Epi 3':'Epithelial cell',\n",
    "                    'Epi 4':'Epithelial cell',\n",
    "                    'Epi 5':'Epithelial cell',\n",
    "                    'Epi 6':'Epithelial cell',\n",
    "                    'Epi 7':'Epithelial cell',\n",
    "                    'Epi 8':'Epithelial cell',\n",
    "                    'Effector T2':'Effector T cell',\n",
    "                    'Epi 9':'Epithelial cell',\n",
    "                    'Epi 10':'Epithelial cell',\n",
    "                    'Myeloid':'Myeloid cell',\n",
    "                    'Epi 11':'Epithelial cell',\n",
    "                    'Plasma cell':'Plasma cell',\n",
    "                    'Fibroblast':'Fibroblast',\n",
    "                    'B cell':'B cell',\n",
    "                    'Epi 12':'Epithelial cell',\n",
    "                    'Epi 13':'Epithelial cell',\n",
    "                    'Epi 14':'Epithelial cell',\n",
    "                    'Endothelial':'Endothelial cell',\n",
    "                    'Epi 15':'Epithelial cell',\n",
    "                    'Naive T2':'Naive T cell',\n",
    "                    'Exhausted T':'Exhausted T cell',\n",
    "                    'Naive T3':'Naive T cell',\n",
    "                    'Naive T4':'Naive T cell',\n",
    "                    'Epi 16':'Epithelial cell',}.get(x, x)).astype(\"category\"))\n",
    " \n",
    "sc.pl.umap(adata, color=['celltype'] , legend_loc='right margin', frameon=False, title='', use_raw=True,\n",
    "           palette={'Epithelial cell': 'violet', 'Exhausted T cell': 'gold','Naive T cell':'orange','Effector T cell':'yellow','B cell': 'grey','Myeloid cell': 'red','Fibroblast': 'lightgreen','Plasma cell':'peru','Endothelial cell':'lightskyblue'},save='celltype')\n"
   ]
  },
  {
   "cell_type": "code",
   "execution_count": null,
   "id": "1f125233-4a41-4a63-aea6-2dcf25a0df27",
   "metadata": {},
   "outputs": [],
   "source": [
    "sc.tl.rank_genes_groups(adata, groupby='leiden_1', method='t-test', use_raw=False)\n",
    "result = adata.uns['rank_genes_groups']\n",
    "groups = result['names'].dtype.names\n",
    "pd.DataFrame(\n",
    "  {group + '_' + key[:3]: result[key][group]\n",
    "    for group in groups for key in ['names', 'scores', 'logfoldchanges', 'pvals_adj']}).head(5000).to_csv(\"/Users/gzou/OneDrive - Inside MD Anderson/GSE150290_GCandNT/Allcells_leiden_genelist.csv\")\n",
    "\n"
   ]
  },
  {
   "cell_type": "code",
   "execution_count": null,
   "id": "5f6a13aa-6075-4923-a844-22865888a7c5",
   "metadata": {},
   "outputs": [],
   "source": [
    "sc.pl.umap(adata, color=['leiden_1'], legend_loc='right margin', frameon=False, title='', use_raw=True, \n",
    "           palette={'Epi 1' :'lightpink',\n",
    "                    'Naive T1' :'palegoldenrod',\n",
    "                    'Epi 2' :'palevioletred',\n",
    "                    'Effector T1' :'gold',\n",
    "                    'Epi 3' :'hotpink',\n",
    "                    'Epi 4' :'mediumvioletred',\n",
    "                    'Epi 5' :'orchid',\n",
    "                    'Epi 6' :'darkmagenta',\n",
    "                    'Epi 7' :'plum',\n",
    "                    'Epi 8' :'thistle',\n",
    "                    'Effector T2' :'goldenrod',\n",
    "                    'Epi 9' :'mediumorchid',\n",
    "                    'Epi 10' :'indigo',\n",
    "                    'Myeloid' :'red',\n",
    "                    'Epi 11' :'blueviolet',\n",
    "                    'Plasma cell' :'grey',\n",
    "                    'Fibroblast' :'lightgreen',\n",
    "                    'B cell' :'silver',\n",
    "                    'Epi 12' :'deeppink',\n",
    "                    'Epi 13' :'crimson',\n",
    "                    'Epi 14' :'rebeccapurple',\n",
    "                    'Endothelial' :'peru',\n",
    "                    'Epi 15' :'mediumpurple',\n",
    "                    'Naive T2' :'wheat',\n",
    "                    'Exhausted T' :'orange',\n",
    "                    'Naive T3' :'bisque',\n",
    "                    'Naive T4' :'darkorange',\n",
    "                    'Epi 16' :'magenta'})"
   ]
  },
  {
   "cell_type": "code",
   "execution_count": null,
   "id": "5f61cc11-c138-4403-9888-f2deed48a71a",
   "metadata": {},
   "outputs": [],
   "source": [
    "sc.pl.rank_genes_groups_heatmap(adata, n_genes=10, groupby='leiden_1', \n",
    "                                use_raw=False, swap_axes=False, vmin=-2, vmax=2, show_gene_labels=False, cmap='bwr', dendrogram=False, save='allcells_leiden_heatmap')\n"
   ]
  },
  {
   "cell_type": "code",
   "execution_count": null,
   "id": "14bb5f17-0864-4266-a603-f1ef8d840c78",
   "metadata": {},
   "outputs": [],
   "source": [
    "#fGSEA of TypeI vs Normal\n",
    "sc.tl.rank_genes_groups(adata, groupby='type', groups=['Type I'], reference='Normal', method='t-test', use_raw=True)\n",
    "result = adata.uns['rank_genes_groups']\n",
    "groups = result['names'].dtype.names\n",
    "pd.DataFrame(\n",
    "  {group + '_' + key[:3]: result[key][group]\n",
    "    for group in groups for key in ['names', 'scores', 'logfoldchanges', 'pvals_adj']}).head(16532).to_csv(\"/Users/gzou/OneDrive - Inside MD Anderson/GSE150290_GCandNT/typeI_fGSEA_genelist.csv\")\n",
    "\n"
   ]
  },
  {
   "cell_type": "code",
   "execution_count": null,
   "id": "7fb3ebd5-ebb1-435b-a2a7-5bcfe56cf495",
   "metadata": {},
   "outputs": [],
   "source": [
    "#fGSEA of TypeII vs Normal\n",
    "sc.tl.rank_genes_groups(adata, groupby='type', groups=['Type II'], reference='Normal', method='t-test', use_raw=True)\n",
    "result = adata.uns['rank_genes_groups']\n",
    "groups = result['names'].dtype.names\n",
    "pd.DataFrame(\n",
    "  {group + '_' + key[:3]: result[key][group]\n",
    "    for group in groups for key in ['names', 'scores', 'logfoldchanges', 'pvals_adj']}).head(16532).to_csv(\"/Users/gzou/OneDrive - Inside MD Anderson/GSE150290_GCandNT/typeII_fGSEA_genelist.csv\")\n",
    "\n"
   ]
  },
  {
   "cell_type": "code",
   "execution_count": null,
   "id": "40ffa5f3-e0b4-4783-b544-4c4101aa95f4",
   "metadata": {},
   "outputs": [],
   "source": [
    "#fGSEA of TypeIII vs Normal\n",
    "sc.tl.rank_genes_groups(adata, groupby='type', groups=['Type III'], reference='Normal', method='t-test', use_raw=True)\n",
    "result = adata.uns['rank_genes_groups']\n",
    "groups = result['names'].dtype.names\n",
    "pd.DataFrame(\n",
    "  {group + '_' + key[:3]: result[key][group]\n",
    "    for group in groups for key in ['names', 'scores', 'logfoldchanges', 'pvals_adj']}).head(16532).to_csv(\"/Users/gzou/OneDrive - Inside MD Anderson/GSE150290_GCandNT/typeIII_fGSEA_genelist.csv\")\n",
    "\n"
   ]
  },
  {
   "cell_type": "code",
   "execution_count": null,
   "id": "cb259dee-ec9c-4b33-8ba7-90a04586056e",
   "metadata": {},
   "outputs": [],
   "source": [
    "#heatmap genelist\n",
    "sc.tl.rank_genes_groups(adata, groupby='type', method='t-test', use_raw=False)\n",
    "result = adata.uns['rank_genes_groups']\n",
    "groups = result['names'].dtype.names\n",
    "pd.DataFrame(\n",
    "  {group + '_' + key[:3]: result[key][group]\n",
    "    for group in groups for key in ['names', 'scores', 'logfoldchanges', 'pvals_adj']}).head(5000).to_csv(\"/Users/gzou/OneDrive - Inside MD Anderson/GSE150290_GCandNT/type_genelist.csv\")\n"
   ]
  },
  {
   "cell_type": "code",
   "execution_count": null,
   "id": "2864a003-732e-4231-a87d-a4200d8cc42e",
   "metadata": {},
   "outputs": [],
   "source": [
    "sc.pl.rank_genes_groups_heatmap(adata, n_genes=10, groupby='type', use_raw=False, swap_axes=False, vmin=-2, vmax=2, show_gene_labels=False, cmap='bwr', dendrogram=False, save='type_heatmap')"
   ]
  },
  {
   "cell_type": "code",
   "execution_count": null,
   "id": "cdeb0dd9-da53-4150-ad1d-0b3c3b373726",
   "metadata": {},
   "outputs": [],
   "source": [
    "adata.write('/Users/gzou/OneDrive - Inside MD Anderson/GSE150290_GCandNT/for Cellchat all pts and 29 normal/all_pts_29normal_cellchat_processed.h5ad')\n",
    "adata"
   ]
  },
  {
   "cell_type": "code",
   "execution_count": null,
   "id": "d77a5502-acc8-468b-8a63-a19a0d42daf9",
   "metadata": {},
   "outputs": [],
   "source": [
    "Epi =adata[adata.obs['leiden_1'].isin(['Epi 1','Epi 2','Epi 3','Epi 4','Epi 5','Epi 6','Epi 7','Epi 8','Epi 9','Epi 10','Epi 11','Epi 12','Epi 13','Epi 14','Epi 15','Epi 16'])]\n",
    "Epi"
   ]
  },
  {
   "cell_type": "code",
   "execution_count": null,
   "id": "dd1e1d33-d050-4787-8618-6117a35bf624",
   "metadata": {},
   "outputs": [],
   "source": [
    "\n",
    "Tcell =adata[adata.obs['leiden_1'].isin([\n",
    "                    'Naive T1',\n",
    "                    \n",
    "                    'Effector T1',\n",
    "                   \n",
    "                    'Effector T2',\n",
    "                \n",
    "                    'Naive T2',\n",
    "                    'Exhausted T',\n",
    "                    'Naive T3',\n",
    "                    'Naive T4',\n",
    "                   ])]\n",
    "Tcell"
   ]
  },
  {
   "cell_type": "code",
   "execution_count": null,
   "id": "59c16da6-ea75-485c-8c9a-aa4425551322",
   "metadata": {},
   "outputs": [],
   "source": [
    "\n",
    "Myeloid =adata[adata.obs['leiden_1'].isin(['Myeloid'])]\n",
    "Myeloid"
   ]
  },
  {
   "cell_type": "code",
   "execution_count": null,
   "id": "aa1f84a6-b849-48fd-9a46-67135770c13e",
   "metadata": {},
   "outputs": [],
   "source": [
    "\n",
    "\n",
    "sc.tl.score_genes(adata, gene_list=['LAG3','TIGIT','CTLA4','HAVCR2'], ctrl_size=50, gene_pool=None, n_bins=25, score_name='exhausted_Tcells_score', random_state=0, copy=False, use_raw=None)\n",
    "\n",
    "sc.pl.violin(adata, keys='exhausted_Tcells_score',stripplot=False,save='exhausted_Tcells_violin.pdf', groupby='type', use_raw=True)\n",
    "sc.pl.dotplot(adata, var_names='exhausted_Tcells_score', groupby='type', use_raw=True, var_group_rotation=0,\n",
    "              vmin=0,swap_axes=True, dot_min=0, save='exhausted_Tcells_dotplot.pdf')"
   ]
  },
  {
   "cell_type": "code",
   "execution_count": null,
   "id": "fb074e4f-6b94-4ab0-97d0-3ba6a942e651",
   "metadata": {},
   "outputs": [],
   "source": [
    "sc.pl.umap(Tcell[Tcell.obs['type']=='Type I'], color='exhausted_Tcells_score', legend_loc='right margin', frameon=False, vmin=0,vmax=2,add_outline=True, outline_width=(0.05,0.05), size=50, use_raw=True, cmap='Purples',save='Exhausted Tcell score_Tcell Type I')\n"
   ]
  },
  {
   "cell_type": "code",
   "execution_count": null,
   "id": "31343565-9fd6-4bae-9940-4b80f83f832d",
   "metadata": {},
   "outputs": [],
   "source": [
    "sc.pl.umap(Tcell[Tcell.obs['type']=='Type II'], color='exhausted_Tcells_score', legend_loc='right margin', frameon=False, vmin=0,vmax=2,add_outline=True, outline_width=(0.05,0.05), size=50, use_raw=True, cmap='Purples',save='Exhausted Tcell score_Tcell Type II')\n"
   ]
  },
  {
   "cell_type": "code",
   "execution_count": null,
   "id": "fa01645c-66bc-45ed-a8cb-1cc4c75ee88e",
   "metadata": {},
   "outputs": [],
   "source": [
    "sc.pl.umap(Tcell[Tcell.obs['type']=='Type III'], color='exhausted_Tcells_score', legend_loc='right margin', frameon=False, vmin=0,vmax=2,add_outline=True, outline_width=(0.05,0.05), size=50, use_raw=True, cmap='Purples',save='Exhausted Tcell score_Tcell Type III')\n"
   ]
  },
  {
   "cell_type": "code",
   "execution_count": null,
   "id": "46b864ae-26b1-4778-a53e-f6d197c6ccad",
   "metadata": {},
   "outputs": [],
   "source": [
    "# CTLA4 and PD-1 and PD-L1\n",
    "#CD274=PDL1; PDCD1LG2=PDL2, PDCD1=PD1\n",
    "#‘area’, ‘count’, ‘width’\n",
    "\n",
    "\n",
    "sc.tl.score_genes(adata, gene_list=['CTLA4','PDCD1','PDCD1LG2','CD274'], ctrl_size=50, gene_pool=None, n_bins=25, score_name='immune_checkpoint_score', random_state=0, copy=False, use_raw=None)\n",
    "sc.pl.dotplot(adata, var_names='immune_checkpoint_score', groupby='type', use_raw=True, var_group_rotation=0,\n",
    "              vmin=0,swap_axes=True, dot_min=0,save='immune_checkpoint_dotplot.pdf')\n",
    "\n",
    "sc.pl.violin(adata, stripplot=False,keys='immune_checkpoint_score',save='immune_checkpoint_violin', groupby='type', use_raw=True)\n",
    "\n"
   ]
  },
  {
   "cell_type": "code",
   "execution_count": null,
   "id": "5a1e9b20-ebba-49e7-807a-7070a8115475",
   "metadata": {},
   "outputs": [],
   "source": [
    "#for p value\n",
    "sc.tl.rank_genes_groups(Tcell, groupby='type', groups=['Type I'], reference='Normal', method='t-test', use_raw=True)\n",
    "result = Tcell.uns['rank_genes_groups']\n",
    "groups = result['names'].dtype.names\n",
    "pd.DataFrame(\n",
    "  {group + '_' + key[:3]: result[key][group]\n",
    "    for group in groups for key in ['names', 'scores', 'logfoldchanges', 'pvals_adj']}).head(16532).to_csv(\"/Users/gzou/OneDrive - Inside MD Anderson/GSE150290_GCandNT/for Cellchat all pts and 29 normal/IvsNormal Tcell genes.csv\")\n"
   ]
  },
  {
   "cell_type": "code",
   "execution_count": null,
   "id": "433cc57b-e60b-4dc4-95c5-ec1ef507edb7",
   "metadata": {},
   "outputs": [],
   "source": [
    "#for p value\n",
    "sc.tl.rank_genes_groups(Tcell, groupby='type', groups=['Type II'], reference='Normal', method='t-test', use_raw=True)\n",
    "result = Tcell.uns['rank_genes_groups']\n",
    "groups = result['names'].dtype.names\n",
    "pd.DataFrame(\n",
    "  {group + '_' + key[:3]: result[key][group]\n",
    "    for group in groups for key in ['names', 'scores', 'logfoldchanges', 'pvals_adj']}).head(16532).to_csv(\"/Users/gzou/OneDrive - Inside MD Anderson/GSE150290_GCandNT/for Cellchat all pts and 29 normal/IIvsNormal Tcell genes.csv\")\n"
   ]
  },
  {
   "cell_type": "code",
   "execution_count": null,
   "id": "2a160cc3-af30-43ee-ad6a-4a1cbc3bcaec",
   "metadata": {},
   "outputs": [],
   "source": [
    "#for p value\n",
    "sc.tl.rank_genes_groups(Tcell, groupby='type', groups=['Type III'], reference='Normal', method='t-test', use_raw=True)\n",
    "result = Tcell.uns['rank_genes_groups']\n",
    "groups = result['names'].dtype.names\n",
    "pd.DataFrame(\n",
    "  {group + '_' + key[:3]: result[key][group]\n",
    "    for group in groups for key in ['names', 'scores', 'logfoldchanges', 'pvals_adj']}).head(16532).to_csv(\"/Users/gzou/OneDrive - Inside MD Anderson/GSE150290_GCandNT/for Cellchat all pts and 29 normal/IIIvsNormal Tcell genes.csv\")\n"
   ]
  },
  {
   "cell_type": "code",
   "execution_count": null,
   "id": "22d47720-47b7-4beb-8e08-d255ceb364fb",
   "metadata": {},
   "outputs": [],
   "source": [
    "#for p value\n",
    "sc.tl.rank_genes_groups(Tcell, groupby='type', groups=['Type II'], reference='Type I', method='t-test', use_raw=True)\n",
    "result = Tcell.uns['rank_genes_groups']\n",
    "groups = result['names'].dtype.names\n",
    "pd.DataFrame(\n",
    "  {group + '_' + key[:3]: result[key][group]\n",
    "    for group in groups for key in ['names', 'scores', 'logfoldchanges', 'pvals_adj']}).head(16532).to_csv(\"/Users/gzou/OneDrive - Inside MD Anderson/GSE150290_GCandNT/for Cellchat all pts and 29 normal/IIvsI Tcell genes.csv\")\n"
   ]
  },
  {
   "cell_type": "code",
   "execution_count": null,
   "id": "e364f2fd-b0aa-40c0-bf9a-05f3716f23e5",
   "metadata": {},
   "outputs": [],
   "source": [
    "sc.tl.score_genes(Tcell, gene_list=['CTLA4','PDCD1','PDCD1LG2','CD274'], ctrl_size=50, gene_pool=None, n_bins=25, score_name='immune_checkpoint_score', random_state=0, copy=False, use_raw=None)\n",
    "\n",
    "\n",
    "sc.pl.umap(Tcell[Tcell.obs['type']=='Normal'], color='immune_checkpoint_score', legend_loc='right margin', frameon=False, vmin=0,vmax=1.5,add_outline=True, outline_width=(0.05,0.05), size=50, use_raw=True, cmap='Purples',save='immune_checkpoint_score_Tcell normal')\n"
   ]
  },
  {
   "cell_type": "code",
   "execution_count": null,
   "id": "5d5edce6-74ca-401b-b548-fe321b2e8fa7",
   "metadata": {},
   "outputs": [],
   "source": [
    "#for p value\n",
    "sc.tl.rank_genes_groups(Tcell, groupby='type', groups=['Type III'], reference='Type I', method='t-test', use_raw=True)\n",
    "result = Tcell.uns['rank_genes_groups']\n",
    "groups = result['names'].dtype.names\n",
    "pd.DataFrame(\n",
    "  {group + '_' + key[:3]: result[key][group]\n",
    "    for group in groups for key in ['names', 'scores', 'logfoldchanges', 'pvals_adj']}).head(16532).to_csv(\"/Users/gzou/OneDrive - Inside MD Anderson/GSE150290_GCandNT/for Cellchat all pts and 29 normal/IIIvsI Tcell genes.csv\")\n"
   ]
  },
  {
   "cell_type": "code",
   "execution_count": null,
   "id": "441632e2-64fd-4771-bbdd-3f888d7da2e1",
   "metadata": {},
   "outputs": [],
   "source": [
    "sc.pl.umap(Tcell[Tcell.obs['type']=='Type I'], color='immune_checkpoint_score', legend_loc='right margin', frameon=False, vmin=0,vmax=1.5,add_outline=True, outline_width=(0.05,0.05), size=50, use_raw=True, cmap='Purples',save='immune_checkpoint_score_Tcell Type I')\n"
   ]
  },
  {
   "cell_type": "code",
   "execution_count": null,
   "id": "cf19af7c-93eb-40ae-959a-ccf99473fccc",
   "metadata": {},
   "outputs": [],
   "source": [
    "sc.pl.umap(Tcell[Tcell.obs['type']=='Type II'], color='immune_checkpoint_score', legend_loc='right margin', frameon=False, vmin=0,vmax=1.5,add_outline=True, outline_width=(0.05,0.05), size=50, use_raw=True, cmap='Purples',save='immune_checkpoint_score_Tcell Type II')\n"
   ]
  },
  {
   "cell_type": "code",
   "execution_count": null,
   "id": "d2d789ba-1ce6-4438-bb72-d185fd0b1a5f",
   "metadata": {},
   "outputs": [],
   "source": [
    "sc.pl.umap(Tcell[Tcell.obs['type']=='Type III'], color='immune_checkpoint_score', legend_loc='right margin', frameon=False, vmin=0,vmax=1.5,add_outline=True, outline_width=(0.05,0.05), size=50, use_raw=True, cmap='Purples',save='immune_checkpoint_score_Tcell Type III')\n"
   ]
  },
  {
   "cell_type": "code",
   "execution_count": null,
   "id": "41bfa320-3dce-4b93-8861-6c8ecfda742b",
   "metadata": {},
   "outputs": [],
   "source": [
    "sc.pl.umap(Tcell[Tcell.obs['type']=='Normal'], color=['PDCD1','CTLA4'], legend_loc='right margin', frameon=False, vmin=0,vmax=3,add_outline=True, outline_width=(0.05,0.05), size=50, use_raw=True, cmap='Purples',save='PD1andCTLA4_Tcell Normal')\n",
    "sc.pl.umap(Tcell[Tcell.obs['type']=='Type I'], color=['PDCD1','CTLA4'], legend_loc='right margin', frameon=False, vmin=0,vmax=3,add_outline=True, outline_width=(0.05,0.05), size=50, use_raw=True, cmap='Purples',save='PD1andCTLA4_Tcell TypeI')\n",
    "sc.pl.umap(Tcell[Tcell.obs['type']=='Type II'], color=['PDCD1','CTLA4'], legend_loc='right margin', frameon=False, vmin=0,vmax=3,add_outline=True, outline_width=(0.05,0.05), size=50, use_raw=True, cmap='Purples',save='PD1andCTLA4_Tcell TypeII')\n",
    "sc.pl.umap(Tcell[Tcell.obs['type']=='Type III'], color=['PDCD1','CTLA4'], legend_loc='right margin', frameon=False, vmin=0,vmax=3,add_outline=True, outline_width=(0.05,0.05), size=50, use_raw=True, cmap='Purples',save='PD1andCTLA4_Tcell TypeIII')\n"
   ]
  },
  {
   "cell_type": "code",
   "execution_count": null,
   "id": "832aaaad-8b3c-4e44-8be4-a1ff6c941742",
   "metadata": {},
   "outputs": [],
   "source": [
    "sc.pl.umap(adata[adata.obs['type']=='Normal'], color=['PDCD1','CTLA4'], legend_loc='right margin', frameon=False, vmin=0,vmax=3,add_outline=True, outline_width=(0.05,0.05), size=50, use_raw=True, cmap='Purples',save='PD1andCTLA4_Normal')\n",
    "sc.pl.umap(adata[adata.obs['type']=='Type I'], color=['PDCD1','CTLA4'], legend_loc='right margin', frameon=False, vmin=0,vmax=3,add_outline=True, outline_width=(0.05,0.05), size=50, use_raw=True, cmap='Purples',save='PD1andCTLA4_TypeI')\n",
    "sc.pl.umap(adata[adata.obs['type']=='Type II'], color=['PDCD1','CTLA4'], legend_loc='right margin', frameon=False, vmin=0,vmax=3,add_outline=True, outline_width=(0.05,0.05), size=50, use_raw=True, cmap='Purples',save='PD1andCTLA4_TypeII')\n",
    "sc.pl.umap(adata[adata.obs['type']=='Type III'], color=['PDCD1','CTLA4'], legend_loc='right margin', frameon=False, vmin=0,vmax=3,add_outline=True, outline_width=(0.05,0.05), size=50, use_raw=True, cmap='Purples',save='PD1andCTLA4_TypeIII')\n",
    "\n",
    "sc.pl.dotplot(Tcell, var_names='PDCD1', groupby='leiden_1', use_raw=True, var_group_rotation=0,\n",
    "              vmin=0,swap_axes=True, dot_min=0,save='PDCD1 in each immune cell type')\n",
    "sc.pl.dotplot(Tcell, var_names='CTLA4', groupby='leiden_1', use_raw=True, var_group_rotation=0,\n",
    "              vmin=0,swap_axes=True, dot_min=0,save='CTLA4 in each immune cell type')\n"
   ]
  },
  {
   "cell_type": "code",
   "execution_count": null,
   "id": "a032ca90-beb9-415d-8762-da279dc77e49",
   "metadata": {},
   "outputs": [],
   "source": [
    "sc.pl.umap(adata[adata.obs['type']=='Normal'], color=['CD99'], legend_loc='right margin', frameon=False, vmin=0,vmax=4,add_outline=True, outline_width=(0.05,0.05), size=50, use_raw=True, cmap='Purples',save='CD99_Normal')\n",
    "sc.pl.umap(adata[adata.obs['type']=='Type I'], color=['CD99'], legend_loc='right margin', frameon=False, vmin=0,vmax=4,add_outline=True, outline_width=(0.05,0.05), size=50, use_raw=True, cmap='Purples',save='CD99_TypeI')\n",
    "sc.pl.umap(adata[adata.obs['type']=='Type II'], color=['CD99'], legend_loc='right margin', frameon=False, vmin=0,vmax=4,add_outline=True, outline_width=(0.05,0.05), size=50, use_raw=True, cmap='Purples',save='CD99_TypeII')\n",
    "sc.pl.umap(adata[adata.obs['type']=='Type III'], color=['CD99'], legend_loc='right margin', frameon=False, vmin=0,vmax=4,add_outline=True, outline_width=(0.05,0.05), size=50, use_raw=True, cmap='Purples',save='CD99_TypeIII')\n",
    "\n"
   ]
  },
  {
   "cell_type": "code",
   "execution_count": null,
   "id": "ba90ec04-b58b-4f12-b7ec-a17b16ed3aa4",
   "metadata": {},
   "outputs": [],
   "source": [
    "sc.pl.dotplot(adata[adata.obs['type']=='Normal'], var_names='CD99', groupby='celltype', use_raw=True, var_group_rotation=0,\n",
    "              vmin=0,vmax=2,swap_axes=True, dot_min=0,dot_max=1,save='CD99 in Normal')\n",
    "sc.pl.dotplot(adata[adata.obs['type']=='Type I'], var_names='CD99', groupby='celltype', use_raw=True, var_group_rotation=0,\n",
    "              vmin=0,vmax=2,swap_axes=True, dot_min=0,dot_max=1,save='CD99 in Type I')\n",
    "sc.pl.dotplot(adata[adata.obs['type']=='Type II'], var_names='CD99', groupby='celltype', use_raw=True, var_group_rotation=0,\n",
    "              vmin=0,vmax=2,swap_axes=True, dot_min=0,dot_max=1,save='CD99 in Type II')\n",
    "sc.pl.dotplot(adata[adata.obs['type']=='Type III'], var_names='CD99', groupby='celltype', use_raw=True, var_group_rotation=0,\n",
    "              vmin=0,vmax=2,swap_axes=True, dot_min=0,dot_max=1,save='CD99 in Type III')\n"
   ]
  },
  {
   "cell_type": "code",
   "execution_count": null,
   "id": "403b361e-4492-424f-9a62-a396ab3b6c37",
   "metadata": {},
   "outputs": [],
   "source": [
    "sc.pl.dotplot(adata, var_names='CD99', groupby='celltype', use_raw=True, var_group_rotation=0,\n",
    "              vmin=0,vmax=2,swap_axes=True, dot_min=0,dot_max=1,save='CD99 in cell type')\n"
   ]
  },
  {
   "cell_type": "code",
   "execution_count": null,
   "id": "a5a619b9-703a-4405-bbdd-28c17a88fa1b",
   "metadata": {},
   "outputs": [],
   "source": [
    "sc.pl.dotplot(adata, var_names='CD99', groupby='type', use_raw=True, var_group_rotation=0,\n",
    "              vmin=0,swap_axes=True, dot_min=0,dot_max=1,save='CD99 in 3 types')\n"
   ]
  },
  {
   "cell_type": "code",
   "execution_count": null,
   "id": "2bcc0293-eff0-417f-9ba0-2a07fa32684a",
   "metadata": {},
   "outputs": [],
   "source": [
    "sc.pl.umap(adata[adata.obs['type']=='Normal'], color=['PILRA'], legend_loc='right margin', frameon=False, vmin=0,vmax=3,add_outline=True, outline_width=(0.05,0.05), size=50, use_raw=True, cmap='Purples',save='PILRA_Normal')\n",
    "sc.pl.umap(adata[adata.obs['type']=='Type I'], color=['PILRA'], legend_loc='right margin', frameon=False, vmin=0,vmax=3,add_outline=True, outline_width=(0.05,0.05), size=50, use_raw=True, cmap='Purples',save='PILRA_TypeI')\n",
    "sc.pl.umap(adata[adata.obs['type']=='Type II'], color=['PILRA'], legend_loc='right margin', frameon=False, vmin=0,vmax=3,add_outline=True, outline_width=(0.05,0.05), size=50, use_raw=True, cmap='Purples',save='PILRA_TypeII')\n",
    "sc.pl.umap(adata[adata.obs['type']=='Type III'], color=['PILRA'], legend_loc='right margin', frameon=False, vmin=0,vmax=3,add_outline=True, outline_width=(0.05,0.05), size=50, use_raw=True, cmap='Purples',save='PILRA_TypeIII')\n",
    "\n"
   ]
  },
  {
   "cell_type": "code",
   "execution_count": null,
   "id": "00934f47-073b-4110-bae3-33c4523a79e0",
   "metadata": {},
   "outputs": [],
   "source": [
    "sc.pl.umap(adata[adata.obs['type']=='Normal'], color=['PILRB'], legend_loc='right margin', frameon=False, vmin=0,vmax=3,add_outline=True, outline_width=(0.05,0.05), size=50, use_raw=True, cmap='Purples',save='PILRB_Normal')\n",
    "sc.pl.umap(adata[adata.obs['type']=='Type I'], color=['PILRB'], legend_loc='right margin', frameon=False, vmin=0,vmax=3,add_outline=True, outline_width=(0.05,0.05), size=50, use_raw=True, cmap='Purples',save='PILRB_TypeI')\n",
    "sc.pl.umap(adata[adata.obs['type']=='Type II'], color=['PILRB'], legend_loc='right margin', frameon=False, vmin=0,vmax=3,add_outline=True, outline_width=(0.05,0.05), size=50, use_raw=True, cmap='Purples',save='PILRB_TypeII')\n",
    "sc.pl.umap(adata[adata.obs['type']=='Type III'], color=['PILRB'], legend_loc='right margin', frameon=False, vmin=0,vmax=3,add_outline=True, outline_width=(0.05,0.05), size=50, use_raw=True, cmap='Purples',save='PILRB_TypeIII')\n",
    "\n"
   ]
  },
  {
   "cell_type": "code",
   "execution_count": null,
   "id": "7be9ad68-3bba-48b3-b3d9-a245bb12e213",
   "metadata": {},
   "outputs": [],
   "source": [
    "sc.pl.dotplot(adata, var_names='PILRA', groupby='type', use_raw=True, var_group_rotation=0,\n",
    "              vmin=0,swap_axes=True, dot_min=0,save='PILRA in 3 types')\n"
   ]
  },
  {
   "cell_type": "code",
   "execution_count": null,
   "id": "989d7ebc-8622-4e4d-b4e1-3fb5e606a2ca",
   "metadata": {},
   "outputs": [],
   "source": [
    "sc.pl.dotplot(adata, var_names='PILRB', groupby='type', use_raw=True, var_group_rotation=0,\n",
    "              vmin=0,swap_axes=True, dot_min=0,save='PILRB in 3 types')\n"
   ]
  },
  {
   "cell_type": "code",
   "execution_count": null,
   "id": "3e46b67d-2527-4d2c-87fa-77a450de56f8",
   "metadata": {},
   "outputs": [],
   "source": [
    "sc.pl.dotplot(adata, var_names='PILRA', groupby='celltype', use_raw=True, var_group_rotation=0,\n",
    "              vmin=0,vmax=0.5,swap_axes=True, dot_min=0,dot_max=0.4,save='PILRA in cell type')\n"
   ]
  },
  {
   "cell_type": "code",
   "execution_count": null,
   "id": "e832f299-4d9b-4fea-9c04-0853e281f117",
   "metadata": {},
   "outputs": [],
   "source": [
    "sc.pl.dotplot(adata, var_names='PILRB', groupby='celltype', use_raw=True, var_group_rotation=0,\n",
    "              vmin=0,vmax=0.5,swap_axes=True, dot_min=0,dot_max=0.4,save='PILRB in cell type')\n"
   ]
  },
  {
   "cell_type": "code",
   "execution_count": null,
   "id": "fe69bd2a-099c-4491-913a-4fb9882958f6",
   "metadata": {},
   "outputs": [],
   "source": [
    "\n",
    "sc.pl.dotplot(adata[adata.obs['type']=='Normal'], var_names='PILRA', groupby='celltype', use_raw=True, var_group_rotation=0,\n",
    "              vmin=0,vmax=0.5,swap_axes=True, dot_min=0,dot_max=0.4,save='PILRA in Normal')\n",
    "sc.pl.dotplot(adata[adata.obs['type']=='Type I'], var_names='PILRA', groupby='celltype', use_raw=True, var_group_rotation=0,\n",
    "              vmin=0,vmax=0.5,swap_axes=True, dot_min=0,dot_max=0.4,save='PILRA in Type I')\n",
    "sc.pl.dotplot(adata[adata.obs['type']=='Type II'], var_names='PILRA', groupby='celltype', use_raw=True, var_group_rotation=0,\n",
    "              vmin=0,vmax=0.5,swap_axes=True, dot_min=0,dot_max=0.4,save='PILRA in Type II')\n",
    "sc.pl.dotplot(adata[adata.obs['type']=='Type III'], var_names='PILRA', groupby='celltype', use_raw=True, var_group_rotation=0,\n",
    "              vmin=0,vmax=0.5,swap_axes=True, dot_min=0,dot_max=0.4,save='PILRA in Type III')\n"
   ]
  },
  {
   "cell_type": "code",
   "execution_count": null,
   "id": "31369680-2e26-4f3a-b8ee-76d81044f7d0",
   "metadata": {},
   "outputs": [],
   "source": [
    "sc.pl.dotplot(adata[adata.obs['type']=='Normal'], var_names='PILRB', groupby='celltype', use_raw=True, var_group_rotation=0,\n",
    "              vmin=0,vmax=0.5,swap_axes=True, dot_min=0,dot_max=0.4,save='PILRB in Normal')\n",
    "sc.pl.dotplot(adata[adata.obs['type']=='Type I'], var_names='PILRB', groupby='celltype', use_raw=True, var_group_rotation=0,\n",
    "              vmin=0,vmax=0.5,swap_axes=True, dot_min=0,dot_max=0.4,save='PILRB in Type I')\n",
    "sc.pl.dotplot(adata[adata.obs['type']=='Type II'], var_names='PILRB', groupby='celltype', use_raw=True, var_group_rotation=0,\n",
    "              vmin=0,vmax=0.5,swap_axes=True, dot_min=0,dot_max=0.4,save='PILRB in Type II')\n",
    "sc.pl.dotplot(adata[adata.obs['type']=='Type III'], var_names='PILRB', groupby='celltype', use_raw=True, var_group_rotation=0,\n",
    "              vmin=0,vmax=0.5,swap_axes=True, dot_min=0,dot_max=0.4,save='PILRB in Type III')\n"
   ]
  },
  {
   "cell_type": "code",
   "execution_count": null,
   "id": "743cb52c-dd20-4e72-ba16-daecb948a70a",
   "metadata": {},
   "outputs": [],
   "source": [
    "sc.pl.umap(Epi[Epi.obs['type']=='Normal'], color=['PDCD1LG2','CD274'], legend_loc='right margin', frameon=False, vmin=0,vmax=2,add_outline=True, outline_width=(0.05,0.05), size=50, use_raw=True, cmap='Purples',save='PDCD1LG2andCD274_Tcell Normal')\n",
    "sc.pl.umap(Epi[Epi.obs['type']=='Type I'], color=['PDCD1LG2','CD274'], legend_loc='right margin', frameon=False, vmin=0,vmax=2,add_outline=True, outline_width=(0.05,0.05), size=50, use_raw=True, cmap='Purples',save='PDCD1LG2andCD274_Tcell TypeI')\n",
    "sc.pl.umap(Epi[Epi.obs['type']=='Type II'], color=['PDCD1LG2','CD274'], legend_loc='right margin', frameon=False, vmin=0,vmax=2,add_outline=True, outline_width=(0.05,0.05), size=50, use_raw=True, cmap='Purples',save='PDCD1LG2andCD274_Tcell TypeII')\n",
    "sc.pl.umap(Epi[Epi.obs['type']=='Type III'], color=['PDCD1LG2','CD274'], legend_loc='right margin', frameon=False, vmin=0,vmax=2,add_outline=True, outline_width=(0.05,0.05), size=50, use_raw=True, cmap='Purples',save='PDCD1LG2andCD274_Tcell TypeIII')\n"
   ]
  },
  {
   "cell_type": "code",
   "execution_count": null,
   "id": "001b8596-b92e-434e-b91a-a674e6c47bb6",
   "metadata": {},
   "outputs": [],
   "source": [
    "sc.pl.umap(Epi[Epi.obs['type']=='Normal'], color=['PDCD1LG2'], legend_loc='right margin', frameon=False, vmin=0,vmax=0.5,add_outline=True, outline_width=(0.05,0.05), size=50, use_raw=True, cmap='Purples',save='PDCD1LG2_Epi Normal')\n",
    "sc.pl.umap(Epi[Epi.obs['type']=='Type I'], color=['PDCD1LG2'], legend_loc='right margin', frameon=False, vmin=0,vmax=0.5,add_outline=True, outline_width=(0.05,0.05), size=50, use_raw=True, cmap='Purples',save='PDCD1LG2_Epi TypeI')\n",
    "sc.pl.umap(Epi[Epi.obs['type']=='Type II'], color=['PDCD1LG2'], legend_loc='right margin', frameon=False, vmin=0,vmax=0.5,add_outline=True, outline_width=(0.05,0.05), size=50, use_raw=True, cmap='Purples',save='PDCD1LG2_Epi TypeII')\n",
    "sc.pl.umap(Epi[Epi.obs['type']=='Type III'], color=['PDCD1LG2'], legend_loc='right margin', frameon=False, vmin=0,vmax=0.5,add_outline=True, outline_width=(0.05,0.05), size=50, use_raw=True, cmap='Purples',save='PDCD1LG2_Epi TypeIII')\n"
   ]
  },
  {
   "cell_type": "code",
   "execution_count": null,
   "id": "9ac4a887-62bb-4759-bca9-f03f09c282df",
   "metadata": {},
   "outputs": [],
   "source": [
    "# MDSC from KP: 'IFITM1','JUNB','CLEC4E','IL1B','PLA2G7','ARG2','CLEC4D','CTSD','CD84'\n",
    "# count geneset score (EMT)\n",
    "sc.tl.score_genes(adata, gene_list=['IFITM1','JUNB','CLEC4E','IL1B','PLA2G7','ARG2','CLEC4D','CTSD','CD84'], ctrl_size=50, gene_pool=None, n_bins=25, score_name='MDSC score', random_state=0, copy=False, use_raw=None)\n",
    "sc.pl.dotplot(adata, var_names='MDSC score', groupby='type', use_raw=True, var_group_rotation=0,\n",
    "              vmin=0,swap_axes=True, dot_min=0,save='MDSCscore_dotplot.pdf')\n",
    "\n",
    "sc.pl.violin(adata, stripplot=False,keys='MDSC score',save='MDSCscore_violin.pdf', groupby='type', use_raw=True)\n"
   ]
  },
  {
   "cell_type": "code",
   "execution_count": null,
   "id": "1f694181-0fd3-40c5-92cb-d2b34718a44e",
   "metadata": {},
   "outputs": [],
   "source": [
    "# count geneset score (EMT)\n",
    "sc.tl.score_genes(adata, gene_list=['CDH2','VIM','SNAI1','SNAI2','ZEB1','ZEB2','E47','ZLF8','TWIST1','GSC','TCF4','SIX1','FOXC2'], ctrl_size=50, gene_pool=None, n_bins=25, score_name='score', random_state=0, copy=False, use_raw=None)"
   ]
  },
  {
   "cell_type": "code",
   "execution_count": null,
   "id": "69921dd2-70e1-4d1b-b062-23468c1769a3",
   "metadata": {},
   "outputs": [],
   "source": [
    "# count geneset score violin plot\n",
    "sc.pl.violin(adata, stripplot=False,keys='score', groupby='type', use_raw=True, save='EMTscore')"
   ]
  },
  {
   "cell_type": "code",
   "execution_count": null,
   "id": "5359a197-58ca-450b-9702-0b3605aa3f90",
   "metadata": {},
   "outputs": [],
   "source": [
    "# count geneset score dot plot\n",
    "sc.pl.dotplot(adata, var_names='score', groupby='type', use_raw=True, var_group_rotation=0,\n",
    "              vmin=0,swap_axes=True, dot_min=0,save='EMTscore')\n"
   ]
  },
  {
   "cell_type": "code",
   "execution_count": null,
   "id": "37366d8b-0fed-4bc2-88b9-aa2829115e47",
   "metadata": {},
   "outputs": [],
   "source": [
    "sc.pl.dotplot(adata, var_names='CDH1', groupby='type', use_raw=True, var_group_rotation=0,\n",
    "              vmin=0,swap_axes=True, dot_min=0,save='CDH1')\n",
    "sc.pl.violin(adata, stripplot=False,keys='CDH1', groupby='type', use_raw=True,save='CDH1')"
   ]
  },
  {
   "cell_type": "code",
   "execution_count": null,
   "id": "81fb032f-ddbc-429c-9bdc-47ad0f5d5a07",
   "metadata": {},
   "outputs": [],
   "source": [
    "#exhausted T cell dot plot\n",
    "sc.pl.dotplot(adata, var_names=['LAG3','TIGIT','CTLA4','HAVCR2'], groupby='type', use_raw=True, var_group_rotation=0,\n",
    "              vmin=0,swap_axes=True, dot_min=0,save='exhausted T cell markers')\n",
    "\n",
    "sc.pl.violin(adata, stripplot=False,keys=['LAG3','TIGIT','CTLA4','HAVCR2'], groupby='type', use_raw=True,save='exhausted T cell markers')\n"
   ]
  },
  {
   "cell_type": "code",
   "execution_count": null,
   "id": "e4c2ed6a-88d2-4046-a57b-f8823540f59f",
   "metadata": {},
   "outputs": [],
   "source": [
    "#M1 markers HLA-DR, CD11c(ITGAX,SLEB6),CD86,iNOS(NOS2),pSTAT1(STAT1)\n",
    "#activated M1: TLR,TNF-alpha,IFN-gamma,CSF2\n",
    "#M2 markers CD163,CD204 (MSR1),CD206(MRC1),VEGF,cMAF (MAF)\n",
    "#activated M2: IL-4,IL-10,IL-13,TGF-beta,PGE2\n",
    "\n",
    "sc.pl.dotplot(adata, var_names=['HLA-DRA', 'ITGAX','CD86','NOS2','STAT1'], groupby='type', use_raw=True, var_group_rotation=0,\n",
    "              vmin=0,swap_axes=True, dot_min=0, save='M1 markers')\n",
    "sc.pl.dotplot(adata, var_names=['CD163','MSR1','MRC1','VEGFA','MAF'], groupby='type', use_raw=True, var_group_rotation=0,\n",
    "              vmin=0,swap_axes=True, dot_min=0, save='M2 markers')\n"
   ]
  },
  {
   "cell_type": "code",
   "execution_count": null,
   "id": "d3860a53-8084-4789-9c1d-9f40ee4c04c9",
   "metadata": {},
   "outputs": [],
   "source": [
    "# immune checkpoints\n",
    "sc.pl.dotplot(adata, var_names=['CTLA4','PDCD1','PDCD1LG2','CD274'], groupby='type', use_raw=True, var_group_rotation=0,\n",
    "              vmin=0,swap_axes=True, dot_min=0, save='immune checkpoints markers')\n",
    "\n",
    "sc.pl.violin(adata, stripplot=False,keys=['CTLA4','PDCD1','PDCD1LG2','CD274'], groupby='type', use_raw=True, save='immune checkpoints markers')\n"
   ]
  },
  {
   "cell_type": "code",
   "execution_count": null,
   "id": "a84bc492-71d6-4f1e-bcaf-9c4af7e9ed59",
   "metadata": {},
   "outputs": [],
   "source": [
    "Tcell.obs.to_csv('/Users/gzou/OneDrive - Inside MD Anderson/GSE150290_GCandNT/for Cellchat all pts and 29 normal/Tcell for score pvalue.csv')"
   ]
  },
  {
   "cell_type": "code",
   "execution_count": null,
   "id": "f98e6922-7d29-4727-a842-5e7687f93581",
   "metadata": {},
   "outputs": [],
   "source": [
    "adata[adata.obs['type']== 'Normal']"
   ]
  },
  {
   "cell_type": "code",
   "execution_count": null,
   "id": "42d8d1b4-f607-4fd7-b372-08265b286607",
   "metadata": {},
   "outputs": [],
   "source": [
    "adata[adata.obs['type']== 'Type I']"
   ]
  },
  {
   "cell_type": "code",
   "execution_count": null,
   "id": "f21c6aca-4728-4252-8605-5e21395e2383",
   "metadata": {},
   "outputs": [],
   "source": [
    "adata[adata.obs['type']== 'Type II']"
   ]
  },
  {
   "cell_type": "code",
   "execution_count": null,
   "id": "e535bf90-3f72-4d3f-823a-5d236ecdb3e6",
   "metadata": {},
   "outputs": [],
   "source": [
    "adata[adata.obs['type']== 'Type III']"
   ]
  },
  {
   "cell_type": "code",
   "execution_count": null,
   "id": "b93a7751-532d-477c-8b21-8529e2c3c019",
   "metadata": {},
   "outputs": [],
   "source": [
    "#for p value\n",
    "sc.tl.rank_genes_groups(Epi, groupby='type', groups=['Type I'], reference='Normal', method='t-test', use_raw=True)\n",
    "result = Epi.uns['rank_genes_groups']\n",
    "groups = result['names'].dtype.names\n",
    "pd.DataFrame(\n",
    "  {group + '_' + key[:3]: result[key][group]\n",
    "    for group in groups for key in ['names', 'scores', 'logfoldchanges', 'pvals_adj']}).head(16532).to_csv(\"/Users/gzou/OneDrive - Inside MD Anderson/GSE150290_GCandNT/for Cellchat all pts and 29 normal/IvsNormal Epi genes.csv\")\n"
   ]
  },
  {
   "cell_type": "code",
   "execution_count": null,
   "id": "eef0e25d-4335-44a1-a8b4-432b6804eac4",
   "metadata": {},
   "outputs": [],
   "source": [
    "#for p value\n",
    "sc.tl.rank_genes_groups(Epi, groupby='type', groups=['Type I'], reference='Type II', method='t-test', use_raw=True)\n",
    "result = Epi.uns['rank_genes_groups']\n",
    "groups = result['names'].dtype.names\n",
    "pd.DataFrame(\n",
    "  {group + '_' + key[:3]: result[key][group]\n",
    "    for group in groups for key in ['names', 'scores', 'logfoldchanges', 'pvals_adj']}).head(16532).to_csv(\"/Users/gzou/OneDrive - Inside MD Anderson/GSE150290_GCandNT/for Cellchat all pts and 29 normal/IvsII Epi genes.csv\")\n"
   ]
  },
  {
   "cell_type": "code",
   "execution_count": null,
   "id": "eddafddf-deb7-47fd-ac36-da9659816809",
   "metadata": {},
   "outputs": [],
   "source": [
    "#for p value\n",
    "sc.tl.rank_genes_groups(Epi, groupby='type', groups=['Type III'], reference='Type I', method='t-test', use_raw=True)\n",
    "result = Epi.uns['rank_genes_groups']\n",
    "groups = result['names'].dtype.names\n",
    "pd.DataFrame(\n",
    "  {group + '_' + key[:3]: result[key][group]\n",
    "    for group in groups for key in ['names', 'scores', 'logfoldchanges', 'pvals_adj']}).head(16532).to_csv(\"/Users/gzou/OneDrive - Inside MD Anderson/GSE150290_GCandNT/for Cellchat all pts and 29 normal/IvsIII Epi genes.csv\")\n"
   ]
  },
  {
   "cell_type": "code",
   "execution_count": null,
   "id": "93f6630c-1bb8-49cc-9a5f-e5358abfb3ef",
   "metadata": {},
   "outputs": [],
   "source": [
    "#for p value\n",
    "sc.tl.rank_genes_groups(adata, groupby='type', groups=['Type I'], reference='Normal', method='t-test', use_raw=True)\n",
    "result = adata.uns['rank_genes_groups']\n",
    "groups = result['names'].dtype.names\n",
    "pd.DataFrame(\n",
    "  {group + '_' + key[:3]: result[key][group]\n",
    "    for group in groups for key in ['names', 'scores', 'logfoldchanges', 'pvals_adj']}).head(16532).to_csv(\"/Users/gzou/OneDrive - Inside MD Anderson/GSE150290_GCandNT/for Cellchat all pts and 29 normal/IvsNormal genes.csv\")\n"
   ]
  },
  {
   "cell_type": "code",
   "execution_count": null,
   "id": "9664a6ab-9efb-4036-aa68-c03522e08eb6",
   "metadata": {},
   "outputs": [],
   "source": [
    "#for p value\n",
    "sc.tl.rank_genes_groups(adata, groupby='type', groups=['Type II'], reference='Type I', method='t-test', use_raw=True)\n",
    "result = adata.uns['rank_genes_groups']\n",
    "groups = result['names'].dtype.names\n",
    "pd.DataFrame(\n",
    "  {group + '_' + key[:3]: result[key][group]\n",
    "    for group in groups for key in ['names', 'scores', 'logfoldchanges', 'pvals_adj']}).head(16532).to_csv(\"/Users/gzou/OneDrive - Inside MD Anderson/GSE150290_GCandNT/for Cellchat all pts and 29 normal/IIvsI genes.csv\")\n"
   ]
  },
  {
   "cell_type": "code",
   "execution_count": null,
   "id": "1ba54720-a281-4796-b97f-1ab3f4646599",
   "metadata": {},
   "outputs": [],
   "source": [
    "#for p value\n",
    "sc.tl.rank_genes_groups(adata, groupby='type', groups=['Type III'], reference='Type I', method='t-test', use_raw=True)\n",
    "result = adata.uns['rank_genes_groups']\n",
    "groups = result['names'].dtype.names\n",
    "pd.DataFrame(\n",
    "  {group + '_' + key[:3]: result[key][group]\n",
    "    for group in groups for key in ['names', 'scores', 'logfoldchanges', 'pvals_adj']}).head(16532).to_csv(\"/Users/gzou/OneDrive - Inside MD Anderson/GSE150290_GCandNT/for Cellchat all pts and 29 normal/IIIvsI genes.csv\")\n"
   ]
  },
  {
   "cell_type": "code",
   "execution_count": null,
   "id": "7cfc7aba-6ca5-4508-b764-571708503b52",
   "metadata": {},
   "outputs": [],
   "source": [
    "adata.write('/Users/gzou/OneDrive - Inside MD Anderson/GSE150290_GCandNT/for Cellchat all pts and 29 normal/all_pts_29normal_cellchat_processed.h5ad', compression='gzip')"
   ]
  }
 ],
 "metadata": {
  "kernelspec": {
   "display_name": "Python 3 (ipykernel)",
   "language": "python",
   "name": "python3"
  },
  "language_info": {
   "codemirror_mode": {
    "name": "ipython",
    "version": 3
   },
   "file_extension": ".py",
   "mimetype": "text/x-python",
   "name": "python",
   "nbconvert_exporter": "python",
   "pygments_lexer": "ipython3",
   "version": "3.8.13"
  }
 },
 "nbformat": 4,
 "nbformat_minor": 5
}
