{
 "cells": [
  {
   "cell_type": "code",
   "execution_count": null,
   "id": "23ecb924-702f-40ed-b241-d9db5318ade0",
   "metadata": {},
   "outputs": [],
   "source": [
    "import numpy as np\n",
    "import pandas as pd\n",
    "import scanpy as sc\n",
    "import scanpy.external as sce\n",
    "import scipy\n",
    "sc.settings.verbosity = 3\n",
    "sc.logging.print_header()\n",
    "sc.set_figure_params(dpi=100, dpi_save=600)\n",
    "    \n",
    "import scvelo as scv\n",
    "scv.settings.verbosity = 3\n",
    "scv.settings.presenter_view = True\n",
    "scv.logging.print_versions()\n",
    "\n",
    "import cellrank as cr\n",
    "cr.settings.verbosity = 3\n",
    "cr.logging.print_versions()\n",
    "\n",
    "import matplotlib.pyplot as pl\n",
    "from matplotlib import rcParams\n",
    "\n",
    "import os"
   ]
  },
  {
   "cell_type": "code",
   "execution_count": null,
   "id": "3666ba7d-2a5b-406e-a4ee-16dfb92e48ba",
   "metadata": {},
   "outputs": [],
   "source": [
    "WT = sc.read('/Users/gzou/OneDrive - Inside MD Anderson/Gengyi_MSO/MSO_matrix/WT/WT_raw_after_Scrublet.h5ad')\n",
    "WT"
   ]
  },
  {
   "cell_type": "code",
   "execution_count": null,
   "id": "586679bb-5460-4a73-a2ca-23de11ff9d5b",
   "metadata": {},
   "outputs": [],
   "source": [
    "KP = sc.read('/Users/gzou/OneDrive - Inside MD Anderson/Gengyi_MSO/MSO_matrix/KP/KP_raw_after_Scrublet.h5ad')\n",
    "KP"
   ]
  },
  {
   "cell_type": "code",
   "execution_count": null,
   "id": "85a0dd17-3474-4d07-bea3-5dc1e793cb49",
   "metadata": {
    "tags": []
   },
   "outputs": [],
   "source": [
    "EKP = sc.read('/Users/gzou/OneDrive - Inside MD Anderson/Gengyi_MSO/MSO_matrix/EKP/EKP_raw_after_Scrublet.h5ad')\n",
    "EKP"
   ]
  },
  {
   "cell_type": "code",
   "execution_count": null,
   "id": "b1bbaae6-877b-4756-9cf0-f85c6fc7f991",
   "metadata": {},
   "outputs": [],
   "source": [
    "adata = WT.concatenate(KP, EKP, batch_categories=['WT', 'KP', 'EKP'])\n",
    "adata"
   ]
  },
  {
   "cell_type": "code",
   "execution_count": null,
   "id": "65cb1969-198e-42eb-8f2e-e19547957ebe",
   "metadata": {},
   "outputs": [],
   "source": [
    "adata.write('/Users/gzou/OneDrive - Inside MD Anderson/Gengyi_DGC/DGC_matrix/3in1_raw.h5ad', compression='gzip')"
   ]
  },
  {
   "cell_type": "code",
   "execution_count": null,
   "id": "0e6ef356-7770-4694-ba5d-4b365eb4b629",
   "metadata": {},
   "outputs": [],
   "source": [
    "adata=sc.read('/Users/gzou/OneDrive - Inside MD Anderson/Gengyi_DGC/DGC_matrix/3in1_raw.h5ad')"
   ]
  },
  {
   "cell_type": "code",
   "execution_count": null,
   "id": "e5399b24-5133-4e60-9a3a-7321467daa64",
   "metadata": {},
   "outputs": [],
   "source": [
    "adata=sc.read('/Users/gzou/OneDrive - Inside MD Anderson/Gengyi_DGC/DGC_matrix/3in1.h5ad', compression='gzip')"
   ]
  },
  {
   "cell_type": "code",
   "execution_count": null,
   "id": "e7b5bd04-5a92-4816-a31e-29b4ae8ed570",
   "metadata": {},
   "outputs": [],
   "source": [
    "sc.pl.highest_expr_genes(adata, n_top=20)\n",
    "sc.pp.filter_cells(adata, min_genes=50)\n",
    "sc.pp.filter_genes(adata, min_cells=5)"
   ]
  },
  {
   "cell_type": "code",
   "execution_count": null,
   "id": "45aeb703-4cfc-401f-9ddc-a88f36eb262e",
   "metadata": {},
   "outputs": [],
   "source": [
    "adata.var['mt'] = adata.var_names.str.startswith('mt-')\n",
    "adata.var['rpl'] = adata.var_names.str.startswith('Rpl')\n",
    "adata.var['rps'] = adata.var_names.str.startswith('Rps')\n",
    "adata"
   ]
  },
  {
   "cell_type": "code",
   "execution_count": null,
   "id": "c4e073e6-9a81-4505-ae10-c0fd6f4d3bd3",
   "metadata": {},
   "outputs": [],
   "source": [
    "sc.pp.calculate_qc_metrics(adata, qc_vars=['mt','rpl','rps'], percent_top=None, log1p=False, inplace=True)\n",
    "sc.pl.violin(adata, keys=['n_genes_by_counts', 'total_counts', 'pct_counts_mt','pct_counts_rpl','pct_counts_rps'], jitter=0.4, multi_panel=True)\n",
    "adata"
   ]
  },
  {
   "cell_type": "code",
   "execution_count": null,
   "id": "075b78e1-7ae4-45f0-94c7-14567c4b824f",
   "metadata": {},
   "outputs": [],
   "source": [
    "sc.pl.scatter(adata, x='total_counts', y='pct_counts_mt')\n",
    "sc.pl.scatter(adata, x='total_counts', y='pct_counts_rpl')\n",
    "sc.pl.scatter(adata, x='total_counts', y='pct_counts_rps')\n",
    "sc.pl.scatter(adata, x='total_counts', y='n_genes_by_counts')"
   ]
  },
  {
   "cell_type": "code",
   "execution_count": null,
   "id": "63560690-e219-43b6-bf8e-be2cf52346ea",
   "metadata": {},
   "outputs": [],
   "source": [
    "adata = adata[adata.obs.n_genes_by_counts < 8000, :]\n",
    "adata = adata[adata.obs.pct_counts_mt < 30, :]\n",
    "adata = adata[adata.obs.pct_counts_rpl < 30, :]\n",
    "adata = adata[adata.obs.pct_counts_rps < 25, :]\n",
    "adata"
   ]
  },
  {
   "cell_type": "code",
   "execution_count": null,
   "id": "a8128d07-6e69-472a-9ca5-ad40bed29ea0",
   "metadata": {},
   "outputs": [],
   "source": [
    "sc.pp.normalize_total(adata, target_sum=1e4)\n",
    "sc.pp.log1p(adata)\n",
    "adata"
   ]
  },
  {
   "cell_type": "code",
   "execution_count": null,
   "id": "882e12cf-b7f6-48cd-a84b-ac1676457009",
   "metadata": {},
   "outputs": [],
   "source": [
    "sc.pp.highly_variable_genes(adata, n_top_genes=5000)\n",
    "sc.pl.highly_variable_genes(adata)\n",
    "print(sum(adata.var.highly_variable))\n",
    "adata"
   ]
  },
  {
   "cell_type": "code",
   "execution_count": null,
   "id": "786c93c6-3109-42c9-9de5-7fcd3b3b11d6",
   "metadata": {},
   "outputs": [],
   "source": [
    "adata.raw=adata"
   ]
  },
  {
   "cell_type": "code",
   "execution_count": null,
   "id": "7d043106-c4df-43ea-9369-7350bd53feb9",
   "metadata": {},
   "outputs": [],
   "source": [
    "adata = adata[:, adata.var.highly_variable]\n",
    "adata"
   ]
  },
  {
   "cell_type": "code",
   "execution_count": null,
   "id": "d30bcdf9-3211-4753-ba63-a1e04a149b20",
   "metadata": {},
   "outputs": [],
   "source": [
    "sc.pp.regress_out(adata, keys=['total_counts', 'pct_counts_mt','pct_counts_rpl','pct_counts_rps'], n_jobs=8)\n",
    "sc.pp.scale(adata, max_value=10)\n",
    "adata"
   ]
  },
  {
   "cell_type": "code",
   "execution_count": null,
   "id": "d5856e81-be21-4bcc-a8ec-35fdfc4d2970",
   "metadata": {},
   "outputs": [],
   "source": [
    "sc.tl.pca(adata, svd_solver='arpack')\n",
    "sce.pp.harmony_integrate(adata, key='batch', basis='X_pca', adjusted_basis='X_pca_harmony')\n",
    "adata.obsm['X_pca']=adata.obsm['X_pca_harmony']\n",
    "sc.pp.neighbors(adata, n_neighbors=15, n_pcs=50, knn=True)\n",
    "sc.tl.leiden(adata, resolution=0.5)\n",
    "sc.tl.umap(adata)\n",
    "adata\n",
    "\n",
    "\n"
   ]
  },
  {
   "cell_type": "code",
   "execution_count": null,
   "id": "cc942c20-1014-4269-91fd-dbd1f60ac2a7",
   "metadata": {},
   "outputs": [],
   "source": [
    "sc.pl.umap(adata, color=['batch'], legend_loc='right margin', frameon=False, title='', use_raw=True,\n",
    "           palette={'WT': 'blue', 'KP': 'orange', 'EKP': 'green'})\n",
    "sc.pl.umap(adata, color=['leiden'], legend_loc='right margin', frameon=False, title='', use_raw=True, palette='Accent')"
   ]
  },
  {
   "cell_type": "code",
   "execution_count": null,
   "id": "80b59cb4-2633-4c5e-80d6-198b994786e4",
   "metadata": {},
   "outputs": [],
   "source": [
    "adata"
   ]
  },
  {
   "cell_type": "code",
   "execution_count": null,
   "id": "50c10d3e-f04c-403b-819a-82f0e8b521e9",
   "metadata": {},
   "outputs": [],
   "source": [
    "WT=adata[adata.obs['batch']=='WT']\n",
    "KP=adata[adata.obs['batch']=='KP']\n",
    "EKP=adata[adata.obs['batch']=='EKP']"
   ]
  },
  {
   "cell_type": "code",
   "execution_count": null,
   "id": "d4c15500-4d04-435f-a0a3-83fd30072dfb",
   "metadata": {},
   "outputs": [],
   "source": [
    "WT"
   ]
  },
  {
   "cell_type": "code",
   "execution_count": null,
   "id": "8f6892f3-3dcd-4929-96be-0ca221e186ca",
   "metadata": {},
   "outputs": [],
   "source": [
    "KP"
   ]
  },
  {
   "cell_type": "code",
   "execution_count": null,
   "id": "4fde4934-bc99-400f-ab20-1599a52c5872",
   "metadata": {},
   "outputs": [],
   "source": [
    "EKP"
   ]
  },
  {
   "cell_type": "code",
   "execution_count": null,
   "id": "f2b8faa7-3582-4324-8284-89c27fffcf4f",
   "metadata": {},
   "outputs": [],
   "source": [
    "sc.pl.dotplot(adata, var_names=['Krt7', 'Krt20', 'Cdx2','Muc1', 'Muc2', 'Muc5ac','Sox2', 'Sox4'], groupby='batch', use_raw=True, var_group_rotation=0,\n",
    "              vmin=0, swap_axes=True, dot_min=0)"
   ]
  },
  {
   "cell_type": "code",
   "execution_count": null,
   "id": "13e09f2c-d1f4-4373-8553-a641c9231518",
   "metadata": {},
   "outputs": [],
   "source": [
    "# check regulon expression level\n",
    "sc.pl.dotplot(adata, var_names=['Pole4', 'Ezh2', 'E2f3','Gtf2b', 'Gabpa', 'Tfdp1','Sox4', 'E2f7','E2f1','E2f8','Brca1','Gtf2f1'], groupby='batch', use_raw=True, var_group_rotation=0,\n",
    "              vmin=0, swap_axes=True, dot_min=0, save='regulon')"
   ]
  },
  {
   "cell_type": "code",
   "execution_count": null,
   "id": "a9c73a7a-be84-4728-bda7-9e59952249cc",
   "metadata": {},
   "outputs": [],
   "source": [
    "sc.pl.umap(adata, color=['Epcam'], legend_loc='right margin', frameon=False, add_outline=True, outline_width=(0.05,0.05), size=50, use_raw=True, cmap='Purples', save='Epcam_featureplot')"
   ]
  },
  {
   "cell_type": "code",
   "execution_count": null,
   "id": "2242a3c4-ed54-4b3b-b8e2-7a96accb462a",
   "metadata": {},
   "outputs": [],
   "source": [
    "sc.pl.umap(WT, color=['Top2a'], legend_loc='right margin', vmin=0, vmax=3.3,frameon=False, add_outline=True, outline_width=(0.05,0.05), size=50, use_raw=True, cmap='Purples', save='WT_Top2a_featureplot')\n",
    "sc.pl.umap(KP, color=['Top2a'], legend_loc='right margin', vmin=0, vmax=3.3,frameon=False, add_outline=True, outline_width=(0.05,0.05), size=50, use_raw=True, cmap='Purples', save='KP_Top2a_featureplot')\n",
    "sc.pl.umap(EKP, color=['Top2a'], legend_loc='right margin', vmin=0, vmax=3.3,frameon=False, add_outline=True, outline_width=(0.05,0.05), size=50, use_raw=True, cmap='Purples', save='EKP_Top2a_featureplot')\n",
    "sc.pl.umap(WT, color=['Pclaf'], legend_loc='right margin', vmin=0, vmax=2.8,frameon=False, add_outline=True, outline_width=(0.05,0.05), size=50, use_raw=True, cmap='Purples', save='WT_Pclaf_featureplot')\n",
    "sc.pl.umap(KP, color=['Pclaf'], legend_loc='right margin', vmin=0, vmax=2.8,frameon=False, add_outline=True, outline_width=(0.05,0.05), size=50, use_raw=True, cmap='Purples', save='KP_Pclaf_featureplot')\n",
    "sc.pl.umap(EKP, color=['Pclaf'], legend_loc='right margin', vmin=0, vmax=2.8,frameon=False, add_outline=True, outline_width=(0.05,0.05), size=50, use_raw=True, cmap='Purples', save='EKP_Pclaf_featureplot')"
   ]
  },
  {
   "cell_type": "code",
   "execution_count": null,
   "id": "b13d791f-7914-42b0-987a-c0a98d8139fd",
   "metadata": {},
   "outputs": [],
   "source": [
    "\n",
    "sc.pl.dotplot(adata, var_names=['Snhg4','Muc1','Rex1bd','Pglyrp1','Lypd2',\n",
    "'Bnip3','Eif1','Pgk1',\n",
    "'Prxl2a','Aqp5','Hspb1',\n",
    "'Mki67','Top2a','Pclaf',\n",
    "'Gm42418','Gm26917','Neat1',\n",
    "'Fxyd3','Mt2','Crip1',\n",
    "'Platr31','B020031M17Rik','Dcc'], groupby=['leiden'], use_raw=True, var_group_rotation=0,\n",
    "              vmin=0, swap_axes=True, dot_min=0, save='annotation')"
   ]
  },
  {
   "cell_type": "code",
   "execution_count": null,
   "id": "59c7c9ef-51ad-47ed-bcb0-ccbb47141605",
   "metadata": {},
   "outputs": [],
   "source": [
    "sc.pl.umap(adata[adata.obs['batch']=='WT'], color=['leiden'], legend_loc='right margin', frameon=False, title='WT', use_raw=True, save='WT_UMAP.pdf')\n",
    "sc.pl.umap(adata[adata.obs['batch']=='KP'], color=['leiden'], legend_loc='right margin', frameon=False, title='KP', use_raw=True, save='KP_UMAP.pdf')\n",
    "sc.pl.umap(adata[adata.obs['batch']=='EKP'], color=['leiden'], legend_loc='right margin', frameon=False, title='EKP', use_raw=True, save='EKP_UMAP.pdf')"
   ]
  },
  {
   "cell_type": "code",
   "execution_count": null,
   "id": "33e215e1-c1a1-4e34-90a6-31cd60a58c96",
   "metadata": {},
   "outputs": [],
   "source": [
    "adata[adata.obs['batch']=='WT'].obs['leiden'].value_counts()"
   ]
  },
  {
   "cell_type": "code",
   "execution_count": null,
   "id": "505d3f2a-113b-4679-bfad-6b00e30383a4",
   "metadata": {},
   "outputs": [],
   "source": [
    "adata[adata.obs['batch']=='KP'].obs['leiden'].value_counts()"
   ]
  },
  {
   "cell_type": "code",
   "execution_count": null,
   "id": "955dc80b-8ce5-48ba-96f2-68531c85ce87",
   "metadata": {},
   "outputs": [],
   "source": [
    "adata[adata.obs['batch']=='EKP'].obs['leiden'].value_counts()"
   ]
  },
  {
   "cell_type": "code",
   "execution_count": null,
   "id": "434529e1-4b2d-4d7f-9e3c-057f4920aa1d",
   "metadata": {},
   "outputs": [],
   "source": [
    "sc.tl.rank_genes_groups(adata, groupby='leiden', method='wilcoxon', use_raw=False)"
   ]
  },
  {
   "cell_type": "code",
   "execution_count": null,
   "id": "a5ec22a7-a36e-404c-ad4b-e70f7ce09e45",
   "metadata": {},
   "outputs": [],
   "source": [
    "result = adata.uns['rank_genes_groups']\n",
    "groups = result['names'].dtype.names\n",
    "pd.DataFrame(\n",
    "  {group + '_' + key[:3]: result[key][group]\n",
    "    for group in groups for key in ['names', 'scores', 'logfoldchanges', 'pvals_adj']}).head(5000).to_csv(\"/Users/gzou/OneDrive - Inside MD Anderson/Gengyi_DGC/DGC_matrix/3in1_leiden_markers.csv\")"
   ]
  },
  {
   "cell_type": "code",
   "execution_count": null,
   "id": "104d77ab-543b-4ebd-8442-3eb761899b0e",
   "metadata": {},
   "outputs": [],
   "source": [
    "sc.pl.rank_genes_groups_heatmap(adata[adata.obs['batch']=='EKP'], show_gene_labels=False,n_genes=50, groupby='leiden', use_raw=False, swap_axes=False, vmin=-2, vmax=2, cmap='bwr', dendrogram=False,save='heatmap_EKP')"
   ]
  },
  {
   "cell_type": "code",
   "execution_count": null,
   "id": "07e02eff-0b1d-4374-b443-07a30f9136b1",
   "metadata": {},
   "outputs": [],
   "source": [
    "#for p value\n",
    "sc.tl.rank_genes_groups(adata, groupby='batch', groups=['KP'], reference='WT', method='wilcoxon', use_raw=True)\n",
    "result = adata.uns['rank_genes_groups']\n",
    "groups = result['names'].dtype.names\n",
    "pd.DataFrame(\n",
    "  {group + '_' + key[:3]: result[key][group]\n",
    "    for group in groups for key in ['names', 'scores', 'logfoldchanges', 'pvals_adj']}).head(32285).to_csv(\"/Users/gzou/OneDrive - Inside MD Anderson/Gengyi_DGC/DGC_matrix/KPvsWT genes.csv\")\n"
   ]
  },
  {
   "cell_type": "code",
   "execution_count": null,
   "id": "0c028e75-80e4-4381-b13b-a3cbcbddb389",
   "metadata": {},
   "outputs": [],
   "source": [
    "#for p value\n",
    "sc.tl.rank_genes_groups(adata, groupby='batch', groups=['EKP'], reference='WT', method='wilcoxon', use_raw=True)\n",
    "result = adata.uns['rank_genes_groups']\n",
    "groups = result['names'].dtype.names\n",
    "pd.DataFrame(\n",
    "  {group + '_' + key[:3]: result[key][group]\n",
    "    for group in groups for key in ['names', 'scores', 'logfoldchanges', 'pvals_adj']}).head(32285).to_csv(\"/Users/gzou/OneDrive - Inside MD Anderson/Gengyi_DGC/DGC_matrix/EKPvsWT genes.csv\")\n"
   ]
  },
  {
   "cell_type": "code",
   "execution_count": null,
   "id": "a0cd8c0f-f992-405d-a39c-0305948841eb",
   "metadata": {},
   "outputs": [],
   "source": [
    "#for p value\n",
    "sc.tl.rank_genes_groups(adata, groupby='batch', groups=['EKP'], reference='KP', method='wilcoxon', use_raw=True)\n",
    "result = adata.uns['rank_genes_groups']\n",
    "groups = result['names'].dtype.names\n",
    "pd.DataFrame(\n",
    "  {group + '_' + key[:3]: result[key][group]\n",
    "    for group in groups for key in ['names', 'scores', 'logfoldchanges', 'pvals_adj']}).head(32285).to_csv(\"/Users/gzou/OneDrive - Inside MD Anderson/Gengyi_DGC/DGC_matrix/EKPvsKP genes.csv\")\n"
   ]
  },
  {
   "cell_type": "code",
   "execution_count": null,
   "id": "e097b0fd-f3e2-4e29-b997-25439cf86971",
   "metadata": {},
   "outputs": [],
   "source": [
    "#root=adata[adata.obs['leiden'].isin(['2'])]\n",
    "#root\n",
    " \n",
    "## use this for GSEA whole gene\n",
    "#sc.tl.rank_genes_groups(root, groupby='batch', groups=['KO'], reference='WT', method='wilcoxon', use_raw=True)\n",
    "#result = root.uns['rank_genes_groups']\n",
    "#groups = result['names'].dtype.names\n",
    "#pd.DataFrame(\n",
    "#  {group + '_' + key[:3]: result[key][group]\n",
    "#    for group in groups for key in ['names', 'scores', 'logfoldchanges', 'pvals_adj']}).head(15685).to_csv(\"/Users/gzou/OneDrive - Inside MD Anderson/Gengyi_MSO/MSO_matrix/WTvsKOforGSEA.csv\")\n",
    " \n",
    "## use this for Drug prediction top 5000 gene\n",
    "#sc.tl.rank_genes_groups(root, groupby='batch', groups=['KO'], reference='WT', method='wilcoxon', use_raw=False)\n",
    "#result = root.uns['rank_genes_groups']\n",
    "#groups = result['names'].dtype.names\n",
    "#pd.DataFrame(\n",
    "#  {group + '_' + key[:3]: result[key][group]\n",
    "#    for group in groups for key in ['names', 'scores', 'logfoldchanges', 'pvals_adj']}).head(5000).to_csv(\"/Users/gzou/OneDrive - Inside MD Anderson/Gengyi_MSO/MSO_matrix/WTvsKOforDrug.csv\")"
   ]
  },
  {
   "cell_type": "code",
   "execution_count": null,
   "id": "8f5b538a-a9a1-482d-b09f-026e60c9250d",
   "metadata": {},
   "outputs": [],
   "source": [
    "#sc.tl.rank_genes_groups(adata, groupby='batch', groups=['KO'], reference='WT', method='wilcoxon', use_raw=True)"
   ]
  },
  {
   "cell_type": "code",
   "execution_count": null,
   "id": "75b3a8cc-d46e-4364-a5b0-6a7bcf0e1cea",
   "metadata": {},
   "outputs": [],
   "source": [
    "#result = adata.uns['rank_genes_groups']\n",
    "#groups = result['names'].dtype.names\n",
    "#pd.DataFrame(\n",
    "    #{group + '_' + key[:3]: result[key][group]\n",
    "    #for group in groups for key in ['names', 'scores', 'logfoldchanges', 'pvals_adj']}).head(5000).to_csv(\"C:/Users/Park_Lab/Documents/KOvsWTforGSEA.csv\")"
   ]
  },
  {
   "cell_type": "code",
   "execution_count": null,
   "id": "4376fa03-f796-45bf-9e2c-270265088411",
   "metadata": {},
   "outputs": [],
   "source": [
    "#sc.tl.rank_genes_groups(adata, groupby='batch', groups=['CKP'], reference='KP', method='wilcoxon', use_raw=True)"
   ]
  },
  {
   "cell_type": "code",
   "execution_count": null,
   "id": "89f04749-6cd3-4a0a-927e-0ee61477fe76",
   "metadata": {},
   "outputs": [],
   "source": [
    "#result = adata.uns['rank_genes_groups']\n",
    "#groups = result['names'].dtype.names\n",
    "#pd.DataFrame(\n",
    "    #{group + '_' + key[:3]: result[key][group]\n",
    "    #for group in groups for key in ['names', 'scores', 'logfoldchanges', 'pvals_adj']}).head(5000).to_csv(\"C:/Users/Park_Lab/Documents/CKPvsKPforGSEA.csv\")"
   ]
  },
  {
   "cell_type": "code",
   "execution_count": null,
   "id": "adbfe17b-3389-466d-b1da-15219851124e",
   "metadata": {},
   "outputs": [],
   "source": [
    "sc.pl.dotplot(adata, var_names=['Mki67','Hopx', 'Lgr5', 'Lrig1', 'Sox4', 'Prom1', 'Aqp5'], groupby='batch', use_raw=True, var_group_rotation=0,\n",
    "              vmin=0, swap_axes=True, dot_min=0, save='stemness_marker')"
   ]
  },
  {
   "cell_type": "code",
   "execution_count": null,
   "id": "6efb2ab8-fc91-43d4-b782-3a4ec043683d",
   "metadata": {},
   "outputs": [],
   "source": [
    "sc.pl.umap(adata[adata.obs['batch']=='WT'], color=['Mki67','Hopx', 'Lgr5', 'Lrig1', 'Sox4', 'Prom1', 'Aqp5'],\n",
    "           legend_loc='right margin', frameon=False, vmin=0, vmax=4, add_outline=True, outline_width=(0.05,0.05), size=50, use_raw=True, cmap='Purples',save='WT_stemness_marker')"
   ]
  },
  {
   "cell_type": "code",
   "execution_count": null,
   "id": "6ceace3b-a99d-4377-9f9a-2c643378a5bd",
   "metadata": {},
   "outputs": [],
   "source": [
    "sc.pl.umap(adata[adata.obs['batch']=='KP'], color=['Mki67','Hopx', 'Lgr5', 'Lrig1', 'Sox4', 'Prom1', 'Aqp5'],\n",
    "           legend_loc='right margin', frameon=False, vmin=0,vmax=4, add_outline=True, outline_width=(0.05,0.05), size=50, use_raw=True, cmap='Purples',save='KP_stemness_marker')"
   ]
  },
  {
   "cell_type": "code",
   "execution_count": null,
   "id": "ac8c4d33-80f5-4546-9ce5-c9ab444e49a6",
   "metadata": {},
   "outputs": [],
   "source": [
    "sc.pl.umap(adata[adata.obs['batch']=='EKP'], color=['Mki67','Hopx', 'Lgr5', 'Lrig1', 'Sox4', 'Prom1', 'Aqp5'],\n",
    "           legend_loc='right margin', frameon=False, vmin=0,vmax=4, add_outline=True, outline_width=(0.05,0.05), size=50, use_raw=True, cmap='Purples', save='EKP_stemness_marker')"
   ]
  },
  {
   "cell_type": "code",
   "execution_count": null,
   "id": "7d26d7f3-817e-434c-ac74-8613b5e07d63",
   "metadata": {},
   "outputs": [],
   "source": [
    "sc.pl.dotplot(adata, var_names=['Muc1', 'Muc2', 'Muc4', 'Muc5ac', 'Muc5b', 'Muc13'], groupby='batch', use_raw=True, var_group_rotation=0,\n",
    "              vmin=0, swap_axes=True, dot_min=0, save='muc_marker')"
   ]
  },
  {
   "cell_type": "code",
   "execution_count": null,
   "id": "5eaa66bd-e882-4bf3-96fb-07eef55a54c6",
   "metadata": {
    "tags": []
   },
   "outputs": [],
   "source": [
    "sc.pl.umap(adata[adata.obs['batch']=='WT'], color=['Muc1', 'Muc2', 'Muc4', 'Muc5ac', 'Muc5b', 'Muc13'],\n",
    "           legend_loc='right margin', frameon=False, vmin=0,vmax=3, add_outline=True, outline_width=(0.05,0.05), size=50, use_raw=True, cmap='Purples', save='WT_featureplot_Muc')"
   ]
  },
  {
   "cell_type": "code",
   "execution_count": null,
   "id": "16be88ec-dca6-4728-b9e6-a757a7ab75a2",
   "metadata": {},
   "outputs": [],
   "source": [
    "sc.pl.umap(adata[adata.obs['batch']=='KP'], color=['Muc1', 'Muc2', 'Muc4', 'Muc5ac', 'Muc5b', 'Muc13'],\n",
    "           legend_loc='right margin', frameon=False, vmin=0, vmax=3,add_outline=True, outline_width=(0.05,0.05), size=50, use_raw=True, cmap='Purples', save='KP_featureplot_Muc')"
   ]
  },
  {
   "cell_type": "code",
   "execution_count": null,
   "id": "6cd1bdc5-4df5-46a3-9ec1-93e5ee118d5c",
   "metadata": {
    "tags": []
   },
   "outputs": [],
   "source": [
    "sc.pl.umap(adata[adata.obs['batch']=='EKP'], color=['Muc1', 'Muc2', 'Muc4', 'Muc5ac', 'Muc5b', 'Muc13'],\n",
    "           legend_loc='right margin', frameon=False, vmin=0, vmax=3,add_outline=True, outline_width=(0.05,0.05), size=50, use_raw=True, cmap='Purples', save='EKP_featureplot_Muc')"
   ]
  },
  {
   "cell_type": "code",
   "execution_count": null,
   "id": "4ab7312f-4f97-40ee-b9ba-45fe0ade9cdf",
   "metadata": {},
   "outputs": [],
   "source": [
    "sc.pl.dotplot(adata, var_names=['Krt4', 'Krt8', 'Krt10', 'Krt15', 'Krt16', 'Krt19'], groupby='batch', use_raw=True, var_group_rotation=0,\n",
    "              vmin=0, swap_axes=True, dot_min=0,save='pan_krt_ae1_ae3')"
   ]
  },
  {
   "cell_type": "code",
   "execution_count": null,
   "id": "e487d0d0-6d6a-43ed-8818-fc9ec56fdd24",
   "metadata": {},
   "outputs": [],
   "source": [
    "sc.pl.umap(adata[adata.obs['batch']=='WT'], color=['Krt4', 'Krt8', 'Krt10', 'Krt15', 'Krt16', 'Krt19'],\n",
    "           legend_loc='right margin', frameon=False, vmin=0,vmax=4,add_outline=True, outline_width=(0.05,0.05), size=50, use_raw=True, cmap='Purples',save='WT_pan_krt_ae1_ae3')"
   ]
  },
  {
   "cell_type": "code",
   "execution_count": null,
   "id": "8566ee95-37bb-42cf-9eff-af45edc15d36",
   "metadata": {},
   "outputs": [],
   "source": [
    "sc.pl.umap(adata[adata.obs['batch']=='KP'], color=['Krt4', 'Krt8', 'Krt10', 'Krt15', 'Krt16', 'Krt19'],\n",
    "           legend_loc='right margin', frameon=False, vmin=0,vmax=4,add_outline=True, outline_width=(0.05,0.05), size=50, use_raw=True, cmap='Purples',save='KP_pan_krt_ae1_ae3')"
   ]
  },
  {
   "cell_type": "code",
   "execution_count": null,
   "id": "257fda9d-4cbe-47f0-85a1-d63c17195bc9",
   "metadata": {},
   "outputs": [],
   "source": [
    "sc.pl.umap(adata[adata.obs['batch']=='EKP'], color=['Krt4', 'Krt8', 'Krt10', 'Krt15', 'Krt16', 'Krt19'],\n",
    "           legend_loc='right margin', frameon=False, vmin=0,vmax=4,add_outline=True, outline_width=(0.05,0.05), size=50, use_raw=True, cmap='Purples',save='EKP_pan_krt_ae1_ae3')"
   ]
  },
  {
   "cell_type": "code",
   "execution_count": null,
   "id": "e40d3b82-020c-4312-bb38-4d9fa49d3764",
   "metadata": {},
   "outputs": [],
   "source": [
    "#p16 CDKN2A\n",
    "#Trp53\n",
    "#CK AE1/3 include CK1, CK3, CK4, CK5, CK6, CK8, CK10, CK14, CK15, CK16, CK19\n",
    "sc.pl.dotplot(adata, var_names=['Cdkn2a', 'Trp53','Cdh1'], groupby='batch', use_raw=True, var_group_rotation=0,\n",
    "              vmin=0, swap_axes=True, dot_min=0,save='p16_p53_cdh1')"
   ]
  },
  {
   "cell_type": "code",
   "execution_count": null,
   "id": "60dc640d-f790-43fa-b327-dd6c8449b210",
   "metadata": {},
   "outputs": [],
   "source": [
    "sc.pl.umap(adata[adata.obs['batch']=='WT'], color=['Cdkn2a', 'Trp53','Cdh1'],\n",
    "           legend_loc='right margin', frameon=False, vmin=0,vmax=3,add_outline=True, outline_width=(0.05,0.05), size=50, use_raw=True, cmap='Purples',save='WT_p16_p53_cdh1')"
   ]
  },
  {
   "cell_type": "code",
   "execution_count": null,
   "id": "3e3784fa-50b1-4020-8a55-22a05363634d",
   "metadata": {},
   "outputs": [],
   "source": [
    "sc.pl.umap(adata[adata.obs['batch']=='KP'], color=['Cdkn2a', 'Trp53','Cdh1'],\n",
    "           legend_loc='right margin', frameon=False, vmin=0,vmax=3,add_outline=True, outline_width=(0.05,0.05), size=50, use_raw=True, cmap='Purples'save='KP_p16_p53_cdh1')"
   ]
  },
  {
   "cell_type": "code",
   "execution_count": null,
   "id": "680a9a1f-7722-4886-a498-8f5a1ddafa4f",
   "metadata": {},
   "outputs": [],
   "source": [
    "sc.pl.umap(adata[adata.obs['batch']=='EKP'], color=['Cdkn2a', 'Trp53','Cdh1'],\n",
    "           legend_loc='right margin', frameon=False, vmin=0,vmax=3,add_outline=True, outline_width=(0.05,0.05), size=50, use_raw=True, cmap='Purples',save='EKP_p16_p53_cdh1')"
   ]
  },
  {
   "cell_type": "code",
   "execution_count": null,
   "id": "ea6818a4-5f6c-4923-bcfe-e50cd4c4d6ab",
   "metadata": {},
   "outputs": [],
   "source": [
    "#Gastric Adenocarcinoma: 'Krt7', 'Krt20', 'Cdx2',\n",
    "#Differential diagnosis: 'Muc1', 'Muc2', 'Muc5ac',\n",
    "#Un-differential cancer(stemness): 'Sox2', 'Sox4', 'Oct4', 'Nanog'.\n",
    "\n",
    "sc.pl.dotplot(adata, var_names=['Krt7', 'Krt20', 'Cdx2','Muc1', 'Muc2', 'Muc5ac','Sox2', 'Sox4'], groupby='batch', use_raw=True, var_group_rotation=0,\n",
    "              vmin=0, swap_axes=True, dot_min=0, save='tumor_marker')"
   ]
  },
  {
   "cell_type": "code",
   "execution_count": null,
   "id": "0088d2ac-411e-4b56-87ca-3ca7d8ca4337",
   "metadata": {},
   "outputs": [],
   "source": [
    "sc.pl.umap(adata[adata.obs['batch']=='WT'], color=['Krt7', 'Krt20', 'Cdx2','Muc1', 'Muc2', 'Muc5ac','Sox2', 'Sox4'],\n",
    "           legend_loc='right margin', frameon=False, vmin=0,vmax=5,add_outline=True, outline_width=(0.05,0.05), size=50, use_raw=True, cmap='Purples',save='WT_tumor_marker')"
   ]
  },
  {
   "cell_type": "code",
   "execution_count": null,
   "id": "b8294cc1-6ecb-4d55-af38-0a8264acb640",
   "metadata": {},
   "outputs": [],
   "source": [
    "sc.pl.umap(adata[adata.obs['batch']=='KP'], color=['Krt7', 'Krt20', 'Cdx2','Muc1', 'Muc2', 'Muc5ac','Sox2', 'Sox4'],\n",
    "           legend_loc='right margin', frameon=False, vmin=0,vmax=5,add_outline=True, outline_width=(0.05,0.05), size=50, use_raw=True, cmap='Purples',save='KP_tumor_marker')"
   ]
  },
  {
   "cell_type": "code",
   "execution_count": null,
   "id": "b07e4266-ad5c-4075-a887-ffdb5e931bc9",
   "metadata": {},
   "outputs": [],
   "source": [
    "sc.pl.umap(adata[adata.obs['batch']=='EKP'], color=['Krt7', 'Krt20', 'Cdx2','Muc1', 'Muc2', 'Muc5ac','Sox2', 'Sox4'],\n",
    "           legend_loc='right margin', frameon=False, vmin=0,vmax=5,add_outline=True, outline_width=(0.05,0.05), size=50, use_raw=True, cmap='Purples',save='EKP_tumor_marker')"
   ]
  },
  {
   "cell_type": "code",
   "execution_count": null,
   "id": "ae87a1b1-4c39-466d-a41c-1c11783518a8",
   "metadata": {},
   "outputs": [],
   "source": [
    "sc.pl.dotplot(adata, var_names=['S100a6', 'Tmem176b', 'Cp', 'Eif1', 'Bnip3', 'Pgk1','Prxl2a','Hspb1','Aqp5','Hmgb2','Stmn1','Birc5','Zfp267','Clca1','Gm45864','Gsta1','Mt2','Cbr3','B020031M17Rik','A530040E14Rik','Sp110'], groupby='leiden', use_raw=True, var_group_rotation=0,\n",
    "              vmin=0, vmax=4,swap_axes=True, dot_min=0, save='annotation_top3')"
   ]
  },
  {
   "cell_type": "code",
   "execution_count": null,
   "id": "ac67d49c-4c42-4af0-90ba-84eed9f0afaa",
   "metadata": {},
   "outputs": [],
   "source": [
    "sc.pl.dotplot(adata, var_names=['Wfdc2','Hp','Cp','Ndufa4','1110008P14Rik','Tmem176a','Gstm1','Tmem176b','Ifitm2','Lcn2','Ppia','Prdx1','Tmsb4x','Cyp2f2','Gsta4','Nme2','Ndufb7','Ndufa1','Gstm2','Atp1b1','Uqcrq','Igfbp7'], groupby='leiden', use_raw=True, var_group_rotation=0,\n",
    "              vmin=0,vmax=4, swap_axes=True, dot_min=0,save='0_annotation_top22')"
   ]
  },
  {
   "cell_type": "code",
   "execution_count": null,
   "id": "1ca0b036-b99b-45cb-9a1d-09ceca538a10",
   "metadata": {},
   "outputs": [],
   "source": [
    "sc.pl.dotplot(adata, var_names=['Eif1','Bnip3','Pgk1','1110038B12Rik','Fau','Epb41l4aos','Ero1l','Lgals3','Car9','Gapdh','Bsg','Tpt1','2410006H16Rik','Btg1','Gpi1','Ccni','Lix1','Txnip','Gabrb1','Cryba4','Gm48604','A2m'], groupby='leiden', use_raw=True, var_group_rotation=0,\n",
    "              vmin=0,vmax=4,swap_axes=True, dot_min=0,save='1_annotation_top22')"
   ]
  },
  {
   "cell_type": "code",
   "execution_count": null,
   "id": "90cff88e-8a0d-40e9-9a64-906b387706bd",
   "metadata": {},
   "outputs": [],
   "source": [
    "sc.pl.dotplot(adata, var_names=['Prxl2a','Hspb1','Aqp5','Krt4','Ahnak','Fos','Bcam','Thbs1','Gm1673','Atf3','Abcb1b','Anxa1','Sftpd','Tjp1','Fosb','Egr1','2200002D01Rik','mt-Co3','Zfp36l1','mt-Co1','Klf4','Aspa'], groupby='leiden', use_raw=True, var_group_rotation=0,\n",
    "              vmin=0, vmax=4,swap_axes=True, dot_min=0,save='2_annotation_top22')"
   ]
  },
  {
   "cell_type": "code",
   "execution_count": null,
   "id": "d299c0ce-59b7-4e93-ae11-276eccddcc05",
   "metadata": {},
   "outputs": [],
   "source": [
    "sc.pl.dotplot(adata, var_names=['Hmgb2','Stmn1','Birc5','Cks1b','Cks2','Pclaf','H2afz','Tuba1b','Cdk1','Top2a','Tubb5','Ube2s','Cdca8','Smc2','Mki67','Ube2c','Dut','Prc1','Cenpf','Cdca3','Cenpa','Ptma'], groupby='leiden', use_raw=True, var_group_rotation=0,\n",
    "              vmin=0, vmax=4,swap_axes=True, dot_min=0,save='3_annotation_top22')"
   ]
  },
  {
   "cell_type": "code",
   "execution_count": null,
   "id": "488bc4e5-609b-4d70-9d83-a41ae990d4a1",
   "metadata": {},
   "outputs": [],
   "source": [
    "sc.pl.dotplot(adata, var_names=['Zfp267','Clca1','Gm45864','Gm35551','Zfp711','Rnf41','Gm20621','Hypm','1700010B13Rik','Usp17lb','Gm5890','Fbxo17','Gspt2','Armh4','Khdc1b','Clps','Gm26707','Sgcd','Hpdl','Gm5157','Gm45659','Gm21718'], groupby='leiden', use_raw=True, var_group_rotation=0,\n",
    "              vmin=0, vmax=4,swap_axes=True, dot_min=0,save='4_annotation_top22')"
   ]
  },
  {
   "cell_type": "code",
   "execution_count": null,
   "id": "3fd66029-6e69-4b1d-ace0-1e21e5e83bb7",
   "metadata": {},
   "outputs": [],
   "source": [
    "sc.pl.dotplot(adata, var_names=['Gsta1','Mt2','Cbr3','Gpx2','Crip1','Clu','Ptgr1','Vsig2','Lgals4','Fxyd3','Gsta4','Plac8','Esd','AA467197','Mt1','Rpl15','Ociad2','Ugdh','Cbr1','Gm14685','Grik5','Csrp2'], groupby='leiden', use_raw=True, var_group_rotation=0,\n",
    "              vmin=0, vmax=4,swap_axes=True, dot_min=0,save='5_annotation_top22')"
   ]
  },
  {
   "cell_type": "code",
   "execution_count": null,
   "id": "5072c2d4-8a6e-4298-8c61-23cd8e4b93cc",
   "metadata": {},
   "outputs": [],
   "source": [
    "sc.pl.dotplot(adata, var_names=['B020031M17Rik','A530040E14Rik','Sp110','Platr31','Dcc','BC147527','Tbc1d23','Scamp1','AF067061','Ppig','Zfp560','Epm2a','Gm44693','Bola1','Dennd4c','Cwc22','Echdc3','Arhgef26','Fgf1','Scd3','Cab39','Prex2'], groupby='leiden', use_raw=True, var_group_rotation=0,\n",
    "              vmin=0, vmax=4,swap_axes=True, dot_min=0,save='6_annotation_top22')"
   ]
  },
  {
   "cell_type": "code",
   "execution_count": null,
   "id": "e1690044-e34a-4567-ad90-cecba8c8d6d9",
   "metadata": {},
   "outputs": [],
   "source": [
    "adata.write('/Users/gzou/OneDrive - Inside MD Anderson/Gengyi_DGC/DGC_matrix/3in1.h5ad', compression='gzip')"
   ]
  },
  {
   "cell_type": "code",
   "execution_count": null,
   "id": "e2c8fb30-20f5-41e0-897d-e7a58ca855dc",
   "metadata": {
    "tags": []
   },
   "outputs": [],
   "source": [
    "WT=adata[adata.obs['batch']=='WT']\n",
    "WT"
   ]
  },
  {
   "cell_type": "code",
   "execution_count": null,
   "id": "b32c1abe-ade7-4413-a9f3-c6490e0c1f31",
   "metadata": {},
   "outputs": [],
   "source": [
    "WT.write('/Users/gzou/OneDrive - Inside MD Anderson/Gengyi_DGC/DGC_matrix/WT_processed.h5ad', compression='gzip')"
   ]
  },
  {
   "cell_type": "code",
   "execution_count": null,
   "id": "b0cb9cce-04a4-4c35-b43e-872712ac7a9a",
   "metadata": {},
   "outputs": [],
   "source": [
    "KP=adata[adata.obs['batch']=='KP']\n",
    "KP"
   ]
  },
  {
   "cell_type": "code",
   "execution_count": null,
   "id": "b68679e3-548e-4623-8e67-abdeef07d05b",
   "metadata": {},
   "outputs": [],
   "source": [
    "KP.write('/Users/gzou/OneDrive - Inside MD Anderson/Gengyi_DGC/DGC_matrix/KP_processed.h5ad', compression='gzip')"
   ]
  },
  {
   "cell_type": "code",
   "execution_count": null,
   "id": "34451be1-4b8e-44f8-bb48-f26c2d5926ba",
   "metadata": {},
   "outputs": [],
   "source": [
    "EKP=adata[adata.obs['batch']=='EKP']\n",
    "EKP"
   ]
  },
  {
   "cell_type": "code",
   "execution_count": null,
   "id": "6493d1ee-943d-4942-9499-56fae4c4d00d",
   "metadata": {},
   "outputs": [],
   "source": [
    "EKP.write('/Users/gzou/OneDrive - Inside MD Anderson/Gengyi_DGC/DGC_matrix/EKP_processed.h5ad', compression='gzip')"
   ]
  },
  {
   "cell_type": "code",
   "execution_count": null,
   "id": "d74a7892-4d0b-4b66-8a60-50fa7a594c53",
   "metadata": {},
   "outputs": [],
   "source": [
    "# CTLA4 and PD-1 and PD-L1\n",
    "#CD274=PDL1; PDCD1LG2=PDL2, PDCD1=PD1\n",
    "#‘area’, ‘count’, ‘width’\n",
    "\n",
    "\n",
    "sc.tl.score_genes(adata, gene_list=['Ctla4','Pdcd1','Pdcd1lg2','Cd274'], ctrl_size=50, gene_pool=None, n_bins=25, score_name='immune_checkpoint_score', random_state=0, copy=False, use_raw=None)\n",
    "sc.pl.dotplot(adata, var_names='immune_checkpoint_score', groupby='batch', use_raw=True, var_group_rotation=0,\n",
    "              vmin=0,swap_axes=True, dot_min=0)\n",
    "\n",
    "sc.pl.violin(adata, stripplot=False,keys='immune_checkpoint_score', groupby='batch', use_raw=True)\n",
    "\n"
   ]
  },
  {
   "cell_type": "code",
   "execution_count": null,
   "id": "db1882b3-2e90-4628-bd29-aa2049e991df",
   "metadata": {},
   "outputs": [],
   "source": [
    "sc.pl.umap(adata[adata.obs['batch']=='KP'], color='Tigit', legend_loc='right margin', frameon=False, vmin=0,add_outline=True, outline_width=(0.05,0.05), size=50, use_raw=True, cmap='Purples')\n",
    "sc.pl.umap(adata[adata.obs['batch']=='EKP'], color='Tigit', legend_loc='right margin', frameon=False, vmin=0,add_outline=True, outline_width=(0.05,0.05), size=50, use_raw=True, cmap='Purples')\n"
   ]
  },
  {
   "cell_type": "code",
   "execution_count": null,
   "id": "0fc2bd07-5059-410a-98c6-b629aa615d70",
   "metadata": {},
   "outputs": [],
   "source": [
    "sc.pl.umap(adata[adata.obs['batch']=='WT'], color='Pvr', legend_loc='right margin', frameon=False, vmin=0,vmax=1.5,add_outline=True, outline_width=(0.05,0.05), size=50, use_raw=True, cmap='Purples')\n",
    "\n",
    "sc.pl.umap(adata[adata.obs['batch']=='KP'], color='Pvr', legend_loc='right margin', frameon=False, vmin=0,vmax=1.5,add_outline=True, outline_width=(0.05,0.05), size=50, use_raw=True, cmap='Purples')\n",
    "sc.pl.umap(adata[adata.obs['batch']=='EKP'], color='Pvr', legend_loc='right margin', frameon=False, vmin=0,vmax=1.5,add_outline=True, outline_width=(0.05,0.05), size=50, use_raw=True, cmap='Purples')\n"
   ]
  },
  {
   "cell_type": "code",
   "execution_count": null,
   "id": "447664b9-350a-4bb2-9be2-5e0359a6a1da",
   "metadata": {},
   "outputs": [],
   "source": [
    "sc.pl.dotplot(adata, var_names='Tigit', groupby='batch', use_raw=True, var_group_rotation=0,\n",
    "              vmin=0,swap_axes=True, dot_min=0)\n"
   ]
  },
  {
   "cell_type": "code",
   "execution_count": null,
   "id": "bc56f218-7838-4782-83f6-8f447d46d7d9",
   "metadata": {},
   "outputs": [],
   "source": [
    "sc.pl.dotplot(adata, var_names='Pvr', groupby='batch', use_raw=True, var_group_rotation=0,\n",
    "              vmin=0,swap_axes=True, dot_min=0,save='Pvr')\n"
   ]
  },
  {
   "cell_type": "code",
   "execution_count": null,
   "id": "d6e07c3e-d00b-416a-b9d6-5d2a87abde74",
   "metadata": {},
   "outputs": [],
   "source": [
    "sc.pl.umap(adata[adata.obs['batch']=='WT'], color='Nectin2', legend_loc='right margin', frameon=False, vmin=0,vmax=3,add_outline=True, outline_width=(0.05,0.05), size=50, use_raw=True, cmap='Purples')\n",
    "\n",
    "sc.pl.umap(adata[adata.obs['batch']=='KP'], color='Nectin2', legend_loc='right margin', frameon=False, vmin=0,vmax=3,add_outline=True, outline_width=(0.05,0.05), size=50, use_raw=True, cmap='Purples')\n",
    "sc.pl.umap(adata[adata.obs['batch']=='EKP'], color='Nectin2', legend_loc='right margin', frameon=False, vmin=0,vmax=3,add_outline=True, outline_width=(0.05,0.05), size=50, use_raw=True, cmap='Purples')\n"
   ]
  },
  {
   "cell_type": "code",
   "execution_count": null,
   "id": "12d79322-2857-49ad-9d77-b963566accab",
   "metadata": {},
   "outputs": [],
   "source": [
    "sc.pl.dotplot(adata, var_names='Pilra', groupby='batch', use_raw=True, var_group_rotation=0,\n",
    "              vmin=0,swap_axes=True, dot_min=0,save='Pilra')\n"
   ]
  },
  {
   "cell_type": "code",
   "execution_count": null,
   "id": "18f12493-4e63-42fd-a370-1bf631257aef",
   "metadata": {},
   "outputs": [],
   "source": []
  }
 ],
 "metadata": {
  "kernelspec": {
   "display_name": "Python 3 (ipykernel)",
   "language": "python",
   "name": "python3"
  },
  "language_info": {
   "codemirror_mode": {
    "name": "ipython",
    "version": 3
   },
   "file_extension": ".py",
   "mimetype": "text/x-python",
   "name": "python",
   "nbconvert_exporter": "python",
   "pygments_lexer": "ipython3",
   "version": "3.8.13"
  }
 },
 "nbformat": 4,
 "nbformat_minor": 5
}
