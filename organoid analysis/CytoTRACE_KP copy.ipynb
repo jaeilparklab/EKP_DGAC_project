{
 "cells": [
  {
   "cell_type": "code",
   "execution_count": null,
   "id": "23ecb924-702f-40ed-b241-d9db5318ade0",
   "metadata": {},
   "outputs": [],
   "source": [
    "import numpy as np\n",
    "import pandas as pd\n",
    "import scanpy as sc\n",
    "import scanpy.external as sce\n",
    "import scipy\n",
    "sc.settings.verbosity = 3\n",
    "sc.logging.print_header()\n",
    "sc.set_figure_params(dpi=100, dpi_save=100)\n",
    "    \n",
    "import scvelo as scv\n",
    "scv.settings.verbosity = 3\n",
    "scv.settings.presenter_view = True\n",
    "scv.logging.print_versions()\n",
    "\n",
    "import cellrank as cr\n",
    "cr.settings.verbosity = 3\n",
    "cr.logging.print_versions()\n",
    "\n",
    "import matplotlib.pyplot as pl\n",
    "from matplotlib import rcParams\n",
    "\n",
    "import os"
   ]
  },
  {
   "cell_type": "code",
   "execution_count": null,
   "id": "96225f78-c1f7-4039-ac97-369fc9a6dce2",
   "metadata": {},
   "outputs": [],
   "source": [
    "raw = sc.read('/Users/gzou/OneDrive - Inside MD Anderson/Gengyi_DGC/DGC_matrix/3in1_raw.h5ad')\n",
    "raw"
   ]
  },
  {
   "cell_type": "code",
   "execution_count": null,
   "id": "ea64d05f-14be-45b3-bb00-1a5611279bda",
   "metadata": {},
   "outputs": [],
   "source": [
    "KP = sc.read('/Users/gzou/OneDrive - Inside MD Anderson/Gengyi_DGC/DGC_matrix/KP_processed.h5ad')\n",
    "KP"
   ]
  },
  {
   "cell_type": "code",
   "execution_count": null,
   "id": "7ecdb1f7-4691-4eaa-87ac-3b867584bd8c",
   "metadata": {},
   "outputs": [],
   "source": [
    "raw.obs['leiden']= KP.obs['leiden']\n",
    "adata=raw[raw.obs['leiden'].isin(['0', '1', '2', '3', '4', '5', '6'])]\n",
    "adata"
   ]
  },
  {
   "cell_type": "code",
   "execution_count": null,
   "id": "ae2db627-bee4-4716-a7e1-157b4ac1a556",
   "metadata": {},
   "outputs": [],
   "source": [
    "adata.uns['leiden_colors']=KP.uns['leiden_colors']\n",
    "adata.obsm['X_umap']=KP.obsm['X_umap']\n",
    "adata"
   ]
  },
  {
   "cell_type": "code",
   "execution_count": null,
   "id": "7c421311-2e11-42fe-bf2a-951541027067",
   "metadata": {},
   "outputs": [],
   "source": [
    "sc.pl.umap(adata, color=['leiden'], legend_loc='on data', frameon=False, title='', use_raw=False)"
   ]
  },
  {
   "cell_type": "code",
   "execution_count": null,
   "id": "8c3b19bf-26e7-4948-ac48-11b8e4b03d41",
   "metadata": {
    "tags": []
   },
   "outputs": [],
   "source": [
    "sc.pp.filter_cells(adata, min_genes=50)\n",
    "sc.pp.filter_genes(adata, min_cells=5)\n",
    "adata.var['mt'] = adata.var_names.str.startswith('mt-')\n",
    "adata.var['rpl'] = adata.var_names.str.startswith('Rpl')\n",
    "adata.var['rps'] = adata.var_names.str.startswith('Rps')\n",
    "sc.pp.calculate_qc_metrics(adata, qc_vars=['mt','rpl','rps'], percent_top=None, log1p=False, inplace=True)\n",
    "sc.pl.violin(adata, keys=['n_genes_by_counts', 'total_counts', 'pct_counts_mt','pct_counts_rpl','pct_counts_rps'], jitter=0.4, multi_panel=True)\n",
    "sc.pl.scatter(adata, x='total_counts', y='pct_counts_mt')\n",
    "sc.pl.scatter(adata, x='total_counts', y='pct_counts_rpl')\n",
    "sc.pl.scatter(adata, x='total_counts', y='pct_counts_rps')\n",
    "sc.pl.scatter(adata, x='total_counts', y='n_genes_by_counts')\n",
    "adata = adata[adata.obs.n_genes_by_counts < 8000, :]\n",
    "adata = adata[adata.obs.pct_counts_mt < 50, :]\n",
    "adata = adata[adata.obs.pct_counts_rpl < 50, :]\n",
    "adata = adata[adata.obs.pct_counts_rps < 50, :]\n",
    "\n",
    "sc.pp.normalize_total(adata, target_sum=1e4)\n",
    "sc.pp.log1p(adata)\n",
    "sc.pp.highly_variable_genes(adata, n_top_genes=5000)\n",
    "adata = adata[:, adata.var.highly_variable]\n",
    "adata"
   ]
  },
  {
   "cell_type": "code",
   "execution_count": null,
   "id": "6e5f8c7e-ba35-4406-877c-f57b8565d7e0",
   "metadata": {},
   "outputs": [],
   "source": [
    "# copy matrix X into the layers because that's where scv.pp.moments() expects to find counts for imputation\n",
    "# note that CytoTRACE is based on the gene counts, no need for spliced/unspliced information\n",
    "# Here, copy matrix X into adata.layers (not the real spliced/unspliced information) is only for using the function of scv.pp.moments() to calculate the moments of matrix X abundances\n",
    "adata.layers[\"spliced\"] = adata.X\n",
    "adata.layers[\"unspliced\"] = adata.X\n",
    "scv.pp.moments(adata, n_pcs=30, n_neighbors=10)\n",
    "adata\n",
    "# these codes return\n",
    "# uns: 'pca', 'neighbors'\n",
    "# obsm: 'X_pca'\n",
    "# varm: 'PCs'\n",
    "# layers: 'spliced', 'unspliced', 'Ms', 'Mu'\n",
    "# obsp: 'distances', 'connectivities'"
   ]
  },
  {
   "cell_type": "code",
   "execution_count": null,
   "id": "997b0f89-0f94-41d7-af14-0de9ecb3466a",
   "metadata": {},
   "outputs": [],
   "source": [
    "# 3. Compute terminal states (backward=False)"
   ]
  },
  {
   "cell_type": "code",
   "execution_count": null,
   "id": "8351c566-dc11-42aa-b540-ddefe962f3bf",
   "metadata": {},
   "outputs": [],
   "source": [
    "# 3.1 Initialize the CytoTRACE kernel\n",
    "from cellrank.tl.kernels import CytoTRACEKernel\n",
    "ctk = CytoTRACEKernel(adata, backward=False)\n",
    "adata\n",
    "# these codes return\n",
    "# obs: 'ct_num_exp_genes', 'ct_score', 'ct_pseudotime'\n",
    "# var: 'ct_gene_corr', 'ct_correlates'\n",
    "# uns: 'ct_params'"
   ]
  },
  {
   "cell_type": "code",
   "execution_count": null,
   "id": "57ba601b-06fc-4f52-942b-0e5fc1142919",
   "metadata": {},
   "outputs": [],
   "source": [
    "# 3.2 CytoTRACE pesudotime\n",
    "# compare CytoTRACE pesudotime with the real differentiation status\n",
    "scv.pl.scatter(adata, color=[\"ct_pseudotime\"], basis=\"umap\", legend_loc=\"right\", color_map=\"gnuplot\", save=\"ct_pseudotime_KP.pdf\")\n",
    "# look at the distribution of CytoTRACE pseudotime in each cluster\n",
    "sc.pl.violin(adata, keys=[\"ct_pseudotime\"], groupby=\"leiden\", rotation=90, save=\"leiden_KP.pdf\")\n",
    "# these 2 figures validate that CytoTRACE pseudotime can reflect the real differentiation status"
   ]
  },
  {
   "cell_type": "code",
   "execution_count": null,
   "id": "5cb975ee-6c67-42ba-b148-c123294a2c40",
   "metadata": {},
   "outputs": [],
   "source": [
    "# export cytoTrace pseudotime\n",
    "adata.obs.to_csv('/Users/gzou/OneDrive - Inside MD Anderson/Gengyi_DGC/DGC_matrix/KP_obs.csv')"
   ]
  },
  {
   "cell_type": "code",
   "execution_count": null,
   "id": "f0e46c83-4a83-4866-ae53-f56c7a9b9168",
   "metadata": {},
   "outputs": [],
   "source": [
    "# 3.3 Compute a transition matrix\n",
    "ctk.compute_transition_matrix(threshold_scheme=\"soft\", nu=0.5)    # Computing transition matrix based on `ct_pseudotime`\n",
    "adata\n",
    "# these codes didnt return new values"
   ]
  },
  {
   "cell_type": "code",
   "execution_count": null,
   "id": "f6626c24-3066-4a8c-9fe4-c8b556a60e3c",
   "metadata": {},
   "outputs": [],
   "source": [
    "# visualize the transition matrix\n",
    "ctk.compute_projection(basis=\"umap\")    # project the transition matrix onto basis (basis can be 'umap')\n",
    "adata\n",
    "# these codes return\n",
    "# uns: 'T_fwd_params'\n",
    "# obsm: 'T_fwd_force_directed'"
   ]
  },
  {
   "cell_type": "code",
   "execution_count": null,
   "id": "45e702ae-a15a-43d4-afc1-201915a04f5b",
   "metadata": {},
   "outputs": [],
   "source": [
    "# plot velocity stream-like map, but it's not RNA velocity (color can be 'leiden')\n",
    "scv.pl.velocity_embedding_stream(adata, color=\"leiden\", vkey=\"T_fwd\", basis=\"umap\", legend_loc=\"right\", save='KP.svg')"
   ]
  },
  {
   "cell_type": "code",
   "execution_count": null,
   "id": "70fcc4a6-681e-463c-b519-425cb687061c",
   "metadata": {
    "tags": []
   },
   "outputs": [],
   "source": [
    "# draw some cells from the early stage and use them as starting cells to simulate random walks\n",
    "ctk.plot_random_walks(n_sims=15, max_iter=0.25, seed=1, successive_hits=0,\n",
    "                      start_ixs={\"leiden\": ['2','1','3']}, stop_ixs={\"leiden\": ['4','6']},\n",
    "                      basis=\"umap\", ixs_legend_loc=\"best\", color=\"leiden\", legend_loc=\"right\")\n",
    "# n_sims: Number of random walks to simulate\n",
    "# Random walk is stopped if the maximum number of iterations is reached or when states in 'stop_ixs' is visited successively 'successive_hits' times.\n",
    "# start_ixs and stop_ixs are python dictionary, input both key and its value, for example, start_ixs={'leiden':'0', 'leiden':'1'}"
   ]
  },
  {
   "cell_type": "code",
   "execution_count": null,
   "id": "41190407-63e7-40f8-b746-a3ffa5b64370",
   "metadata": {},
   "outputs": [],
   "source": [
    "# 3.4 Initialize an estimator\n",
    "from cellrank.tl.estimators import GPCCA\n",
    "g_fwd = GPCCA(ctk)\n",
    "adata\n",
    "# these codes return\n",
    "# uns: 'T_fwd_params'\n",
    "# obsm: 'T_fwd_force_directed'"
   ]
  },
  {
   "cell_type": "code",
   "execution_count": null,
   "id": "26167f18-0789-4c47-b306-062aee3eb6fa",
   "metadata": {},
   "outputs": [],
   "source": [
    "# 3.5 compute a matrix decomposition\n",
    "g_fwd.compute_schur(n_components=20, method='krylov')\n",
    "g_fwd.plot_spectrum(real_only=True)\n",
    "# the black dash line is the eigengap inferred average 4 eigenvalues, so you should compute 4 macrostates as a starting point.\n",
    "# Keep in mind the eigengap statistic is a heuristic, so take this values '4' as a starting point to your analysis.\n",
    "adata\n",
    "# these codes return\n",
    "# uns: 'schur_matrix_fwd', 'eigendecomposition_fwd'\n",
    "# obsm: 'schur_vectors_fwd'"
   ]
  },
  {
   "cell_type": "code",
   "execution_count": null,
   "id": "8a11375c-13ac-4ced-b08b-e859f9243a47",
   "metadata": {},
   "outputs": [],
   "source": [
    "# 3.6 compute macrostates\n",
    "g_fwd.compute_macrostates(n_states=3, cluster_key=\"leiden\")    # compute 4 macrostates, determined by the eigengap, change cluster_key to 'lineages' doesn't affect macrostates themselves\n",
    "adata\n",
    "# these codes return\n",
    "# uns: 'coarse_fwd'"
   ]
  },
  {
   "cell_type": "code",
   "execution_count": null,
   "id": "35a693b9-7387-4836-86e3-0e344098af97",
   "metadata": {},
   "outputs": [],
   "source": [
    "# plot macrostates\n",
    "g_fwd.plot_macrostates(discrete=True, legend_loc=\"right\", basis=\"umap\")    # show the marcrostates, consistent with the real differentiation status"
   ]
  },
  {
   "cell_type": "code",
   "execution_count": null,
   "id": "71dee5f0-4b81-4911-8ff8-8c9d874e97c9",
   "metadata": {},
   "outputs": [],
   "source": [
    "# confirm the calculated states are reliable by looking at coarse transition probabilities among macrostates\n",
    "## g_fwd.plot_coarse_T()"
   ]
  },
  {
   "cell_type": "code",
   "execution_count": null,
   "id": "f69419db-3a8f-4e37-85a4-bfb92ee27062",
   "metadata": {},
   "outputs": [],
   "source": [
    "# 3.7 set the terminal state from the macrostates\n",
    "g_fwd.set_terminal_states_from_macrostates(names=['4'])    # the order you set and the color you choose here matters the circular_projection\n",
    "# different ways to set the terminal state:\n",
    "    # g_fwd.compute_terminal_states(): automatically selects the terminal states from the set of macrostates via a stability criterion.\n",
    "    # g_fwd.set_terminal_states_from_macrostates(): manually restrict the macrostates by passing a list of macrostate-names that you know are terminal in your data.\n",
    "    # g_fwd.set_terminal_states(): manually set the terminal states, without computing macrostates, entirely manually.\n",
    "adata\n",
    "# these codes return\n",
    "# obs: 'terminal_states', 'terminal_states_probs'\n",
    "# uns: 'terminal_states_colors'\n",
    "# obsm: 'terminal_states_memberships'"
   ]
  },
  {
   "cell_type": "code",
   "execution_count": null,
   "id": "e0b9163f-2ab9-4195-8ee4-d129413ae158",
   "metadata": {},
   "outputs": [],
   "source": [
    "adata.obs['terminal_states']"
   ]
  },
  {
   "cell_type": "code",
   "execution_count": null,
   "id": "3a90ee63-f0cc-4d51-a203-b244ac384971",
   "metadata": {},
   "outputs": [],
   "source": [
    "# 3.8 Estimate fate probabilities\n",
    "g_fwd.compute_absorption_probabilities(n_jobs=8)\n",
    "# solver=, could be 'direct', 'gmres', 'lgmres', 'bicgstab', 'gcrotmk', default is 'gmres', change solver if 'gmres' doesnt work for ill-conditioned matrices.\n",
    "# keys=, manually set terminal states, otherwise it will use all macrostates.\n",
    "# tol=, Convergence tolerance for the iterative solver. The default is fine for most cases, only consider decreasing this for severely ill-conditioned matrices.\n",
    "# preconditioner=, recommend preconditioner='ilu' for ill-conditioned matrices.\n",
    "adata\n",
    "# these codes return\n",
    "# obsm: 'to_terminal_states'"
   ]
  },
  {
   "cell_type": "code",
   "execution_count": null,
   "id": "08afc6fe-827e-4c71-94f6-79105c2ce7c9",
   "metadata": {},
   "outputs": [],
   "source": [
    "# plot fate probabilities\n",
    "g_fwd.plot_absorption_probabilities(same_plot=False, size=50, basis=\"umap\")    # size=50 means dot size is 50\n",
    "g_fwd.plot_absorption_probabilities(same_plot=True, size=50, basis=\"umap\")"
   ]
  },
  {
   "cell_type": "code",
   "execution_count": null,
   "id": "acd763c3-cfdf-4ab1-8327-40d1b07398a8",
   "metadata": {},
   "outputs": [],
   "source": [
    "# 3.9 Find lineage driver genes for terminal states\n",
    "g_fwd.compute_lineage_drivers(lineages=['Pit_1', 'Aqp5+ epithelial'], return_drivers=True)"
   ]
  },
  {
   "cell_type": "code",
   "execution_count": null,
   "id": "20b0bd25-139c-4186-8517-abfadeb1a9e5",
   "metadata": {},
   "outputs": [],
   "source": [
    "# plot top5 lineage drivers\n",
    "g_fwd.plot_lineage_drivers(lineage='Pit_1', n_genes=5)\n",
    "g_fwd.plot_lineage_drivers(lineage='Aqp5+ epithelial', n_genes=5)"
   ]
  },
  {
   "cell_type": "code",
   "execution_count": null,
   "id": "eb2c401c-1696-4a38-8ed1-4d755c8a3de5",
   "metadata": {},
   "outputs": [],
   "source": [
    "# 4. Compute initial states (backward=True)\n",
    "# if computing terminal states already determines the right initial states, you can skip this step"
   ]
  },
  {
   "cell_type": "code",
   "execution_count": null,
   "id": "7769dcbc-7cd4-4fd0-a44c-5c136f35131e",
   "metadata": {},
   "outputs": [],
   "source": [
    "# 4.1 Initialize the CytoTRACE kernel\n",
    "from cellrank.tl.kernels import CytoTRACEKernel\n",
    "ctk = CytoTRACEKernel(adata, backward=True)\n",
    "adata\n",
    "# these codes return\n",
    "# obs: 'ct_num_exp_genes', 'ct_score', 'ct_pseudotime'\n",
    "# var: 'ct_gene_corr', 'ct_correlates'\n",
    "# uns: 'ct_params'"
   ]
  },
  {
   "cell_type": "code",
   "execution_count": null,
   "id": "3da4a6a6-fc44-475b-8343-b2f246696a70",
   "metadata": {},
   "outputs": [],
   "source": [
    "# 4.2 CytoTRACE pesudotime\n",
    "# compare CytoTRACE pesudotime with the real differentiation status\n",
    "scv.pl.scatter(adata, color=[\"ct_pseudotime\", \"leiden\"], basis=\"umap\", legend_loc=\"right\", color_map=\"gnuplot2\")\n",
    "# look at the distribution of CytoTRACE pseudotime in each cluster\n",
    "sc.pl.violin(adata, keys=[\"ct_pseudotime\"], groupby=\"leiden\", rotation=90)\n",
    "# these 2 figures validate that CytoTRACE pseudotime can reflect the real differentiation status"
   ]
  },
  {
   "cell_type": "code",
   "execution_count": null,
   "id": "045a68c0-9f04-42b4-92ca-bb6371416507",
   "metadata": {},
   "outputs": [],
   "source": [
    "# 4.3 Compute a transition matrix\n",
    "ctk.compute_transition_matrix(threshold_scheme=\"soft\", nu=0.5)    # Computing transition matrix based on `ct_pseudotime`\n",
    "adata\n",
    "# these codes didnt return new values"
   ]
  },
  {
   "cell_type": "code",
   "execution_count": null,
   "id": "71157cea-43c6-4c27-b97d-a3d18ce17b22",
   "metadata": {},
   "outputs": [],
   "source": [
    "# visualize the transition matrix\n",
    "ctk.compute_projection(basis=\"umap\")    # project the transition matrix onto basis (basis can be 'umap')\n",
    "adata\n",
    "# these codes return\n",
    "# uns: 'T_fwd_params'\n",
    "# obsm: 'T_fwd_force_directed'"
   ]
  },
  {
   "cell_type": "code",
   "execution_count": null,
   "id": "4d0fc624-bd42-43d0-ab73-9bd5364581e4",
   "metadata": {},
   "outputs": [],
   "source": [
    "# plot velocity stream-like map, but it's not RNA velocity (color can be 'leiden')\n",
    "scv.pl.velocity_embedding_stream(adata, color=\"leiden\", vkey=\"T_bwd\", basis=\"umap\", legend_loc=\"right\")"
   ]
  },
  {
   "cell_type": "code",
   "execution_count": null,
   "id": "dbf0892c-d7d6-4a34-a73d-32aa2d316311",
   "metadata": {
    "tags": []
   },
   "outputs": [],
   "source": [
    "# draw some cells from the early stage and use them as starting cells to simulate random walks\n",
    "ctk.plot_random_walks(n_sims=15, max_iter=0.25, seed=1, successive_hits=0,\n",
    "                      start_ixs={\"leiden\": ['2','1','3']}, stop_ixs={\"leiden\": ['4','6']},\n",
    "                      basis=\"umap\", ixs_legend_loc=\"best\", color=\"leiden\", legend_loc=\"right\")\n",
    "# n_sims: Number of random walks to simulate\n",
    "# Random walk is stopped if the maximum number of iterations is reached or when states in 'stop_ixs' is visited successively 'successive_hits' times.\n",
    "# start_ixs and stop_ixs are python dictionary, input both key and its value, for example, start_ixs={'leiden':'0', 'leiden':'1'}"
   ]
  },
  {
   "cell_type": "code",
   "execution_count": null,
   "id": "f4bd47d7-0a4f-494c-bcdf-dbe87df0f033",
   "metadata": {},
   "outputs": [],
   "source": [
    "# 4.4 Initialize an estimator\n",
    "from cellrank.tl.estimators import GPCCA\n",
    "g_bwd = GPCCA(ctk)\n",
    "adata\n",
    "# these codes return\n",
    "# uns: 'T_bwd_params'\n",
    "# obsm: 'T_bwd_force_directed'"
   ]
  },
  {
   "cell_type": "code",
   "execution_count": null,
   "id": "088a3f0f-a802-48ad-8463-9ccc4dbb515f",
   "metadata": {},
   "outputs": [],
   "source": [
    "# 4.5 compute a matrix decomposition\n",
    "g_bwd.compute_schur(n_components=20, method='krylov')\n",
    "g_bwd.plot_spectrum(real_only=True)\n",
    "# the black dash line is the eigengap inferred average 4 eigenvalues, so you should compute 4 macrostates as a starting point.\n",
    "# Keep in mind the eigengap statistic is a heuristic, so take this values '4' as a starting point to your analysis.\n",
    "adata\n",
    "# these codes return\n",
    "# uns: 'schur_matrix_bwd', 'eigendecomposition_bwd'\n",
    "# obsm: 'schur_vectors_bwd'"
   ]
  },
  {
   "cell_type": "code",
   "execution_count": null,
   "id": "ce44e2d7-77b2-4a67-a951-407248a94f8b",
   "metadata": {},
   "outputs": [],
   "source": [
    "## g_bwd.compute_eigendecomposition()    # run this if only 1 state was determined"
   ]
  },
  {
   "cell_type": "code",
   "execution_count": null,
   "id": "51558bc6-14db-4310-b097-37dee06dd82e",
   "metadata": {},
   "outputs": [],
   "source": [
    "# 4.6 compute macrostates\n",
    "g_bwd.compute_macrostates(n_states=1, cluster_key=\"leiden\")\n",
    "adata\n",
    "# these codes return\n",
    "# uns: 'coarse_fwd'"
   ]
  },
  {
   "cell_type": "code",
   "execution_count": null,
   "id": "bd5570c6-aa7a-43d3-a4de-9fc427b16a95",
   "metadata": {},
   "outputs": [],
   "source": [
    "# plot macrostates\n",
    "g_bwd.plot_macrostates(discrete=True, legend_loc=\"right\", basis=\"umap\")    # show the marcrostates, consistent with the real differentiation status"
   ]
  },
  {
   "cell_type": "code",
   "execution_count": null,
   "id": "6c3f97d4-3213-47bf-a65d-2ac65db09d33",
   "metadata": {},
   "outputs": [],
   "source": [
    "# confirm the calculated states are reliable by looking at coarse transition probabilities among macrostates\n",
    "## g_bwd.plot_coarse_T()"
   ]
  },
  {
   "cell_type": "code",
   "execution_count": null,
   "id": "ff181346-caaa-4b03-8903-c1b27569f6fb",
   "metadata": {},
   "outputs": [],
   "source": [
    "g_bwd.compute_terminal_states()"
   ]
  },
  {
   "cell_type": "code",
   "execution_count": null,
   "id": "d7877733-a479-4bec-8c16-6b8b10d2a08c",
   "metadata": {},
   "outputs": [],
   "source": [
    "adata.obs['initial_states']"
   ]
  },
  {
   "cell_type": "code",
   "execution_count": null,
   "id": "e7f8ae07-8ab4-4081-8c60-110fc27e8f43",
   "metadata": {},
   "outputs": [],
   "source": [
    "# 4.7 set the terminal initial from the macrostates\n",
    "g_bwd.set_terminal_states_from_macrostates(names=['2'])   # the order you set and the color you choose here matters the circular_projection\n",
    "# different ways to set the terminal state:\n",
    "    # g_bwd.compute_terminal_states(): automatically selects the terminal states from the set of macrostates via a stability criterion.\n",
    "    # g_bwd.set_terminal_states_from_macrostates(): manually restrict the macrostates by passing a list of macrostate-names that you know are terminal in your data.\n",
    "    # g_bwd.set_terminal_states(): manually set the terminal states, without computing macrostates, entirely manually.\n",
    "adata\n",
    "# these codes return\n",
    "# obs: 'terminal_states', 'terminal_states_probs'\n",
    "# uns: 'terminal_states_colors'\n",
    "# obsm: 'terminal_states_memberships'"
   ]
  },
  {
   "cell_type": "code",
   "execution_count": null,
   "id": "228f25f9-e796-4138-914d-7a99947079c9",
   "metadata": {},
   "outputs": [],
   "source": [
    "adata.obs['initial_states']"
   ]
  },
  {
   "cell_type": "code",
   "execution_count": null,
   "id": "00e57e91-a6c3-41c8-99dc-e68fe1dccdba",
   "metadata": {},
   "outputs": [],
   "source": [
    "# 4.8 Estimate fate probabilities\n",
    "g_bwd.compute_absorption_probabilities(n_jobs=16)\n",
    "# solver=, could be 'direct', 'gmres', 'lgmres', 'bicgstab', 'gcrotmk', default is 'gmres', change solver if 'gmres' doesnt work for ill-conditioned matrices.\n",
    "# keys=, manually set terminal states, otherwise it will use all macrostates.\n",
    "# tol=, Convergence tolerance for the iterative solver. The default is fine for most cases, only consider decreasing this for severely ill-conditioned matrices.\n",
    "# preconditioner=, recommend preconditioner='ilu' for ill-conditioned matrices.\n",
    "adata\n",
    "# these codes return\n",
    "# obsm: 'to_terminal_states'"
   ]
  },
  {
   "cell_type": "code",
   "execution_count": null,
   "id": "6c1fc9ec-b674-49d6-a92d-cee5d51fa08a",
   "metadata": {},
   "outputs": [],
   "source": [
    "# plot fate probabilities\n",
    "g_bwd.plot_absorption_probabilities(same_plot=False, size=50, basis=\"umap\")    # size=50 means dot size is 50\n",
    "g_bwd.plot_absorption_probabilities(same_plot=True, size=50, basis=\"umap\")"
   ]
  },
  {
   "cell_type": "code",
   "execution_count": null,
   "id": "9b7f0620-476b-43c5-8035-6f3da7b45134",
   "metadata": {},
   "outputs": [],
   "source": [
    "# 4.9 Find lineage driver genes for terminal states\n",
    "g_bwd.compute_lineage_drivers(lineages='2', return_drivers=True)"
   ]
  },
  {
   "cell_type": "code",
   "execution_count": null,
   "id": "728a42e0-7bb3-4e3f-a5b0-1bc572f2d71b",
   "metadata": {},
   "outputs": [],
   "source": [
    "# plot top5 lineage drivers\n",
    "g_bwd.plot_lineage_drivers(lineage='2', n_genes=5)"
   ]
  },
  {
   "cell_type": "code",
   "execution_count": null,
   "id": "160a8525-96a3-4de6-911a-73d3582ed9b3",
   "metadata": {},
   "outputs": [],
   "source": [
    "# 5. ct_pseudotime-directed PAGA\n",
    "adata.uns['velocity_graph'] = adata.obsp['connectivities']    # key step\n",
    "# manually copy adata.obsp['connectivities'] to adata.uns['velocity_graph'], because scv.tl.paga() calls vkey='velocity', vkey means the parameters name has this vkey\n",
    "adata"
   ]
  },
  {
   "cell_type": "code",
   "execution_count": null,
   "id": "90b63dfc-e12d-4890-b633-7dc1728f5291",
   "metadata": {},
   "outputs": [],
   "source": [
    "scv.tl.paga(adata, groups='leiden', vkey='velocity', use_time_prior='ct_pseudotime', root_key=\"initial_states_probs\", end_key=\"terminal_states_probs\")\n",
    "scv.pl.paga(adata, basis='umap', vkey='velocity', color='leiden', size=50, alpha=0.1, min_edge_width=0.5, node_size_scale=1.5, use_raw=False, save='KP.pdf')"
   ]
  },
  {
   "cell_type": "code",
   "execution_count": null,
   "id": "62c98a72-9bc9-4bd9-8b84-d0a3a9fdd7f8",
   "metadata": {},
   "outputs": [],
   "source": [
    "cr.pl.cluster_fates(adata, mode=\"paga_pie\", cluster_key=\"leiden\", basis=\"umap\",\n",
    "                    legend_kwargs={\"loc\": \"top right out\"}, legend_loc=\"top left out\", size=50, alpha=0.1, min_edge_width=0.5, node_size_scale=3, use_raw=False, save='5.pdf')"
   ]
  },
  {
   "cell_type": "code",
   "execution_count": null,
   "id": "ec21510d-931b-4b02-abd4-ffb06b1e8691",
   "metadata": {},
   "outputs": [],
   "source": [
    "# 6. Aggregated cellular fates, the whiskers correspond to the standard error of the mean.\n",
    "# 6.1 Aggregated cellular fates for terminal states (backward=False)\n",
    "cr.pl.cluster_fates(adata, mode=\"bar\", backward=False, cluster_key=\"leiden\")"
   ]
  },
  {
   "cell_type": "code",
   "execution_count": null,
   "id": "5d42212a-c7ac-4a80-8d11-2aa5d61edb7d",
   "metadata": {},
   "outputs": [],
   "source": [
    "cr.pl.cluster_fates(adata, mode=\"violin\", backward=False, cluster_key=\"leiden\")"
   ]
  },
  {
   "cell_type": "code",
   "execution_count": null,
   "id": "9c12ac19-86ef-4cb7-a7cc-796b9984d5dd",
   "metadata": {},
   "outputs": [],
   "source": [
    "cr.pl.cluster_fates(adata, mode=\"heatmap\", backward=False, cluster_key=\"leiden\")"
   ]
  },
  {
   "cell_type": "code",
   "execution_count": null,
   "id": "5dc85f44-b3fe-4c6f-838d-bfdb1e837b89",
   "metadata": {
    "tags": []
   },
   "outputs": [],
   "source": [
    "cr.pl.cluster_fates(adata, mode=\"clustermap\", backward=False, cluster_key=\"leiden\")"
   ]
  },
  {
   "cell_type": "code",
   "execution_count": null,
   "id": "d9065ff8-4060-4047-a224-69c4f3971a97",
   "metadata": {},
   "outputs": [],
   "source": [
    "# 6.2 Aggregated cellular fates for initial states (backward=True)\n",
    "cr.pl.cluster_fates(adata, mode=\"bar\", backward=True, cluster_key=\"leiden\")"
   ]
  },
  {
   "cell_type": "code",
   "execution_count": null,
   "id": "aac21309-2fe5-4994-81d8-ac7fa9377906",
   "metadata": {},
   "outputs": [],
   "source": [
    "cr.pl.cluster_fates(adata, mode=\"violin\", backward=True, cluster_key=\"leiden\")"
   ]
  },
  {
   "cell_type": "code",
   "execution_count": null,
   "id": "12615fe9-893e-42ee-8647-ca42f75c4c50",
   "metadata": {},
   "outputs": [],
   "source": [
    "cr.pl.cluster_fates(adata, mode=\"heatmap\", backward=True, cluster_key=\"leiden\")"
   ]
  },
  {
   "cell_type": "code",
   "execution_count": null,
   "id": "054a9f1c-765e-4579-ad5d-10c0c951d39f",
   "metadata": {
    "tags": []
   },
   "outputs": [],
   "source": [
    "cr.pl.cluster_fates(adata, mode=\"clustermap\", backward=True, cluster_key=\"leiden\")"
   ]
  },
  {
   "cell_type": "code",
   "execution_count": null,
   "id": "a07aa113-def3-4758-9fec-aa9e8f3e994e",
   "metadata": {
    "tags": []
   },
   "outputs": [],
   "source": [
    "# 7. Fate circular map\n",
    "cr.pl.circular_projection(adata, keys=\"leiden\", legend_loc=\"right\")\n",
    "adata"
   ]
  },
  {
   "cell_type": "code",
   "execution_count": null,
   "id": "d073744d-2c4a-42e2-910a-fa3ee7bfb130",
   "metadata": {},
   "outputs": [],
   "source": [
    "adata.obs[\"initial_states\"]"
   ]
  },
  {
   "cell_type": "code",
   "execution_count": null,
   "id": "6da50df8-b367-45ce-a481-7750c7fb7b03",
   "metadata": {},
   "outputs": [],
   "source": [
    "# 8. check whether DPT and ct_pseudotimeare are consistent with CellRank determined fate\n",
    "root_idx = np.where(adata.obs[\"initial_states\"] == \"Squamous epithelial\")[0][0]\n",
    "adata.uns[\"iroot\"] = root_idx\n",
    "sc.tl.dpt(adata)\n",
    "adata"
   ]
  },
  {
   "cell_type": "code",
   "execution_count": null,
   "id": "3bf06fd2-2a83-4fec-92c9-bad58ff7470d",
   "metadata": {},
   "outputs": [],
   "source": [
    "# different pseudotime maps should be consistent\n",
    "scv.pl.scatter(adata, color=[\"leiden\", root_idx, \"ct_pseudotime\", \"dpt_pseudotime\"],\n",
    "               cmap=\"viridis\", perc=[2, 98], colorbar=True, rescale_color=[0, 1], title=[\"leiden\", \"root cell\", \"ct_pseudotime\", \"dpt_pseudotime\"])"
   ]
  },
  {
   "cell_type": "code",
   "execution_count": null,
   "id": "700d588a-40d8-477c-a52e-b96a77d62c4e",
   "metadata": {},
   "outputs": [],
   "source": [
    "# 9. Gene expression trends, use the computed probabilities to smooth gene expression trends (pseudotime) along lineages\n",
    "model = cr.ul.models.GAM(adata)    # should run this first"
   ]
  },
  {
   "cell_type": "code",
   "execution_count": null,
   "id": "90cc1c67-1d6c-4e14-89de-612f1ea2a90e",
   "metadata": {
    "tags": []
   },
   "outputs": [],
   "source": [
    "# 9.1 gene trends for terminal states (backward=False)\n",
    "adata.varm['terminal_lineage_drivers'].sort_values(by=\"Pit_1_corr\", ascending=False)"
   ]
  },
  {
   "cell_type": "code",
   "execution_count": null,
   "id": "53796d6a-1369-4a6b-bca4-cc0e51dc8ec4",
   "metadata": {
    "tags": []
   },
   "outputs": [],
   "source": [
    "# plot dynamics of genes in latent time along individual trajectories\n",
    "cr.pl.gene_trends(adata, model, data_key=\"X\", genes=[\"Bnip3\"], time_key=\"ct_pseudotime\", same_plot=True, hide_cells=True, n_test_points=200, backward=False, n_jobs=8)"
   ]
  },
  {
   "cell_type": "code",
   "execution_count": null,
   "id": "50385ffb-1fa6-46ec-a06c-1bdb7f6edc50",
   "metadata": {
    "tags": []
   },
   "outputs": [],
   "source": [
    "# visualize the lineage drivers in a flow heatmap\n",
    "# use Alpha terminal lineage for example, we smooth gene expression for the putative Alpha-drivers in pseudotime, using cell-level weights the Alpha fate probabilities\n",
    "cr.pl.heatmap(adata, model, genes=adata.varm['terminal_lineage_drivers'][\"0_corr\"].sort_values(ascending=False).index[:50], lineages=\"0\",\n",
    "              time_key=\"ct_pseudotime\", show_absorption_probabilities=True, show_all_genes=True, n_jobs=8, backend=\"loky\", backward=False, save=\"6.pdf\")    # too many n_jobs kills this step"
   ]
  },
  {
   "cell_type": "code",
   "execution_count": null,
   "id": "871b4b69-e417-49ed-ad57-34c5bd38c62a",
   "metadata": {
    "tags": []
   },
   "outputs": [],
   "source": [
    "# also can draw with self defined genes\n",
    "cr.pl.heatmap(adata, model, genes=['Sox6'], lineages=\"0\",\n",
    "              time_key=\"ct_pseudotime\", show_absorption_probabilities=True, show_all_genes=False, n_jobs=8, backend=\"loky\", backward=False)    # too many n_jobs kills this step"
   ]
  },
  {
   "cell_type": "code",
   "execution_count": null,
   "id": "95f09e35-9f9b-4ecb-9d06-b9af75eb17ce",
   "metadata": {
    "tags": []
   },
   "outputs": [],
   "source": [
    "# plot trends of specific gene across lineages\n",
    "cr.pl.heatmap(adata, model, genes=['Sox6'], mode='genes',\n",
    "              time_key=\"ct_pseudotime\", show_all_genes=False, n_jobs=8, backend=\"loky\", backward=False)    # too many n_jobs kills this step"
   ]
  },
  {
   "cell_type": "code",
   "execution_count": null,
   "id": "8f01971b-f76f-44ef-a097-52c719905350",
   "metadata": {
    "tags": []
   },
   "outputs": [],
   "source": [
    "# plot '12.0-6-Somite_1' lineage genes across clusters\n",
    "cr.pl.cluster_lineage(adata, model, genes=adata.varm['terminal_lineage_drivers'][\"0_corr\"].sort_values(ascending=False).index, lineage=\"0\",\n",
    "                      time_key=\"ct_pseudotime\", n_jobs=8, backward=False)"
   ]
  },
  {
   "cell_type": "code",
   "execution_count": null,
   "id": "dbf77184-d1be-4763-8b7c-54b336339adc",
   "metadata": {},
   "outputs": [],
   "source": [
    "adata.uns[\"lineage_0_trend\"].obs[\"clusters\"]"
   ]
  },
  {
   "cell_type": "code",
   "execution_count": null,
   "id": "56af9ec2-6167-49f4-982c-585627063601",
   "metadata": {
    "tags": []
   },
   "outputs": [],
   "source": [
    "# 9.2 gene trends for initial states (backward=True)\n",
    "adata.varm['initial_lineage_drivers'].sort_values(by=\"3_corr\", ascending=False).to_csv('D:/HYJ/OneDrive - Inside MD Anderson/Gengyi_MSO/KP_initial_lineage_drivers.csv')"
   ]
  },
  {
   "cell_type": "code",
   "execution_count": null,
   "id": "2ebe8454-6ebd-4f5d-a2dc-1debda048100",
   "metadata": {
    "tags": []
   },
   "outputs": [],
   "source": [
    "# plot dynamics of genes in latent time along individual trajectories\n",
    "cr.pl.gene_trends(adata, model, data_key=\"X\", genes=['Ccnd1'], time_key=\"ct_pseudotime\", same_plot=True, hide_cells=True, n_test_points=200, backward=True, n_jobs=8)"
   ]
  },
  {
   "cell_type": "code",
   "execution_count": null,
   "id": "221f79d5-fec5-4415-a17a-f56cc1e0c63f",
   "metadata": {
    "tags": []
   },
   "outputs": [],
   "source": [
    "# visualize the lineage drivers in a flow heatmap\n",
    "cr.pl.heatmap(adata, model, genes=adata.varm['initial_lineage_drivers'][\"3_corr\"].sort_values(ascending=True).index[:50], lineages=\"3\",\n",
    "              time_key=\"ct_pseudotime\", show_absorption_probabilities=True, show_all_genes=True, n_jobs=8, backend=\"loky\", backward=True, save=\"7.pdf\")    # too many n_jobs kills this step"
   ]
  },
  {
   "cell_type": "code",
   "execution_count": null,
   "id": "31736d88-ac95-40ad-ba77-e6596ad19d69",
   "metadata": {
    "tags": []
   },
   "outputs": [],
   "source": [
    "# also can draw with self defined genes\n",
    "cr.pl.heatmap(adata, model, genes=['Ccnd1'], lineages=\"3\",\n",
    "              time_key=\"ct_pseudotime\", show_absorption_probabilities=True, show_all_genes=True, n_jobs=8, backend=\"loky\", backward=True)    # too many n_jobs kills this step"
   ]
  },
  {
   "cell_type": "code",
   "execution_count": null,
   "id": "ec1f16e5-65a6-48e5-81fd-92670b640b3a",
   "metadata": {
    "tags": []
   },
   "outputs": [],
   "source": [
    "# plot trends of specific gene across lineages\n",
    "cr.pl.heatmap(adata, model, genes=['Ccnd1'], mode='genes',\n",
    "              time_key=\"ct_pseudotime\", show_all_genes=False, n_jobs=8, backend=\"loky\", backward=True)    # too many n_jobs kills this step"
   ]
  },
  {
   "cell_type": "code",
   "execution_count": null,
   "id": "a9765b8e-24ae-4cc8-98f1-232d3c6e2702",
   "metadata": {
    "tags": []
   },
   "outputs": [],
   "source": [
    "# plot 'Ngn3 low EP' lineage genes across clusters\n",
    "cr.pl.cluster_lineage(adata, model, genes=adata.varm['initial_lineage_drivers'][\"3_corr\"].sort_values(ascending=True).index, lineage=\"3\",\n",
    "                      time_key=\"ct_pseudotime\", n_jobs=8, backward=True)"
   ]
  },
  {
   "cell_type": "code",
   "execution_count": null,
   "id": "4b0dd7ca-72e3-441b-b609-5f3a54609aee",
   "metadata": {
    "tags": []
   },
   "outputs": [],
   "source": [
    "adata.uns['lineage_3_trend'].obs[\"clusters\"]"
   ]
  },
  {
   "cell_type": "code",
   "execution_count": null,
   "id": "38166502-7be7-4906-9be2-af020af32260",
   "metadata": {},
   "outputs": [],
   "source": []
  }
 ],
 "metadata": {
  "kernelspec": {
   "display_name": "Python 3 (ipykernel)",
   "language": "python",
   "name": "python3"
  },
  "language_info": {
   "codemirror_mode": {
    "name": "ipython",
    "version": 3
   },
   "file_extension": ".py",
   "mimetype": "text/x-python",
   "name": "python",
   "nbconvert_exporter": "python",
   "pygments_lexer": "ipython3",
   "version": "3.8.13"
  }
 },
 "nbformat": 4,
 "nbformat_minor": 5
}
